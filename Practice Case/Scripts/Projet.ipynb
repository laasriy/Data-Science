{
 "cells": [
  {
   "cell_type": "markdown",
   "metadata": {},
   "source": [
    "# Practice case"
   ]
  },
  {
   "cell_type": "markdown",
   "metadata": {},
   "source": [
    "## The Database:\n",
    "\n",
    "The sales database of a furniture e-commerce site (marketplace).\n",
    "\n",
    "## Variables:\n",
    "\n",
    "**Cod_cmd:** Order code.\n",
    "\n",
    "**Libellé produit:** Description of the sold products.\n",
    "\n",
    "**Vendeur:** Sellers.\n",
    "\n",
    "**Univers:** Product categories.\n",
    "\n",
    "**Nature:** Subcategories of the sold products.\n",
    "\n",
    "**Date de commande:** Order date.\n",
    "\n",
    "**Montant cmd:** Order amount.\n",
    "\n",
    "**Quantité:** Quantity sold.\n",
    "\n",
    "**Prix transport:** Transport price.\n",
    "\n",
    "**Délai transport annoncé:** Transport delay announced by the seller."
   ]
  },
  {
   "cell_type": "markdown",
   "metadata": {},
   "source": [
    "### Importing necessary libraries"
   ]
  },
  {
   "cell_type": "code",
   "execution_count": 26,
   "metadata": {},
   "outputs": [],
   "source": [
    "import pandas as pd\n",
    "import numpy as np\n",
    "import matplotlib.pyplot as plt\n",
    "import seaborn as sn\n",
    "import plotly.express as px\n",
    "import plotly.graph_objects as go\n",
    "from plotly.subplots import make_subplots\n",
    "from datetime import datetime\n",
    "from PIL import Image\n",
    "from wordcloud import WordCloud, STOPWORDS, ImageColorGenerator\n",
    "import re\n",
    "from nltk.tokenize import word_tokenize\n",
    "import nltk\n",
    "from unidecode import unidecode \n",
    "from sklearn.linear_model import LogisticRegression\n",
    "from sklearn.feature_extraction.text import TfidfVectorizer\n",
    "from nltk.corpus import stopwords as nltk_stopwords\n",
    "from sklearn.model_selection import train_test_split\n",
    "from sklearn.metrics import accuracy_score, classification_report, confusion_matrix\n",
    "from sklearn.preprocessing import LabelEncoder\n",
    "from sklearn.naive_bayes import MultinomialNB\n",
    "from scipy.sparse import hstack\n",
    "pd.set_option('display.max_columns', None)\n",
    "pd.set_option('display.max_rows', None)"
   ]
  },
  {
   "cell_type": "markdown",
   "metadata": {},
   "source": [
    "### Importing the dataset"
   ]
  },
  {
   "cell_type": "code",
   "execution_count": 7,
   "metadata": {},
   "outputs": [
    {
     "data": {
      "text/html": [
       "<div>\n",
       "<style scoped>\n",
       "    .dataframe tbody tr th:only-of-type {\n",
       "        vertical-align: middle;\n",
       "    }\n",
       "\n",
       "    .dataframe tbody tr th {\n",
       "        vertical-align: top;\n",
       "    }\n",
       "\n",
       "    .dataframe thead th {\n",
       "        text-align: right;\n",
       "    }\n",
       "</style>\n",
       "<table border=\"1\" class=\"dataframe\">\n",
       "  <thead>\n",
       "    <tr style=\"text-align: right;\">\n",
       "      <th></th>\n",
       "      <th>Cod_cmd</th>\n",
       "      <th>Libellé produit</th>\n",
       "      <th>Vendeur</th>\n",
       "      <th>Univers</th>\n",
       "      <th>Nature</th>\n",
       "      <th>Date de commande</th>\n",
       "      <th>Montant cmd</th>\n",
       "      <th>Quantité</th>\n",
       "      <th>Prix transport</th>\n",
       "      <th>Délai transport annoncé</th>\n",
       "    </tr>\n",
       "  </thead>\n",
       "  <tbody>\n",
       "    <tr>\n",
       "      <th>0</th>\n",
       "      <td>182210782</td>\n",
       "      <td>Table basse carrée detroit design industriel</td>\n",
       "      <td>Autre vendeur</td>\n",
       "      <td>Canapé Salon Séjour</td>\n",
       "      <td>Table basse</td>\n",
       "      <td>44216</td>\n",
       "      <td>244</td>\n",
       "      <td>4</td>\n",
       "      <td>6.67</td>\n",
       "      <td>10.0</td>\n",
       "    </tr>\n",
       "    <tr>\n",
       "      <th>1</th>\n",
       "      <td>182082437</td>\n",
       "      <td>Ours en peluche géant 150 cm brun</td>\n",
       "      <td>Autre vendeur</td>\n",
       "      <td>Enfant Bébé</td>\n",
       "      <td>Peluche</td>\n",
       "      <td>44213</td>\n",
       "      <td>28</td>\n",
       "      <td>1</td>\n",
       "      <td>9.92</td>\n",
       "      <td>10.0</td>\n",
       "    </tr>\n",
       "    <tr>\n",
       "      <th>2</th>\n",
       "      <td>182095765</td>\n",
       "      <td>Ours en peluche géant 100 cm blanc</td>\n",
       "      <td>Autre vendeur</td>\n",
       "      <td>Enfant Bébé</td>\n",
       "      <td>Peluche</td>\n",
       "      <td>44214</td>\n",
       "      <td>15</td>\n",
       "      <td>1</td>\n",
       "      <td>9.92</td>\n",
       "      <td>10.0</td>\n",
       "    </tr>\n",
       "    <tr>\n",
       "      <th>3</th>\n",
       "      <td>182615392</td>\n",
       "      <td>Lot de 4 chaises mia noires pour salle à manger</td>\n",
       "      <td>Autre vendeur</td>\n",
       "      <td>Canapé Salon Séjour</td>\n",
       "      <td>Chaise</td>\n",
       "      <td>44219</td>\n",
       "      <td>385</td>\n",
       "      <td>2</td>\n",
       "      <td>20.75</td>\n",
       "      <td>10.0</td>\n",
       "    </tr>\n",
       "    <tr>\n",
       "      <th>4</th>\n",
       "      <td>184222081</td>\n",
       "      <td>Meuble tv falko bois blanc et gris</td>\n",
       "      <td>Autre vendeur</td>\n",
       "      <td>Canapé Salon Séjour</td>\n",
       "      <td>Meuble tv</td>\n",
       "      <td>44238</td>\n",
       "      <td>61</td>\n",
       "      <td>1</td>\n",
       "      <td>19.08</td>\n",
       "      <td>10.0</td>\n",
       "    </tr>\n",
       "  </tbody>\n",
       "</table>\n",
       "</div>"
      ],
      "text/plain": [
       "     Cod_cmd                                  Libellé produit        Vendeur  \\\n",
       "0  182210782     Table basse carrée detroit design industriel  Autre vendeur   \n",
       "1  182082437                Ours en peluche géant 150 cm brun  Autre vendeur   \n",
       "2  182095765               Ours en peluche géant 100 cm blanc  Autre vendeur   \n",
       "3  182615392  Lot de 4 chaises mia noires pour salle à manger  Autre vendeur   \n",
       "4  184222081               Meuble tv falko bois blanc et gris  Autre vendeur   \n",
       "\n",
       "               Univers       Nature  Date de commande  Montant cmd  Quantité  \\\n",
       "0  Canapé Salon Séjour  Table basse             44216          244         4   \n",
       "1          Enfant Bébé      Peluche             44213           28         1   \n",
       "2          Enfant Bébé      Peluche             44214           15         1   \n",
       "3  Canapé Salon Séjour       Chaise             44219          385         2   \n",
       "4  Canapé Salon Séjour    Meuble tv             44238           61         1   \n",
       "\n",
       "   Prix transport  Délai transport annoncé  \n",
       "0            6.67                     10.0  \n",
       "1            9.92                     10.0  \n",
       "2            9.92                     10.0  \n",
       "3           20.75                     10.0  \n",
       "4           19.08                     10.0  "
      ]
     },
     "execution_count": 7,
     "metadata": {},
     "output_type": "execute_result"
    }
   ],
   "source": [
    "d = pd.read_excel('C:/Users/etulyon1/Desktop/Data-Science/Practice Case/Data/20210614 Ecommerce sales.xlsb')\n",
    "d.head()"
   ]
  },
  {
   "cell_type": "markdown",
   "metadata": {},
   "source": [
    "## Data Cleaning"
   ]
  },
  {
   "cell_type": "code",
   "execution_count": 8,
   "metadata": {},
   "outputs": [
    {
     "name": "stdout",
     "output_type": "stream",
     "text": [
      "<class 'pandas.core.frame.DataFrame'>\n",
      "RangeIndex: 525034 entries, 0 to 525033\n",
      "Data columns (total 10 columns):\n",
      " #   Column                   Non-Null Count   Dtype  \n",
      "---  ------                   --------------   -----  \n",
      " 0   Cod_cmd                  525034 non-null  int64  \n",
      " 1   Libellé produit          525034 non-null  object \n",
      " 2   Vendeur                  525034 non-null  object \n",
      " 3   Univers                  507347 non-null  object \n",
      " 4   Nature                   513289 non-null  object \n",
      " 5   Date de commande         525034 non-null  int64  \n",
      " 6   Montant cmd              525034 non-null  int64  \n",
      " 7   Quantité                 525034 non-null  int64  \n",
      " 8   Prix transport           525034 non-null  float64\n",
      " 9   Délai transport annoncé  285611 non-null  float64\n",
      "dtypes: float64(2), int64(4), object(4)\n",
      "memory usage: 40.1+ MB\n"
     ]
    }
   ],
   "source": [
    "d.info()"
   ]
  },
  {
   "cell_type": "code",
   "execution_count": 9,
   "metadata": {},
   "outputs": [
    {
     "data": {
      "text/html": [
       "<div>\n",
       "<style scoped>\n",
       "    .dataframe tbody tr th:only-of-type {\n",
       "        vertical-align: middle;\n",
       "    }\n",
       "\n",
       "    .dataframe tbody tr th {\n",
       "        vertical-align: top;\n",
       "    }\n",
       "\n",
       "    .dataframe thead th {\n",
       "        text-align: right;\n",
       "    }\n",
       "</style>\n",
       "<table border=\"1\" class=\"dataframe\">\n",
       "  <thead>\n",
       "    <tr style=\"text-align: right;\">\n",
       "      <th></th>\n",
       "      <th>Cod_cmd</th>\n",
       "      <th>Libellé produit</th>\n",
       "      <th>Vendeur</th>\n",
       "      <th>Univers</th>\n",
       "      <th>Nature</th>\n",
       "      <th>Date de commande</th>\n",
       "      <th>Montant cmd</th>\n",
       "      <th>Quantité</th>\n",
       "      <th>Prix transport</th>\n",
       "      <th>Délai transport annoncé</th>\n",
       "      <th>Montant cmd sans transport</th>\n",
       "    </tr>\n",
       "  </thead>\n",
       "  <tbody>\n",
       "    <tr>\n",
       "      <th>0</th>\n",
       "      <td>182210782</td>\n",
       "      <td>Table basse carrée detroit design industriel</td>\n",
       "      <td>Autre vendeur</td>\n",
       "      <td>Canapé Salon Séjour</td>\n",
       "      <td>Table basse</td>\n",
       "      <td>44216</td>\n",
       "      <td>244</td>\n",
       "      <td>4</td>\n",
       "      <td>6.67</td>\n",
       "      <td>10.0</td>\n",
       "      <td>237.33</td>\n",
       "    </tr>\n",
       "    <tr>\n",
       "      <th>1</th>\n",
       "      <td>182082437</td>\n",
       "      <td>Ours en peluche géant 150 cm brun</td>\n",
       "      <td>Autre vendeur</td>\n",
       "      <td>Enfant Bébé</td>\n",
       "      <td>Peluche</td>\n",
       "      <td>44213</td>\n",
       "      <td>28</td>\n",
       "      <td>1</td>\n",
       "      <td>9.92</td>\n",
       "      <td>10.0</td>\n",
       "      <td>18.08</td>\n",
       "    </tr>\n",
       "    <tr>\n",
       "      <th>2</th>\n",
       "      <td>182095765</td>\n",
       "      <td>Ours en peluche géant 100 cm blanc</td>\n",
       "      <td>Autre vendeur</td>\n",
       "      <td>Enfant Bébé</td>\n",
       "      <td>Peluche</td>\n",
       "      <td>44214</td>\n",
       "      <td>15</td>\n",
       "      <td>1</td>\n",
       "      <td>9.92</td>\n",
       "      <td>10.0</td>\n",
       "      <td>5.08</td>\n",
       "    </tr>\n",
       "    <tr>\n",
       "      <th>3</th>\n",
       "      <td>182615392</td>\n",
       "      <td>Lot de 4 chaises mia noires pour salle à manger</td>\n",
       "      <td>Autre vendeur</td>\n",
       "      <td>Canapé Salon Séjour</td>\n",
       "      <td>Chaise</td>\n",
       "      <td>44219</td>\n",
       "      <td>385</td>\n",
       "      <td>2</td>\n",
       "      <td>20.75</td>\n",
       "      <td>10.0</td>\n",
       "      <td>364.25</td>\n",
       "    </tr>\n",
       "    <tr>\n",
       "      <th>4</th>\n",
       "      <td>184222081</td>\n",
       "      <td>Meuble tv falko bois blanc et gris</td>\n",
       "      <td>Autre vendeur</td>\n",
       "      <td>Canapé Salon Séjour</td>\n",
       "      <td>Meuble tv</td>\n",
       "      <td>44238</td>\n",
       "      <td>61</td>\n",
       "      <td>1</td>\n",
       "      <td>19.08</td>\n",
       "      <td>10.0</td>\n",
       "      <td>41.92</td>\n",
       "    </tr>\n",
       "  </tbody>\n",
       "</table>\n",
       "</div>"
      ],
      "text/plain": [
       "     Cod_cmd                                  Libellé produit        Vendeur  \\\n",
       "0  182210782     Table basse carrée detroit design industriel  Autre vendeur   \n",
       "1  182082437                Ours en peluche géant 150 cm brun  Autre vendeur   \n",
       "2  182095765               Ours en peluche géant 100 cm blanc  Autre vendeur   \n",
       "3  182615392  Lot de 4 chaises mia noires pour salle à manger  Autre vendeur   \n",
       "4  184222081               Meuble tv falko bois blanc et gris  Autre vendeur   \n",
       "\n",
       "               Univers       Nature  Date de commande  Montant cmd  Quantité  \\\n",
       "0  Canapé Salon Séjour  Table basse             44216          244         4   \n",
       "1          Enfant Bébé      Peluche             44213           28         1   \n",
       "2          Enfant Bébé      Peluche             44214           15         1   \n",
       "3  Canapé Salon Séjour       Chaise             44219          385         2   \n",
       "4  Canapé Salon Séjour    Meuble tv             44238           61         1   \n",
       "\n",
       "   Prix transport  Délai transport annoncé  Montant cmd sans transport  \n",
       "0            6.67                     10.0                      237.33  \n",
       "1            9.92                     10.0                       18.08  \n",
       "2            9.92                     10.0                        5.08  \n",
       "3           20.75                     10.0                      364.25  \n",
       "4           19.08                     10.0                       41.92  "
      ]
     },
     "execution_count": 9,
     "metadata": {},
     "output_type": "execute_result"
    }
   ],
   "source": [
    "d.dropna(inplace=True)\n",
    "d['Montant cmd sans transport'] = d['Montant cmd'] - d['Prix transport']\n",
    "d.head()"
   ]
  },
  {
   "cell_type": "code",
   "execution_count": 10,
   "metadata": {},
   "outputs": [
    {
     "data": {
      "text/html": [
       "<div>\n",
       "<style scoped>\n",
       "    .dataframe tbody tr th:only-of-type {\n",
       "        vertical-align: middle;\n",
       "    }\n",
       "\n",
       "    .dataframe tbody tr th {\n",
       "        vertical-align: top;\n",
       "    }\n",
       "\n",
       "    .dataframe thead th {\n",
       "        text-align: right;\n",
       "    }\n",
       "</style>\n",
       "<table border=\"1\" class=\"dataframe\">\n",
       "  <thead>\n",
       "    <tr style=\"text-align: right;\">\n",
       "      <th></th>\n",
       "      <th>Cod_cmd</th>\n",
       "      <th>Libellé produit</th>\n",
       "      <th>Vendeur</th>\n",
       "      <th>Univers</th>\n",
       "      <th>Nature</th>\n",
       "      <th>Date de commande</th>\n",
       "      <th>Montant cmd</th>\n",
       "      <th>Quantité</th>\n",
       "      <th>Prix transport</th>\n",
       "      <th>Délai transport annoncé</th>\n",
       "      <th>Montant cmd sans transport</th>\n",
       "    </tr>\n",
       "  </thead>\n",
       "  <tbody>\n",
       "    <tr>\n",
       "      <th>0</th>\n",
       "      <td>182210782</td>\n",
       "      <td>Table basse carrée detroit design industriel</td>\n",
       "      <td>Autre vendeur</td>\n",
       "      <td>Canapé Salon Séjour</td>\n",
       "      <td>Table basse</td>\n",
       "      <td>2021-01-22</td>\n",
       "      <td>244</td>\n",
       "      <td>4</td>\n",
       "      <td>6.67</td>\n",
       "      <td>10.0</td>\n",
       "      <td>237.33</td>\n",
       "    </tr>\n",
       "    <tr>\n",
       "      <th>1</th>\n",
       "      <td>182082437</td>\n",
       "      <td>Ours en peluche géant 150 cm brun</td>\n",
       "      <td>Autre vendeur</td>\n",
       "      <td>Enfant Bébé</td>\n",
       "      <td>Peluche</td>\n",
       "      <td>2021-01-19</td>\n",
       "      <td>28</td>\n",
       "      <td>1</td>\n",
       "      <td>9.92</td>\n",
       "      <td>10.0</td>\n",
       "      <td>18.08</td>\n",
       "    </tr>\n",
       "    <tr>\n",
       "      <th>2</th>\n",
       "      <td>182095765</td>\n",
       "      <td>Ours en peluche géant 100 cm blanc</td>\n",
       "      <td>Autre vendeur</td>\n",
       "      <td>Enfant Bébé</td>\n",
       "      <td>Peluche</td>\n",
       "      <td>2021-01-20</td>\n",
       "      <td>15</td>\n",
       "      <td>1</td>\n",
       "      <td>9.92</td>\n",
       "      <td>10.0</td>\n",
       "      <td>5.08</td>\n",
       "    </tr>\n",
       "    <tr>\n",
       "      <th>3</th>\n",
       "      <td>182615392</td>\n",
       "      <td>Lot de 4 chaises mia noires pour salle à manger</td>\n",
       "      <td>Autre vendeur</td>\n",
       "      <td>Canapé Salon Séjour</td>\n",
       "      <td>Chaise</td>\n",
       "      <td>2021-01-25</td>\n",
       "      <td>385</td>\n",
       "      <td>2</td>\n",
       "      <td>20.75</td>\n",
       "      <td>10.0</td>\n",
       "      <td>364.25</td>\n",
       "    </tr>\n",
       "    <tr>\n",
       "      <th>4</th>\n",
       "      <td>184222081</td>\n",
       "      <td>Meuble tv falko bois blanc et gris</td>\n",
       "      <td>Autre vendeur</td>\n",
       "      <td>Canapé Salon Séjour</td>\n",
       "      <td>Meuble tv</td>\n",
       "      <td>2021-02-13</td>\n",
       "      <td>61</td>\n",
       "      <td>1</td>\n",
       "      <td>19.08</td>\n",
       "      <td>10.0</td>\n",
       "      <td>41.92</td>\n",
       "    </tr>\n",
       "  </tbody>\n",
       "</table>\n",
       "</div>"
      ],
      "text/plain": [
       "     Cod_cmd                                  Libellé produit        Vendeur  \\\n",
       "0  182210782     Table basse carrée detroit design industriel  Autre vendeur   \n",
       "1  182082437                Ours en peluche géant 150 cm brun  Autre vendeur   \n",
       "2  182095765               Ours en peluche géant 100 cm blanc  Autre vendeur   \n",
       "3  182615392  Lot de 4 chaises mia noires pour salle à manger  Autre vendeur   \n",
       "4  184222081               Meuble tv falko bois blanc et gris  Autre vendeur   \n",
       "\n",
       "               Univers       Nature Date de commande  Montant cmd  Quantité  \\\n",
       "0  Canapé Salon Séjour  Table basse       2021-01-22          244         4   \n",
       "1          Enfant Bébé      Peluche       2021-01-19           28         1   \n",
       "2          Enfant Bébé      Peluche       2021-01-20           15         1   \n",
       "3  Canapé Salon Séjour       Chaise       2021-01-25          385         2   \n",
       "4  Canapé Salon Séjour    Meuble tv       2021-02-13           61         1   \n",
       "\n",
       "   Prix transport  Délai transport annoncé  Montant cmd sans transport  \n",
       "0            6.67                     10.0                      237.33  \n",
       "1            9.92                     10.0                       18.08  \n",
       "2            9.92                     10.0                        5.08  \n",
       "3           20.75                     10.0                      364.25  \n",
       "4           19.08                     10.0                       41.92  "
      ]
     },
     "execution_count": 10,
     "metadata": {},
     "output_type": "execute_result"
    }
   ],
   "source": [
    "d['Date de commande'] = pd.to_datetime(d['Date de commande'], errors='coerce', unit='D', origin='1900-01-01')\n",
    "d = d[~d['Date de commande'].isna()]\n",
    "d['Date de commande'] = d['Date de commande'].dt.strftime('%Y-%m-%d')\n",
    "d['Date de commande'] = d['Date de commande'].apply(lambda x: datetime.fromisoformat(x))\n",
    "d.head()"
   ]
  },
  {
   "cell_type": "code",
   "execution_count": 11,
   "metadata": {},
   "outputs": [
    {
     "name": "stdout",
     "output_type": "stream",
     "text": [
      "<class 'pandas.core.frame.DataFrame'>\n",
      "Index: 284496 entries, 0 to 525033\n",
      "Data columns (total 11 columns):\n",
      " #   Column                      Non-Null Count   Dtype         \n",
      "---  ------                      --------------   -----         \n",
      " 0   Cod_cmd                     284496 non-null  int64         \n",
      " 1   Libellé produit             284496 non-null  object        \n",
      " 2   Vendeur                     284496 non-null  object        \n",
      " 3   Univers                     284496 non-null  object        \n",
      " 4   Nature                      284496 non-null  object        \n",
      " 5   Date de commande            284496 non-null  datetime64[ns]\n",
      " 6   Montant cmd                 284496 non-null  int64         \n",
      " 7   Quantité                    284496 non-null  int64         \n",
      " 8   Prix transport              284496 non-null  float64       \n",
      " 9   Délai transport annoncé     284496 non-null  float64       \n",
      " 10  Montant cmd sans transport  284496 non-null  float64       \n",
      "dtypes: datetime64[ns](1), float64(3), int64(3), object(4)\n",
      "memory usage: 26.0+ MB\n"
     ]
    }
   ],
   "source": [
    "d.info()"
   ]
  },
  {
   "cell_type": "code",
   "execution_count": 12,
   "metadata": {},
   "outputs": [
    {
     "name": "stdout",
     "output_type": "stream",
     "text": [
      "Cod_cmd : 0\n",
      "Libellé produit : 0\n",
      "Vendeur : 0\n",
      "Univers : 0\n",
      "Nature : 0\n",
      "Date de commande : 0\n",
      "Montant cmd : 0\n",
      "Quantité : 0\n",
      "Prix transport : 0\n",
      "Délai transport annoncé : 0\n",
      "Montant cmd sans transport : 0\n"
     ]
    }
   ],
   "source": [
    "for column in d.columns:\n",
    "    null = d[column].isna().sum()\n",
    "    print(f\"{column} : {null}\")"
   ]
  },
  {
   "cell_type": "code",
   "execution_count": 13,
   "metadata": {},
   "outputs": [
    {
     "name": "stdout",
     "output_type": "stream",
     "text": [
      "Cod_cmd : 24.762035318598503\n",
      "Libellé produit : 83.79063326022158\n",
      "Vendeur : 99.9975395084641\n",
      "Univers : 99.99648501209157\n",
      "Nature : 99.8049181710815\n",
      "Date de commande : 99.96836510882403\n",
      "Montant cmd : 99.29665091952083\n",
      "Quantité : 99.98769754232045\n",
      "Prix transport : 99.82460210336876\n",
      "Délai transport annoncé : 99.97398908947753\n",
      "Montant cmd sans transport : 96.68431190596705\n"
     ]
    }
   ],
   "source": [
    "for column in d.columns:\n",
    "    null = (d[column].duplicated().sum()/len(d[column]))*100\n",
    "    print(f\"{column} : {null}\")"
   ]
  },
  {
   "cell_type": "markdown",
   "metadata": {},
   "source": [
    "## Data Visualization"
   ]
  },
  {
   "cell_type": "markdown",
   "metadata": {},
   "source": [
    "Revenue breakdown of sellers"
   ]
  },
  {
   "cell_type": "code",
   "execution_count": 14,
   "metadata": {},
   "outputs": [
    {
     "data": {
      "image/png": "[encoded data removed]",
      "text/plain": [
       "<Figure size 1000x600 with 1 Axes>"
      ]
     },
     "metadata": {},
     "output_type": "display_data"
    }
   ],
   "source": [
    "\n",
    "vente_vendeurs = {}\n",
    "for vendeur, vente, transport in zip(d['Vendeur'], d['Montant cmd sans transport'], d['Prix transport']):\n",
    "    if vendeur in vente_vendeurs:\n",
    "        vente_vendeurs[vendeur][0] += vente\n",
    "        vente_vendeurs[vendeur][1] += transport\n",
    "    else:\n",
    "        vente_vendeurs[vendeur] = [vente, transport]\n",
    "\n",
    "\n",
    "nom_vendeurs = list(vente_vendeurs.keys())\n",
    "tot_ventes = [sum(values) for values in vente_vendeurs.values()]\n",
    "tot_transports = [values[1] for values in vente_vendeurs.values()]\n",
    "\n",
    "\n",
    "plt.figure(figsize=(10, 6))\n",
    "plt.bar(nom_vendeurs, tot_ventes, label='Ventes', color='blue')\n",
    "plt.bar(nom_vendeurs, tot_transports, label='Transport', color='coral', alpha=0.7)\n",
    "plt.xlabel('Vendeurs')\n",
    "plt.ylabel('Montant')\n",
    "plt.title('Composition du chiffre d\\'affaires par vendeur')\n",
    "plt.legend()\n",
    "plt.xticks(rotation=45)\n",
    "\n",
    "plt.tight_layout()\n",
    "plt.show()\n",
    "\n"
   ]
  },
  {
   "cell_type": "markdown",
   "metadata": {},
   "source": [
    "Sales Trend in the Marketplace"
   ]
  },
  {
   "cell_type": "code",
   "execution_count": 15,
   "metadata": {},
   "outputs": [
    {
     "data": {
      "application/vnd.plotly.v1+json": {
       "config": {
        "plotlyServerURL": "https://plot.ly"
       },
       "data": [
        {
         "mode": "lines",
         "name": "Moyenne de CA",
         "type": "scatter",
         "x": [
          "2021-01-03T00:00:00",
          "2021-01-04T00:00:00",
          "2021-01-05T00:00:00",
          "2021-01-06T00:00:00",
          "2021-01-07T00:00:00",
          "2021-01-08T00:00:00",
          "2021-01-09T00:00:00",
          "2021-01-10T00:00:00",
          "2021-01-11T00:00:00",
          "2021-01-12T00:00:00",
          "2021-01-13T00:00:00",
          "2021-01-14T00:00:00",
          "2021-01-15T00:00:00",
          "2021-01-16T00:00:00",
          "2021-01-17T00:00:00",
          "2021-01-18T00:00:00",
          "2021-01-19T00:00:00",
          "2021-01-20T00:00:00",
          "2021-01-21T00:00:00",
          "2021-01-22T00:00:00",
          "2021-01-23T00:00:00",
          "2021-01-24T00:00:00",
          "2021-01-25T00:00:00",
          "2021-01-26T00:00:00",
          "2021-01-27T00:00:00",
          "2021-01-28T00:00:00",
          "2021-01-29T00:00:00",
          "2021-01-30T00:00:00",
          "2021-01-31T00:00:00",
          "2021-02-01T00:00:00",
          "2021-02-02T00:00:00",
          "2021-02-03T00:00:00",
          "2021-02-04T00:00:00",
          "2021-02-05T00:00:00",
          "2021-02-06T00:00:00",
          "2021-02-07T00:00:00",
          "2021-02-08T00:00:00",
          "2021-02-09T00:00:00",
          "2021-02-10T00:00:00",
          "2021-02-11T00:00:00",
          "2021-02-12T00:00:00",
          "2021-02-13T00:00:00",
          "2021-02-14T00:00:00",
          "2021-02-15T00:00:00",
          "2021-02-16T00:00:00",
          "2021-02-17T00:00:00",
          "2021-02-18T00:00:00",
          "2021-02-19T00:00:00",
          "2021-02-20T00:00:00",
          "2021-02-21T00:00:00",
          "2021-02-22T00:00:00",
          "2021-02-23T00:00:00",
          "2021-02-24T00:00:00",
          "2021-02-25T00:00:00",
          "2021-02-26T00:00:00",
          "2021-02-27T00:00:00",
          "2021-02-28T00:00:00",
          "2021-03-01T00:00:00",
          "2021-03-02T00:00:00",
          "2021-03-03T00:00:00",
          "2021-03-04T00:00:00",
          "2021-03-05T00:00:00",
          "2021-03-06T00:00:00",
          "2021-03-07T00:00:00",
          "2021-03-08T00:00:00",
          "2021-03-09T00:00:00",
          "2021-03-10T00:00:00",
          "2021-03-11T00:00:00",
          "2021-03-12T00:00:00",
          "2021-03-13T00:00:00",
          "2021-03-14T00:00:00",
          "2021-03-15T00:00:00",
          "2021-03-16T00:00:00",
          "2021-03-17T00:00:00",
          "2021-03-18T00:00:00",
          "2021-03-19T00:00:00",
          "2021-03-20T00:00:00",
          "2021-03-21T00:00:00",
          "2021-03-22T00:00:00",
          "2021-03-23T00:00:00",
          "2021-03-24T00:00:00",
          "2021-03-25T00:00:00",
          "2021-03-26T00:00:00",
          "2021-03-27T00:00:00",
          "2021-03-28T00:00:00",
          "2021-03-29T00:00:00",
          "2021-03-30T00:00:00",
          "2021-03-31T00:00:00",
          "2021-04-01T00:00:00",
          "2021-04-02T00:00:00"
         ],
         "xaxis": "x",
         "y": [
          193.74265146970606,
          209.62172965116278,
          199.04300341296928,
          199.62810232913327,
          194.32570356472795,
          198.4147768836869,
          191.74609209970427,
          203.42131228416378,
          204.24025487256372,
          207.09793621013134,
          206.4147509578544,
          208.15494978479197,
          207.21448999046711,
          201.49815108293714,
          204.81038506417735,
          197.764440433213,
          189.60034677069788,
          190.0540389972145,
          192.24715447154472,
          242.44353182751541,
          256.02189101071264,
          247.2615193026152,
          289.0637651821862,
          277.42670863309354,
          288.37001209189845,
          277.52623335943616,
          293.73711725168033,
          285.8621575342466,
          279.08246527777777,
          313.0628571428571,
          330.4967741935484,
          316.5917808219178,
          315.90072639225184,
          301.85835095137423,
          308.4320124320124,
          284.7610778443114,
          294.06890299184045,
          275.8714121699196,
          279.06572461386787,
          288.4226765799257,
          259.817433709235,
          247.64693062114057,
          247.6207016325113,
          251.60832095096583,
          242.04425446316318,
          245.68471062482004,
          246.2239921976593,
          244.11995597945707,
          253.7215777262181,
          248.57196652719665,
          254.83173784977907,
          234.8972819216182,
          242.49398353388221,
          249.7941176470588,
          238.33406801007555,
          239.93408723747982,
          240.8791141187327,
          256.3652710681696,
          245.61958822397537,
          256.7450475945459,
          270.78864503816794,
          259.13337149398967,
          245.50075872534143,
          250.542171921315,
          255.34213973799126,
          245.37867338371117,
          247.13347732181427,
          240.46057171020206,
          238.26823096388313,
          248.58831101956747,
          245.82960542849963,
          248.0201612903226,
          236.09022923101935,
          248.11676965693587,
          261.65369297610425,
          258.16695124264845,
          263.0631132917038,
          260.80516853932585,
          256.272269847186,
          247.1261013215859,
          256.532475019216,
          273.9120144069977,
          270.0286818551668,
          268.28,
          266.28568272205035,
          267.2687232856346,
          280.37561274509807,
          288.2993677947192,
          285.9128125,
          276.1395298684494
         ],
         "yaxis": "y"
        },
        {
         "mode": "lines",
         "name": "Total des ventes",
         "type": "scatter",
         "x": [
          "2021-01-03T00:00:00",
          "2021-01-04T00:00:00",
          "2021-01-05T00:00:00",
          "2021-01-06T00:00:00",
          "2021-01-07T00:00:00",
          "2021-01-08T00:00:00",
          "2021-01-09T00:00:00",
          "2021-01-10T00:00:00",
          "2021-01-11T00:00:00",
          "2021-01-12T00:00:00",
          "2021-01-13T00:00:00",
          "2021-01-14T00:00:00",
          "2021-01-15T00:00:00",
          "2021-01-16T00:00:00",
          "2021-01-17T00:00:00",
          "2021-01-18T00:00:00",
          "2021-01-19T00:00:00",
          "2021-01-20T00:00:00",
          "2021-01-21T00:00:00",
          "2021-01-22T00:00:00",
          "2021-01-23T00:00:00",
          "2021-01-24T00:00:00",
          "2021-01-25T00:00:00",
          "2021-01-26T00:00:00",
          "2021-01-27T00:00:00",
          "2021-01-28T00:00:00",
          "2021-01-29T00:00:00",
          "2021-01-30T00:00:00",
          "2021-01-31T00:00:00",
          "2021-02-01T00:00:00",
          "2021-02-02T00:00:00",
          "2021-02-03T00:00:00",
          "2021-02-04T00:00:00",
          "2021-02-05T00:00:00",
          "2021-02-06T00:00:00",
          "2021-02-07T00:00:00",
          "2021-02-08T00:00:00",
          "2021-02-09T00:00:00",
          "2021-02-10T00:00:00",
          "2021-02-11T00:00:00",
          "2021-02-12T00:00:00",
          "2021-02-13T00:00:00",
          "2021-02-14T00:00:00",
          "2021-02-15T00:00:00",
          "2021-02-16T00:00:00",
          "2021-02-17T00:00:00",
          "2021-02-18T00:00:00",
          "2021-02-19T00:00:00",
          "2021-02-20T00:00:00",
          "2021-02-21T00:00:00",
          "2021-02-22T00:00:00",
          "2021-02-23T00:00:00",
          "2021-02-24T00:00:00",
          "2021-02-25T00:00:00",
          "2021-02-26T00:00:00",
          "2021-02-27T00:00:00",
          "2021-02-28T00:00:00",
          "2021-03-01T00:00:00",
          "2021-03-02T00:00:00",
          "2021-03-03T00:00:00",
          "2021-03-04T00:00:00",
          "2021-03-05T00:00:00",
          "2021-03-06T00:00:00",
          "2021-03-07T00:00:00",
          "2021-03-08T00:00:00",
          "2021-03-09T00:00:00",
          "2021-03-10T00:00:00",
          "2021-03-11T00:00:00",
          "2021-03-12T00:00:00",
          "2021-03-13T00:00:00",
          "2021-03-14T00:00:00",
          "2021-03-15T00:00:00",
          "2021-03-16T00:00:00",
          "2021-03-17T00:00:00",
          "2021-03-18T00:00:00",
          "2021-03-19T00:00:00",
          "2021-03-20T00:00:00",
          "2021-03-21T00:00:00",
          "2021-03-22T00:00:00",
          "2021-03-23T00:00:00",
          "2021-03-24T00:00:00",
          "2021-03-25T00:00:00",
          "2021-03-26T00:00:00",
          "2021-03-27T00:00:00",
          "2021-03-28T00:00:00",
          "2021-03-29T00:00:00",
          "2021-03-30T00:00:00",
          "2021-03-31T00:00:00",
          "2021-04-01T00:00:00",
          "2021-04-02T00:00:00"
         ],
         "xaxis": "x2",
         "y": [
          322969,
          576879,
          583196,
          522826,
          517878,
          542466,
          453863,
          412335,
          544913,
          551916,
          430994,
          435252,
          434736,
          381436,
          351045,
          438246,
          437408,
          341147,
          236464,
          826490,
          549679,
          397102,
          571190,
          616997,
          476964,
          354401,
          393314,
          333887,
          321503,
          493074,
          512270,
          462224,
          391401,
          428337,
          396952,
          475551,
          648716,
          961136,
          849197,
          775857,
          852461,
          681772,
          712900,
          846662,
          962610,
          853263,
          757385,
          665471,
          656124,
          594087,
          692123,
          743215,
          765796,
          696426,
          756949,
          742596,
          783098,
          955217,
          1276485,
          997968,
          1135146,
          905412,
          808925,
          929762,
          1169467,
          1168984,
          1144228,
          975789,
          1035752,
          965517,
          978156,
          1230180,
          1452191,
          1164412,
          1445375,
          1360798,
          1179575,
          1160583,
          1375157,
          1346343,
          1334995,
          1064696,
          1327461,
          1187139,
          1205209,
          1438173,
          1372719,
          1550474,
          914921,
          1280459
         ],
         "yaxis": "y2"
        }
       ],
       "layout": {
        "template": {
         "data": {
          "bar": [
           {
            "error_x": {
             "color": "#2a3f5f"
            },
            "error_y": {
             "color": "#2a3f5f"
            },
            "marker": {
             "line": {
              "color": "#E5ECF6",
              "width": 0.5
             },
             "pattern": {
              "fillmode": "overlay",
              "size": 10,
              "solidity": 0.2
             }
            },
            "type": "bar"
           }
          ],
          "barpolar": [
           {
            "marker": {
             "line": {
              "color": "#E5ECF6",
              "width": 0.5
             },
             "pattern": {
              "fillmode": "overlay",
              "size": 10,
              "solidity": 0.2
             }
            },
            "type": "barpolar"
           }
          ],
          "carpet": [
           {
            "aaxis": {
             "endlinecolor": "#2a3f5f",
             "gridcolor": "white",
             "linecolor": "white",
             "minorgridcolor": "white",
             "startlinecolor": "#2a3f5f"
            },
            "baxis": {
             "endlinecolor": "#2a3f5f",
             "gridcolor": "white",
             "linecolor": "white",
             "minorgridcolor": "white",
             "startlinecolor": "#2a3f5f"
            },
            "type": "carpet"
           }
          ],
          "choropleth": [
           {
            "colorbar": {
             "outlinewidth": 0,
             "ticks": ""
            },
            "type": "choropleth"
           }
          ],
          "contour": [
           {
            "colorbar": {
             "outlinewidth": 0,
             "ticks": ""
            },
            "colorscale": [
             [
              0,
              "#0d0887"
             ],
             [
              0.1111111111111111,
              "#46039f"
             ],
             [
              0.2222222222222222,
              "#7201a8"
             ],
             [
              0.3333333333333333,
              "#9c179e"
             ],
             [
              0.4444444444444444,
              "#bd3786"
             ],
             [
              0.5555555555555556,
              "#d8576b"
             ],
             [
              0.6666666666666666,
              "#ed7953"
             ],
             [
              0.7777777777777778,
              "#fb9f3a"
             ],
             [
              0.8888888888888888,
              "#fdca26"
             ],
             [
              1,
              "#f0f921"
             ]
            ],
            "type": "contour"
           }
          ],
          "contourcarpet": [
           {
            "colorbar": {
             "outlinewidth": 0,
             "ticks": ""
            },
            "type": "contourcarpet"
           }
          ],
          "heatmap": [
           {
            "colorbar": {
             "outlinewidth": 0,
             "ticks": ""
            },
            "colorscale": [
             [
              0,
              "#0d0887"
             ],
             [
              0.1111111111111111,
              "#46039f"
             ],
             [
              0.2222222222222222,
              "#7201a8"
             ],
             [
              0.3333333333333333,
              "#9c179e"
             ],
             [
              0.4444444444444444,
              "#bd3786"
             ],
             [
              0.5555555555555556,
              "#d8576b"
             ],
             [
              0.6666666666666666,
              "#ed7953"
             ],
             [
              0.7777777777777778,
              "#fb9f3a"
             ],
             [
              0.8888888888888888,
              "#fdca26"
             ],
             [
              1,
              "#f0f921"
             ]
            ],
            "type": "heatmap"
           }
          ],
          "heatmapgl": [
           {
            "colorbar": {
             "outlinewidth": 0,
             "ticks": ""
            },
            "colorscale": [
             [
              0,
              "#0d0887"
             ],
             [
              0.1111111111111111,
              "#46039f"
             ],
             [
              0.2222222222222222,
              "#7201a8"
             ],
             [
              0.3333333333333333,
              "#9c179e"
             ],
             [
              0.4444444444444444,
              "#bd3786"
             ],
             [
              0.5555555555555556,
              "#d8576b"
             ],
             [
              0.6666666666666666,
              "#ed7953"
             ],
             [
              0.7777777777777778,
              "#fb9f3a"
             ],
             [
              0.8888888888888888,
              "#fdca26"
             ],
             [
              1,
              "#f0f921"
             ]
            ],
            "type": "heatmapgl"
           }
          ],
          "histogram": [
           {
            "marker": {
             "pattern": {
              "fillmode": "overlay",
              "size": 10,
              "solidity": 0.2
             }
            },
            "type": "histogram"
           }
          ],
          "histogram2d": [
           {
            "colorbar": {
             "outlinewidth": 0,
             "ticks": ""
            },
            "colorscale": [
             [
              0,
              "#0d0887"
             ],
             [
              0.1111111111111111,
              "#46039f"
             ],
             [
              0.2222222222222222,
              "#7201a8"
             ],
             [
              0.3333333333333333,
              "#9c179e"
             ],
             [
              0.4444444444444444,
              "#bd3786"
             ],
             [
              0.5555555555555556,
              "#d8576b"
             ],
             [
              0.6666666666666666,
              "#ed7953"
             ],
             [
              0.7777777777777778,
              "#fb9f3a"
             ],
             [
              0.8888888888888888,
              "#fdca26"
             ],
             [
              1,
              "#f0f921"
             ]
            ],
            "type": "histogram2d"
           }
          ],
          "histogram2dcontour": [
           {
            "colorbar": {
             "outlinewidth": 0,
             "ticks": ""
            },
            "colorscale": [
             [
              0,
              "#0d0887"
             ],
             [
              0.1111111111111111,
              "#46039f"
             ],
             [
              0.2222222222222222,
              "#7201a8"
             ],
             [
              0.3333333333333333,
              "#9c179e"
             ],
             [
              0.4444444444444444,
              "#bd3786"
             ],
             [
              0.5555555555555556,
              "#d8576b"
             ],
             [
              0.6666666666666666,
              "#ed7953"
             ],
             [
              0.7777777777777778,
              "#fb9f3a"
             ],
             [
              0.8888888888888888,
              "#fdca26"
             ],
             [
              1,
              "#f0f921"
             ]
            ],
            "type": "histogram2dcontour"
           }
          ],
          "mesh3d": [
           {
            "colorbar": {
             "outlinewidth": 0,
             "ticks": ""
            },
            "type": "mesh3d"
           }
          ],
          "parcoords": [
           {
            "line": {
             "colorbar": {
              "outlinewidth": 0,
              "ticks": ""
             }
            },
            "type": "parcoords"
           }
          ],
          "pie": [
           {
            "automargin": true,
            "type": "pie"
           }
          ],
          "scatter": [
           {
            "fillpattern": {
             "fillmode": "overlay",
             "size": 10,
             "solidity": 0.2
            },
            "type": "scatter"
           }
          ],
          "scatter3d": [
           {
            "line": {
             "colorbar": {
              "outlinewidth": 0,
              "ticks": ""
             }
            },
            "marker": {
             "colorbar": {
              "outlinewidth": 0,
              "ticks": ""
             }
            },
            "type": "scatter3d"
           }
          ],
          "scattercarpet": [
           {
            "marker": {
             "colorbar": {
              "outlinewidth": 0,
              "ticks": ""
             }
            },
            "type": "scattercarpet"
           }
          ],
          "scattergeo": [
           {
            "marker": {
             "colorbar": {
              "outlinewidth": 0,
              "ticks": ""
             }
            },
            "type": "scattergeo"
           }
          ],
          "scattergl": [
           {
            "marker": {
             "colorbar": {
              "outlinewidth": 0,
              "ticks": ""
             }
            },
            "type": "scattergl"
           }
          ],
          "scattermapbox": [
           {
            "marker": {
             "colorbar": {
              "outlinewidth": 0,
              "ticks": ""
             }
            },
            "type": "scattermapbox"
           }
          ],
          "scatterpolar": [
           {
            "marker": {
             "colorbar": {
              "outlinewidth": 0,
              "ticks": ""
             }
            },
            "type": "scatterpolar"
           }
          ],
          "scatterpolargl": [
           {
            "marker": {
             "colorbar": {
              "outlinewidth": 0,
              "ticks": ""
             }
            },
            "type": "scatterpolargl"
           }
          ],
          "scatterternary": [
           {
            "marker": {
             "colorbar": {
              "outlinewidth": 0,
              "ticks": ""
             }
            },
            "type": "scatterternary"
           }
          ],
          "surface": [
           {
            "colorbar": {
             "outlinewidth": 0,
             "ticks": ""
            },
            "colorscale": [
             [
              0,
              "#0d0887"
             ],
             [
              0.1111111111111111,
              "#46039f"
             ],
             [
              0.2222222222222222,
              "#7201a8"
             ],
             [
              0.3333333333333333,
              "#9c179e"
             ],
             [
              0.4444444444444444,
              "#bd3786"
             ],
             [
              0.5555555555555556,
              "#d8576b"
             ],
             [
              0.6666666666666666,
              "#ed7953"
             ],
             [
              0.7777777777777778,
              "#fb9f3a"
             ],
             [
              0.8888888888888888,
              "#fdca26"
             ],
             [
              1,
              "#f0f921"
             ]
            ],
            "type": "surface"
           }
          ],
          "table": [
           {
            "cells": {
             "fill": {
              "color": "#EBF0F8"
             },
             "line": {
              "color": "white"
             }
            },
            "header": {
             "fill": {
              "color": "#C8D4E3"
             },
             "line": {
              "color": "white"
             }
            },
            "type": "table"
           }
          ]
         },
         "layout": {
          "annotationdefaults": {
           "arrowcolor": "#2a3f5f",
           "arrowhead": 0,
           "arrowwidth": 1
          },
          "autotypenumbers": "strict",
          "coloraxis": {
           "colorbar": {
            "outlinewidth": 0,
            "ticks": ""
           }
          },
          "colorscale": {
           "diverging": [
            [
             0,
             "#8e0152"
            ],
            [
             0.1,
             "#c51b7d"
            ],
            [
             0.2,
             "#de77ae"
            ],
            [
             0.3,
             "#f1b6da"
            ],
            [
             0.4,
             "#fde0ef"
            ],
            [
             0.5,
             "#f7f7f7"
            ],
            [
             0.6,
             "#e6f5d0"
            ],
            [
             0.7,
             "#b8e186"
            ],
            [
             0.8,
             "#7fbc41"
            ],
            [
             0.9,
             "#4d9221"
            ],
            [
             1,
             "#276419"
            ]
           ],
           "sequential": [
            [
             0,
             "#0d0887"
            ],
            [
             0.1111111111111111,
             "#46039f"
            ],
            [
             0.2222222222222222,
             "#7201a8"
            ],
            [
             0.3333333333333333,
             "#9c179e"
            ],
            [
             0.4444444444444444,
             "#bd3786"
            ],
            [
             0.5555555555555556,
             "#d8576b"
            ],
            [
             0.6666666666666666,
             "#ed7953"
            ],
            [
             0.7777777777777778,
             "#fb9f3a"
            ],
            [
             0.8888888888888888,
             "#fdca26"
            ],
            [
             1,
             "#f0f921"
            ]
           ],
           "sequentialminus": [
            [
             0,
             "#0d0887"
            ],
            [
             0.1111111111111111,
             "#46039f"
            ],
            [
             0.2222222222222222,
             "#7201a8"
            ],
            [
             0.3333333333333333,
             "#9c179e"
            ],
            [
             0.4444444444444444,
             "#bd3786"
            ],
            [
             0.5555555555555556,
             "#d8576b"
            ],
            [
             0.6666666666666666,
             "#ed7953"
            ],
            [
             0.7777777777777778,
             "#fb9f3a"
            ],
            [
             0.8888888888888888,
             "#fdca26"
            ],
            [
             1,
             "#f0f921"
            ]
           ]
          },
          "colorway": [
           "#636efa",
           "#EF553B",
           "#00cc96",
           "#ab63fa",
           "#FFA15A",
           "#19d3f3",
           "#FF6692",
           "#B6E880",
           "#FF97FF",
           "#FECB52"
          ],
          "font": {
           "color": "#2a3f5f"
          },
          "geo": {
           "bgcolor": "white",
           "lakecolor": "white",
           "landcolor": "#E5ECF6",
           "showlakes": true,
           "showland": true,
           "subunitcolor": "white"
          },
          "hoverlabel": {
           "align": "left"
          },
          "hovermode": "closest",
          "mapbox": {
           "style": "light"
          },
          "paper_bgcolor": "white",
          "plot_bgcolor": "#E5ECF6",
          "polar": {
           "angularaxis": {
            "gridcolor": "white",
            "linecolor": "white",
            "ticks": ""
           },
           "bgcolor": "#E5ECF6",
           "radialaxis": {
            "gridcolor": "white",
            "linecolor": "white",
            "ticks": ""
           }
          },
          "scene": {
           "xaxis": {
            "backgroundcolor": "#E5ECF6",
            "gridcolor": "white",
            "gridwidth": 2,
            "linecolor": "white",
            "showbackground": true,
            "ticks": "",
            "zerolinecolor": "white"
           },
           "yaxis": {
            "backgroundcolor": "#E5ECF6",
            "gridcolor": "white",
            "gridwidth": 2,
            "linecolor": "white",
            "showbackground": true,
            "ticks": "",
            "zerolinecolor": "white"
           },
           "zaxis": {
            "backgroundcolor": "#E5ECF6",
            "gridcolor": "white",
            "gridwidth": 2,
            "linecolor": "white",
            "showbackground": true,
            "ticks": "",
            "zerolinecolor": "white"
           }
          },
          "shapedefaults": {
           "line": {
            "color": "#2a3f5f"
           }
          },
          "ternary": {
           "aaxis": {
            "gridcolor": "white",
            "linecolor": "white",
            "ticks": ""
           },
           "baxis": {
            "gridcolor": "white",
            "linecolor": "white",
            "ticks": ""
           },
           "bgcolor": "#E5ECF6",
           "caxis": {
            "gridcolor": "white",
            "linecolor": "white",
            "ticks": ""
           }
          },
          "title": {
           "x": 0.05
          },
          "xaxis": {
           "automargin": true,
           "gridcolor": "white",
           "linecolor": "white",
           "ticks": "",
           "title": {
            "standoff": 15
           },
           "zerolinecolor": "white",
           "zerolinewidth": 2
          },
          "yaxis": {
           "automargin": true,
           "gridcolor": "white",
           "linecolor": "white",
           "ticks": "",
           "title": {
            "standoff": 15
           },
           "zerolinecolor": "white",
           "zerolinewidth": 2
          }
         }
        },
        "title": {
         "text": "Évolution du CA"
        },
        "xaxis": {
         "anchor": "y",
         "domain": [
          0,
          1
         ],
         "matches": "x2",
         "showticklabels": false
        },
        "xaxis2": {
         "anchor": "y2",
         "domain": [
          0,
          1
         ],
         "title": {
          "text": "Date de commande"
         }
        },
        "yaxis": {
         "anchor": "x",
         "domain": [
          0.515,
          1
         ],
         "title": {
          "text": "CA moyen"
         }
        },
        "yaxis2": {
         "anchor": "x2",
         "domain": [
          0,
          0.485
         ],
         "title": {
          "text": "CA total"
         }
        }
       }
      }
     },
     "metadata": {},
     "output_type": "display_data"
    }
   ],
   "source": [
    "\n",
    "date = d.groupby(d[\"Date de commande\"])['Montant cmd'].mean().reset_index()\n",
    "dt = d.groupby(d[\"Date de commande\"])['Montant cmd'].sum().reset_index()\n",
    "date_vent = pd.DataFrame(date)\n",
    "date_v = pd.DataFrame(dt)\n",
    "date_v.rename(columns={\"Montant cmd\": \"Montant cmd tot\"}, inplace=True)\n",
    "\n",
    "\n",
    "fig = make_subplots(rows=2, cols=1, shared_xaxes=True, vertical_spacing=0.03)\n",
    "\n",
    "\n",
    "fig.add_trace(go.Scatter(x=date_vent['Date de commande'], y=date_vent['Montant cmd'], mode='lines', name='Moyenne de CA'), row=1, col=1)\n",
    "\n",
    "\n",
    "fig.add_trace(go.Scatter(x=date_v['Date de commande'], y=date_v['Montant cmd tot'], mode='lines', name='Total des ventes'), row=2, col=1)\n",
    "\n",
    "fig.update_layout(title='Évolution du CA')\n",
    "fig.update_xaxes(title_text='Date de commande', row=2, col=1)\n",
    "fig.update_yaxes(title_text='CA moyen', row=1, col=1)\n",
    "fig.update_yaxes(title_text='CA total', row=2, col=1, secondary_y = False)\n",
    "\n",
    "fig.show()"
   ]
  },
  {
   "cell_type": "markdown",
   "metadata": {},
   "source": [
    "Sales by Nature (Sub-category)"
   ]
  },
  {
   "cell_type": "code",
   "execution_count": 16,
   "metadata": {},
   "outputs": [
    {
     "data": {
      "application/vnd.plotly.v1+json": {
       "config": {
        "plotlyServerURL": "https://plot.ly"
       },
       "data": [
        {
         "domain": {
          "x": [
           0,
           1
          ],
          "y": [
           0,
           1
          ]
         },
         "hovertemplate": "Nature=%{label}<br>Montant cmd=%{value}<extra></extra>",
         "labels": [
          "Abat jour",
          "Abattant wc",
          "Abri de jardin",
          "Acc telephonie",
          "Access motorisation",
          "Access. PC Tablette",
          "Accessoire Barbecue",
          "Accessoire allaitem.",
          "Accessoire aspi",
          "Accessoire autoradio",
          "Accessoire balnéo",
          "Accessoire biberon",
          "Accessoire biblio",
          "Accessoire bureau",
          "Accessoire camping",
          "Accessoire cave vin",
          "Accessoire ch adulte",
          "Accessoire ch enfant",
          "Accessoire cheminée",
          "Accessoire cloture",
          "Accessoire cuisine",
          "Accessoire cuisson",
          "Accessoire de voyage",
          "Accessoire dressing",
          "Accessoire déguisem",
          "Accessoire fitness",
          "Accessoire froid",
          "Accessoire glisse",
          "Accessoire jardin",
          "Accessoire jeu vidéo",
          "Accessoire jeux café",
          "Accessoire jeux ext",
          "Accessoire lavage",
          "Accessoire luminaire",
          "Accessoire pem",
          "Accessoire piscine",
          "Accessoire plomber",
          "Accessoire poupée",
          "Accessoire poussette",
          "Accessoire sdb",
          "Accessoire siègeauto",
          "Accessoire soins",
          "Accessoire séjour",
          "Accessoire textile",
          "Accessoire vidéoproj",
          "Accessoire vélo",
          "Accessoire wc",
          "Alarme de maison",
          "Ampoule",
          "Antenne tv",
          "Appareil  photo",
          "Appareil convivial",
          "Appareil musculation",
          "Appareil à fondue",
          "Appareil à raclette",
          "Appareil à souder",
          "Appareils a coiffer",
          "Applique",
          "Arche de jeu",
          "Armoire",
          "Armoire de jardin",
          "Armoire lit",
          "Arrosage",
          "Article de ménage",
          "Aspirateur balai",
          "Aspirateur robot",
          "Aspirateur traineau",
          "Autocuiseur",
          "Autoportée",
          "Autoradio",
          "Autre cuisson",
          "Autre prep culinaire",
          "Autre soin personne",
          "Auvent",
          "Babyfoot",
          "Babyphone",
          "Bac à sable",
          "Baignoire",
          "Baignoire bébé",
          "Bain de soleil",
          "Baladeur mp3/4",
          "Balai vapeur",
          "Balance de cuisine",
          "Balancelle bébé",
          "Balancelle de jardin",
          "Balançoire",
          "Banc",
          "Banc de lit",
          "Banquette",
          "Bar",
          "Barbecue",
          "Barre de son",
          "Barrette mémoire",
          "Barrière de sécurité",
          "Bassin",
          "Batterie de cuisine",
          "Batteur",
          "Bavoir",
          "Berceau",
          "Biberon",
          "Bibliotheque",
          "Billard",
          "Blender",
          "Boite aux lettres",
          "Boite de rangement",
          "Boites conservation",
          "Boitier alim PC",
          "Boudin porte",
          "Bougeoir",
          "Bougie",
          "Bouilloire",
          "Brasero",
          "Brise vue",
          "Buffet",
          "Buffet de cuisine",
          "Bureau",
          "Bûcher",
          "Cabane enfant",
          "Cabine de douche",
          "Cadre photo",
          "Cadre à lattes",
          "Cafetière filtre",
          "Cafetière portionnée",
          "Cale bébé",
          "Camera sport",
          "Camescope",
          "Caméra surveillance",
          "Canape droit",
          "Canapé d'angle",
          "Carafe",
          "Carafe filtrante",
          "Carpette",
          "Carte graphique",
          "Carte mère",
          "Cartouche",
          "Casque filaire",
          "Casque sans fil",
          "Casserole",
          "Cave a vin",
          "Centrale vapeur",
          "Centrifugeuse",
          "Chaine audio",
          "Chaise",
          "Chaise de bureau",
          "Chaise haute bébé",
          "Chargeur",
          "Chariot de courses",
          "Chauffage d'appoint",
          "Chauffe biberon",
          "Chauffeuse",
          "Chaussures de sport",
          "Cheminée Poele",
          "Chevet",
          "Chiffonnier",
          "Ciel de lit",
          "Cintres",
          "Circuit de voiture",
          "Cireuse",
          "Clavier souris",
          "Cle usb",
          "Climatiseur",
          "Coffre",
          "Coiffeuse",
          "Colonne cuisine",
          "Colonne de douche",
          "Colonne sdb",
          "Commode",
          "Composteur",
          "Congelateur",
          "Connectique",
          "Console",
          "Console de jeux",
          "Cordon electrique",
          "Couette",
          "Couffin",
          "Coupe bordures",
          "Coussin",
          "Coussin allaitement",
          "Coussin chaise bébé",
          "Couteau electrique",
          "Couvert",
          "Crepiere",
          "Croque gaufre",
          "Cuiseur a riz",
          "Cuiseur vapeur",
          "Cuisine complète",
          "Cuisiniere",
          "Dalle écran",
          "Decoration de noel",
          "Decoration de table",
          "Deplimousse",
          "Desserte",
          "Dessus de lit",
          "Dessus de meuble",
          "Diffuseur",
          "Disque dur",
          "Diététique",
          "Douche de jardin",
          "Drap housse",
          "Drap plat",
          "Dressing complet",
          "Décapeur thermique",
          "Défroisseur",
          "Déguisement",
          "Déshumidificateur",
          "Détecteur mouvement",
          "Echarpe de portage",
          "Eclairage exterieur",
          "Ecouteurs",
          "Ecran PC",
          "Ecran de projection",
          "Electrostimulation",
          "Element bas SDB",
          "Elément Haut SDB",
          "Elément de bureau",
          "Enceinte connectée",
          "Enceintes pc",
          "Ens buffet table",
          "Ens table chaises",
          "Ensemble Home cinema",
          "Ensemble chambre",
          "Ensemble sdb",
          "Entretien pc",
          "Environnement",
          "Epilateur",
          "Etagère",
          "Etendoir a linge",
          "Evier",
          "Expresso",
          "Extracteur de jus",
          "Fauteuil",
          "Fauteuil relax",
          "Fendeur de bûches",
          "Fer a repasser",
          "Figurine et robot",
          "Flash photo",
          "Fleurs artificielles",
          "Fontaine",
          "Four",
          "Friteuse",
          "Galette de chaise",
          "Garage",
          "Gaufrier",
          "Gazon synthétique",
          "Gigoteuse",
          "Gps",
          "Graveur",
          "Grillage",
          "Grille pain",
          "Grille viande",
          "Guirlande lumineuse",
          "Gyropode",
          "Hachoir",
          "Haltère et poids",
          "Hamac",
          "Hammam",
          "Haut parleur",
          "Horloge",
          "Hotte",
          "Housse bz",
          "Housse canapé",
          "Housse clic-clac",
          "Housse de chaise",
          "Housse de couette",
          "Housse de coussin",
          "Housse de rangement",
          "Housse mobilier ext",
          "Housse sommier",
          "Housse vetement",
          "Humidificateur",
          "Hygiene dentaire",
          "Image encadree",
          "Image/affiche/poster",
          "Imprimante",
          "Interphone",
          "Jeu d'imitation",
          "Jeu de carte et dé",
          "Jeu de construction",
          "Jeu de fléchettes",
          "Jeu de pied",
          "Jeu de société",
          "Jeu éducatif",
          "Jeux d'exterieur",
          "Jeux vidéo",
          "Jouet 1er âge",
          "Jouet de bain",
          "Jouet véhicule",
          "Jumelles",
          "Lame de terrasse",
          "Lampadaire",
          "Lampadaire liseuse",
          "Lampe",
          "Lampe de bureau",
          "Lavabo",
          "Lave linge",
          "Lave vaisselle",
          "Lecteur dvd",
          "Linge d'office",
          "Linge de table",
          "Linge de toilette",
          "Lit adulte",
          "Lit bébé",
          "Lit jeune",
          "Lit parapluie",
          "Lit pliant",
          "Livre 5.5%",
          "Loisirs créatifs",
          "Luminothérapie",
          "Lustre",
          "Machine a coudre",
          "Machine a pain",
          "Machine à bière",
          "Marche pied",
          "Matelas",
          "Matelas + sommier",
          "Matelas futon",
          "Matelas gonflable",
          "Matelas à langer",
          "Matériel camping",
          "Menagere couvert",
          "Meuble bas cuisine",
          "Meuble haut cuisine",
          "Meuble tv",
          "Meuble à chaussures",
          "Meule",
          "Micro ondes",
          "Microphone",
          "Mini aspirateur",
          "Mini commode",
          "Mini four",
          "Mini mobilier enfant",
          "Miroir",
          "Miroir psyche",
          "Miroir salle de bain",
          "Mixer",
          "Mobile musical",
          "Mobile nu",
          "Modélisme",
          "Montre et bracelet",
          "Motoculteur bineuse",
          "Motorisation volet",
          "Moule",
          "Moulin a cafe",
          "Moustiquaire",
          "Multiprise",
          "Méridienne",
          "Nettoyeur de vitre",
          "Nettoyeur pression",
          "Objet deco",
          "Objets lumineux",
          "Oreiller",
          "Outil multifonction",
          "Outils de Jardin",
          "Ouvre boite",
          "Paillasson",
          "Panier",
          "Panier à linge",
          "Panneau",
          "Panneaux japonais",
          "Papier",
          "Papier peint",
          "Parasol",
          "Parasol chauffant",
          "Paravent",
          "Parc",
          "Paroi de douche",
          "Parure de lit",
          "Patere",
          "Pc bureau",
          "Pc portable",
          "Peignoir",
          "Peluche",
          "Penderie",
          "Perceuse visseuse",
          "Pergola",
          "Pese personne",
          "Petit meuble séjour",
          "Petit outillage",
          "Photo studio",
          "Pied de lampe",
          "Pied de parasol",
          "Pile et accumulateur",
          "Piscine",
          "Pièces détachées",
          "Plafonnier",
          "Plafonnier ventilat",
          "Plaid",
          "Plan de travail",
          "Plan incliné",
          "Plaque de cuisson",
          "Plat a cuire",
          "Plateau",
          "Plateforme vibrante",
          "Platine vinyle",
          "Poele",
          "Poire",
          "Pompe d'arrosage",
          "Ponceuse",
          "Portant",
          "Porte armoire",
          "Porte bébé",
          "Porte chaussures",
          "Porte manteau",
          "Porte parapluie",
          "Porte revue",
          "Porte serviette",
          "Porteur et bascule",
          "Pot jardiniere",
          "Potager",
          "Poubelle cuisine",
          "Poubelle sdb",
          "Poubelle à couches",
          "Pouf / repose pied",
          "Poupée et poupon",
          "Poussette",
          "Presse agrumes",
          "Prise parafoudre",
          "Processeur",
          "Protege matelas",
          "Protege oreiller",
          "Protege traversin",
          "Purificateur",
          "Puzzle",
          "Radiateur",
          "Radio CD",
          "Radio reveil",
          "Rameur",
          "Rangement a poser",
          "Rangement bureau",
          "Rangement enfant",
          "Rangement sdb",
          "Rasoir homme",
          "Receveur de douche",
          "Recharge de poubelle",
          "Rechaud",
          "Refrigerateur",
          "Reseau sans fil",
          "Reveil",
          "Rideau",
          "Rideau de douche",
          "Robinet",
          "Robot bébé",
          "Robot de cuisine",
          "Robot de piscine",
          "Rollers",
          "Réducteur toilettes",
          "Réhausseur bébé",
          "Sac de couchage",
          "Sac de sport",
          "Sac à langer",
          "Sacoche pc",
          "Salon de jardin",
          "Sauna",
          "Scie électrique",
          "Seche cheveux",
          "Seche linge",
          "Senteur",
          "Separation",
          "Serre de jardin",
          "Set vaisselle",
          "Set verre",
          "Siège auto",
          "Skateboard",
          "Smartphone",
          "Sommier",
          "Sono lumière",
          "Souffleur aspirateur",
          "Spa jacuzzi",
          "Spoterie",
          "Station meteo",
          "Statue de jardin",
          "Steppeur",
          "Sticker",
          "Store",
          "Store banne",
          "Structure armoire",
          "Structure canapé",
          "Structure et mat bz",
          "Structure et mat cc",
          "Structure gonflable",
          "Stérilisateur",
          "Support mural tv",
          "Surmatelas",
          "Suspension",
          "Sèche serviette",
          "Sécurité domestique",
          "Table",
          "Table a langer",
          "Table a repasser",
          "Table basse",
          "Table de ping pong",
          "Table multijeux",
          "Tablette",
          "Tabouret",
          "Taie d'oreiller",
          "Taie de traversin",
          "Taille haie",
          "Tapis d'extérieur",
          "Tapis de Salon et Ch",
          "Tapis de course",
          "Tapis de cuisine",
          "Tapis de jeu",
          "Tapis enfant",
          "Tapis salle de bain",
          "Telecommande",
          "Tente de lit",
          "Terreau",
          "Tete de lit",
          "Thalasso pieds",
          "Thermomètre",
          "Tire lait",
          "Tiroir de lit",
          "Toboggan",
          "Toile et laminage",
          "Toilettes WC",
          "Tondeuse barbe",
          "Tondeuse cheveux",
          "Tondeuse multistyle",
          "Tondeuse à gazon",
          "Tonnelle",
          "Tour de lit",
          "Traineau vapeur",
          "Trampoline",
          "Trancheuse",
          "Transat bébé",
          "Transistor",
          "Traversin",
          "Tringlerie",
          "Trotteur",
          "Trottinette",
          "Tunnel de lit",
          "Tv ecran plat",
          "Téléphone fixe",
          "Ustensiles",
          "Vaisselier",
          "Vaisselle",
          "Valet",
          "Vase",
          "Vasque",
          "Veilleuse",
          "Ventilateur",
          "Verre",
          "Vestiaire",
          "Videoprojecteur",
          "Visserie consommable",
          "Vitrine",
          "Voilage",
          "Voile d'ombrage",
          "Véhicule élec enfant",
          "Vélo",
          "Vélo fitness",
          "Vêtement de sport",
          "Webcam",
          "access photo video",
          "défroisseur"
         ],
         "legendgroup": "",
         "name": "",
         "showlegend": true,
         "textinfo": "percent+label",
         "textposition": "inside",
         "type": "pie",
         "values": [
          661,
          1533,
          26893,
          18051,
          117,
          5528,
          1217,
          32,
          3856,
          1659,
          200,
          15,
          4793,
          4751,
          494,
          490,
          46966,
          9218,
          1540,
          1533,
          306,
          2786,
          214,
          7055,
          108,
          13290,
          1259,
          1171,
          7313,
          16223,
          101,
          705,
          3460,
          306,
          2343,
          10167,
          923,
          353,
          77,
          4732,
          93,
          341,
          4038,
          3437,
          294,
          990,
          6509,
          452,
          2475,
          333,
          3511,
          56,
          64986,
          1138,
          4614,
          1847,
          7325,
          8756,
          15,
          2028069,
          6978,
          25233,
          1271,
          15,
          322702,
          74798,
          96195,
          9736,
          200,
          739,
          10216,
          16993,
          15033,
          845,
          10049,
          2353,
          1123,
          7674,
          2412,
          58762,
          452,
          16605,
          1430,
          338,
          12261,
          5399,
          18272,
          14051,
          1061444,
          126440,
          62638,
          121,
          3868,
          5961,
          112,
          2615,
          1777,
          45,
          3385,
          402,
          675788,
          22289,
          14728,
          829,
          16026,
          2332,
          7285,
          362,
          479,
          4000,
          9989,
          3127,
          7601,
          1109459,
          330792,
          1331128,
          197,
          27787,
          20547,
          3343,
          547582,
          13101,
          41326,
          188,
          658,
          835,
          1126,
          2543255,
          4982175,
          845,
          845,
          7946,
          15378,
          3182,
          3291,
          1873,
          13910,
          10154,
          180861,
          47828,
          568,
          15180,
          1933888,
          792426,
          2345,
          1069,
          13963,
          8195,
          135,
          1875,
          15,
          7902,
          333989,
          75441,
          200,
          2537,
          747,
          821,
          4916,
          1330,
          11651,
          31839,
          439844,
          23674,
          8741,
          187418,
          1010635,
          493,
          354419,
          994,
          344930,
          24558,
          47,
          79211,
          239,
          217,
          13877,
          75,
          135,
          104,
          200,
          1342,
          4224,
          1528,
          39777,
          124241,
          520053,
          476,
          1269,
          1173,
          91156,
          122026,
          4251,
          138,
          121,
          4253,
          74,
          174,
          17687,
          8232,
          168787,
          201,
          15,
          37,
          3255,
          30,
          38,
          2714,
          3361,
          41814,
          5328,
          1738,
          83003,
          13073,
          3801,
          26215,
          493,
          10762,
          421060,
          13619,
          87298,
          103697,
          134,
          48524,
          8006,
          117168,
          5117,
          27615,
          65745,
          9589,
          653209,
          315035,
          290,
          3900,
          935,
          481,
          4815,
          1483,
          1136884,
          3343033,
          1963,
          2529,
          12373,
          1245,
          184,
          1403,
          203,
          266,
          9796,
          4373,
          996,
          80360,
          3581,
          6229,
          19933,
          1528,
          17,
          10820,
          301249,
          48881,
          1016,
          29298,
          2167,
          32455,
          5320,
          1070,
          444,
          1952,
          180,
          953,
          1360,
          4680,
          5896,
          38392,
          52,
          1314,
          230,
          881,
          2107,
          25117,
          586,
          3177,
          9709,
          767,
          918,
          60,
          6822,
          109,
          415,
          92980,
          4166,
          30453,
          7114,
          1897,
          2530430,
          1439413,
          2874,
          870,
          3628,
          974,
          3805726,
          150457,
          2040692,
          1425,
          45865,
          225,
          1854,
          102,
          14362,
          27842,
          2474,
          7461,
          544,
          8285788,
          2679544,
          548,
          3455,
          1175,
          1935,
          5685,
          324738,
          110036,
          1498686,
          1809364,
          208,
          347636,
          150,
          1085,
          32334,
          76130,
          12632,
          76056,
          45599,
          29328,
          2838,
          210,
          510,
          129,
          34310,
          1233,
          381,
          345,
          778,
          553,
          2421,
          6421,
          6480,
          5491,
          35881,
          1994,
          45125,
          7093,
          721,
          93,
          2150,
          3532,
          6508,
          12463,
          415,
          38,
          12118,
          15471,
          1899,
          23071,
          6049,
          19195,
          32707,
          1622,
          164477,
          911800,
          404,
          4486,
          36636,
          1721,
          23195,
          1696,
          337321,
          11446,
          615,
          50,
          1604,
          165,
          33801,
          7014,
          12373,
          1297,
          9734,
          17098,
          90,
          732689,
          857,
          1929,
          1459,
          6172,
          4114,
          6821,
          679,
          331,
          25920,
          29651,
          99,
          16046,
          96291,
          322,
          2007,
          3753,
          795,
          4920,
          998,
          23203,
          3342,
          491,
          48195,
          1080,
          28673,
          1652,
          163,
          8081,
          22743,
          2250,
          200,
          4300,
          470,
          5858,
          3008,
          1692,
          8235,
          1258,
          117089,
          18908,
          85127,
          967,
          4389,
          42,
          9586,
          1999732,
          2398,
          429,
          18324,
          3304,
          12511,
          462,
          97150,
          11821,
          45,
          88,
          192,
          49,
          72,
          48,
          447,
          283239,
          3731,
          1725,
          1440,
          488934,
          420,
          12714,
          9888,
          3150,
          2287,
          7427,
          78,
          820924,
          1534910,
          2587,
          974,
          51444,
          6529,
          454,
          1460,
          2933,
          465,
          10878,
          7072,
          127213,
          1107,
          208662,
          69630,
          3405,
          842,
          19262,
          114604,
          37751,
          2178,
          131,
          1468290,
          14440,
          4973,
          962894,
          3237,
          8650,
          101833,
          337979,
          4331,
          1607,
          540,
          2979,
          327349,
          74316,
          4890,
          791,
          12022,
          2233,
          780,
          687,
          79,
          157030,
          712,
          171,
          221,
          22833,
          3257,
          17355,
          286,
          496,
          773,
          274,
          3997,
          25388,
          461,
          4184,
          17326,
          619,
          1738,
          131,
          4914,
          2733,
          1459,
          57807,
          330,
          2035459,
          2892,
          8834,
          4461,
          8862,
          7392,
          2949,
          4270,
          370,
          2170,
          363,
          35302,
          14514,
          3449,
          261090,
          7782,
          1057,
          15944,
          11043,
          78329,
          30,
          370,
          1012,
          71
         ]
        }
       ],
       "layout": {
        "legend": {
         "tracegroupgap": 0
        },
        "margin": {
         "t": 60
        },
        "piecolorway": [
         "rgb(103,0,31)",
         "rgb(178,24,43)",
         "rgb(214,96,77)",
         "rgb(244,165,130)",
         "rgb(253,219,199)",
         "rgb(247,247,247)",
         "rgb(209,229,240)",
         "rgb(146,197,222)",
         "rgb(67,147,195)",
         "rgb(33,102,172)",
         "rgb(5,48,97)"
        ],
        "template": {
         "data": {
          "bar": [
           {
            "error_x": {
             "color": "#2a3f5f"
            },
            "error_y": {
             "color": "#2a3f5f"
            },
            "marker": {
             "line": {
              "color": "#E5ECF6",
              "width": 0.5
             },
             "pattern": {
              "fillmode": "overlay",
              "size": 10,
              "solidity": 0.2
             }
            },
            "type": "bar"
           }
          ],
          "barpolar": [
           {
            "marker": {
             "line": {
              "color": "#E5ECF6",
              "width": 0.5
             },
             "pattern": {
              "fillmode": "overlay",
              "size": 10,
              "solidity": 0.2
             }
            },
            "type": "barpolar"
           }
          ],
          "carpet": [
           {
            "aaxis": {
             "endlinecolor": "#2a3f5f",
             "gridcolor": "white",
             "linecolor": "white",
             "minorgridcolor": "white",
             "startlinecolor": "#2a3f5f"
            },
            "baxis": {
             "endlinecolor": "#2a3f5f",
             "gridcolor": "white",
             "linecolor": "white",
             "minorgridcolor": "white",
             "startlinecolor": "#2a3f5f"
            },
            "type": "carpet"
           }
          ],
          "choropleth": [
           {
            "colorbar": {
             "outlinewidth": 0,
             "ticks": ""
            },
            "type": "choropleth"
           }
          ],
          "contour": [
           {
            "colorbar": {
             "outlinewidth": 0,
             "ticks": ""
            },
            "colorscale": [
             [
              0,
              "#0d0887"
             ],
             [
              0.1111111111111111,
              "#46039f"
             ],
             [
              0.2222222222222222,
              "#7201a8"
             ],
             [
              0.3333333333333333,
              "#9c179e"
             ],
             [
              0.4444444444444444,
              "#bd3786"
             ],
             [
              0.5555555555555556,
              "#d8576b"
             ],
             [
              0.6666666666666666,
              "#ed7953"
             ],
             [
              0.7777777777777778,
              "#fb9f3a"
             ],
             [
              0.8888888888888888,
              "#fdca26"
             ],
             [
              1,
              "#f0f921"
             ]
            ],
            "type": "contour"
           }
          ],
          "contourcarpet": [
           {
            "colorbar": {
             "outlinewidth": 0,
             "ticks": ""
            },
            "type": "contourcarpet"
           }
          ],
          "heatmap": [
           {
            "colorbar": {
             "outlinewidth": 0,
             "ticks": ""
            },
            "colorscale": [
             [
              0,
              "#0d0887"
             ],
             [
              0.1111111111111111,
              "#46039f"
             ],
             [
              0.2222222222222222,
              "#7201a8"
             ],
             [
              0.3333333333333333,
              "#9c179e"
             ],
             [
              0.4444444444444444,
              "#bd3786"
             ],
             [
              0.5555555555555556,
              "#d8576b"
             ],
             [
              0.6666666666666666,
              "#ed7953"
             ],
             [
              0.7777777777777778,
              "#fb9f3a"
             ],
             [
              0.8888888888888888,
              "#fdca26"
             ],
             [
              1,
              "#f0f921"
             ]
            ],
            "type": "heatmap"
           }
          ],
          "heatmapgl": [
           {
            "colorbar": {
             "outlinewidth": 0,
             "ticks": ""
            },
            "colorscale": [
             [
              0,
              "#0d0887"
             ],
             [
              0.1111111111111111,
              "#46039f"
             ],
             [
              0.2222222222222222,
              "#7201a8"
             ],
             [
              0.3333333333333333,
              "#9c179e"
             ],
             [
              0.4444444444444444,
              "#bd3786"
             ],
             [
              0.5555555555555556,
              "#d8576b"
             ],
             [
              0.6666666666666666,
              "#ed7953"
             ],
             [
              0.7777777777777778,
              "#fb9f3a"
             ],
             [
              0.8888888888888888,
              "#fdca26"
             ],
             [
              1,
              "#f0f921"
             ]
            ],
            "type": "heatmapgl"
           }
          ],
          "histogram": [
           {
            "marker": {
             "pattern": {
              "fillmode": "overlay",
              "size": 10,
              "solidity": 0.2
             }
            },
            "type": "histogram"
           }
          ],
          "histogram2d": [
           {
            "colorbar": {
             "outlinewidth": 0,
             "ticks": ""
            },
            "colorscale": [
             [
              0,
              "#0d0887"
             ],
             [
              0.1111111111111111,
              "#46039f"
             ],
             [
              0.2222222222222222,
              "#7201a8"
             ],
             [
              0.3333333333333333,
              "#9c179e"
             ],
             [
              0.4444444444444444,
              "#bd3786"
             ],
             [
              0.5555555555555556,
              "#d8576b"
             ],
             [
              0.6666666666666666,
              "#ed7953"
             ],
             [
              0.7777777777777778,
              "#fb9f3a"
             ],
             [
              0.8888888888888888,
              "#fdca26"
             ],
             [
              1,
              "#f0f921"
             ]
            ],
            "type": "histogram2d"
           }
          ],
          "histogram2dcontour": [
           {
            "colorbar": {
             "outlinewidth": 0,
             "ticks": ""
            },
            "colorscale": [
             [
              0,
              "#0d0887"
             ],
             [
              0.1111111111111111,
              "#46039f"
             ],
             [
              0.2222222222222222,
              "#7201a8"
             ],
             [
              0.3333333333333333,
              "#9c179e"
             ],
             [
              0.4444444444444444,
              "#bd3786"
             ],
             [
              0.5555555555555556,
              "#d8576b"
             ],
             [
              0.6666666666666666,
              "#ed7953"
             ],
             [
              0.7777777777777778,
              "#fb9f3a"
             ],
             [
              0.8888888888888888,
              "#fdca26"
             ],
             [
              1,
              "#f0f921"
             ]
            ],
            "type": "histogram2dcontour"
           }
          ],
          "mesh3d": [
           {
            "colorbar": {
             "outlinewidth": 0,
             "ticks": ""
            },
            "type": "mesh3d"
           }
          ],
          "parcoords": [
           {
            "line": {
             "colorbar": {
              "outlinewidth": 0,
              "ticks": ""
             }
            },
            "type": "parcoords"
           }
          ],
          "pie": [
           {
            "automargin": true,
            "type": "pie"
           }
          ],
          "scatter": [
           {
            "fillpattern": {
             "fillmode": "overlay",
             "size": 10,
             "solidity": 0.2
            },
            "type": "scatter"
           }
          ],
          "scatter3d": [
           {
            "line": {
             "colorbar": {
              "outlinewidth": 0,
              "ticks": ""
             }
            },
            "marker": {
             "colorbar": {
              "outlinewidth": 0,
              "ticks": ""
             }
            },
            "type": "scatter3d"
           }
          ],
          "scattercarpet": [
           {
            "marker": {
             "colorbar": {
              "outlinewidth": 0,
              "ticks": ""
             }
            },
            "type": "scattercarpet"
           }
          ],
          "scattergeo": [
           {
            "marker": {
             "colorbar": {
              "outlinewidth": 0,
              "ticks": ""
             }
            },
            "type": "scattergeo"
           }
          ],
          "scattergl": [
           {
            "marker": {
             "colorbar": {
              "outlinewidth": 0,
              "ticks": ""
             }
            },
            "type": "scattergl"
           }
          ],
          "scattermapbox": [
           {
            "marker": {
             "colorbar": {
              "outlinewidth": 0,
              "ticks": ""
             }
            },
            "type": "scattermapbox"
           }
          ],
          "scatterpolar": [
           {
            "marker": {
             "colorbar": {
              "outlinewidth": 0,
              "ticks": ""
             }
            },
            "type": "scatterpolar"
           }
          ],
          "scatterpolargl": [
           {
            "marker": {
             "colorbar": {
              "outlinewidth": 0,
              "ticks": ""
             }
            },
            "type": "scatterpolargl"
           }
          ],
          "scatterternary": [
           {
            "marker": {
             "colorbar": {
              "outlinewidth": 0,
              "ticks": ""
             }
            },
            "type": "scatterternary"
           }
          ],
          "surface": [
           {
            "colorbar": {
             "outlinewidth": 0,
             "ticks": ""
            },
            "colorscale": [
             [
              0,
              "#0d0887"
             ],
             [
              0.1111111111111111,
              "#46039f"
             ],
             [
              0.2222222222222222,
              "#7201a8"
             ],
             [
              0.3333333333333333,
              "#9c179e"
             ],
             [
              0.4444444444444444,
              "#bd3786"
             ],
             [
              0.5555555555555556,
              "#d8576b"
             ],
             [
              0.6666666666666666,
              "#ed7953"
             ],
             [
              0.7777777777777778,
              "#fb9f3a"
             ],
             [
              0.8888888888888888,
              "#fdca26"
             ],
             [
              1,
              "#f0f921"
             ]
            ],
            "type": "surface"
           }
          ],
          "table": [
           {
            "cells": {
             "fill": {
              "color": "#EBF0F8"
             },
             "line": {
              "color": "white"
             }
            },
            "header": {
             "fill": {
              "color": "#C8D4E3"
             },
             "line": {
              "color": "white"
             }
            },
            "type": "table"
           }
          ]
         },
         "layout": {
          "annotationdefaults": {
           "arrowcolor": "#2a3f5f",
           "arrowhead": 0,
           "arrowwidth": 1
          },
          "autotypenumbers": "strict",
          "coloraxis": {
           "colorbar": {
            "outlinewidth": 0,
            "ticks": ""
           }
          },
          "colorscale": {
           "diverging": [
            [
             0,
             "#8e0152"
            ],
            [
             0.1,
             "#c51b7d"
            ],
            [
             0.2,
             "#de77ae"
            ],
            [
             0.3,
             "#f1b6da"
            ],
            [
             0.4,
             "#fde0ef"
            ],
            [
             0.5,
             "#f7f7f7"
            ],
            [
             0.6,
             "#e6f5d0"
            ],
            [
             0.7,
             "#b8e186"
            ],
            [
             0.8,
             "#7fbc41"
            ],
            [
             0.9,
             "#4d9221"
            ],
            [
             1,
             "#276419"
            ]
           ],
           "sequential": [
            [
             0,
             "#0d0887"
            ],
            [
             0.1111111111111111,
             "#46039f"
            ],
            [
             0.2222222222222222,
             "#7201a8"
            ],
            [
             0.3333333333333333,
             "#9c179e"
            ],
            [
             0.4444444444444444,
             "#bd3786"
            ],
            [
             0.5555555555555556,
             "#d8576b"
            ],
            [
             0.6666666666666666,
             "#ed7953"
            ],
            [
             0.7777777777777778,
             "#fb9f3a"
            ],
            [
             0.8888888888888888,
             "#fdca26"
            ],
            [
             1,
             "#f0f921"
            ]
           ],
           "sequentialminus": [
            [
             0,
             "#0d0887"
            ],
            [
             0.1111111111111111,
             "#46039f"
            ],
            [
             0.2222222222222222,
             "#7201a8"
            ],
            [
             0.3333333333333333,
             "#9c179e"
            ],
            [
             0.4444444444444444,
             "#bd3786"
            ],
            [
             0.5555555555555556,
             "#d8576b"
            ],
            [
             0.6666666666666666,
             "#ed7953"
            ],
            [
             0.7777777777777778,
             "#fb9f3a"
            ],
            [
             0.8888888888888888,
             "#fdca26"
            ],
            [
             1,
             "#f0f921"
            ]
           ]
          },
          "colorway": [
           "#636efa",
           "#EF553B",
           "#00cc96",
           "#ab63fa",
           "#FFA15A",
           "#19d3f3",
           "#FF6692",
           "#B6E880",
           "#FF97FF",
           "#FECB52"
          ],
          "font": {
           "color": "#2a3f5f"
          },
          "geo": {
           "bgcolor": "white",
           "lakecolor": "white",
           "landcolor": "#E5ECF6",
           "showlakes": true,
           "showland": true,
           "subunitcolor": "white"
          },
          "hoverlabel": {
           "align": "left"
          },
          "hovermode": "closest",
          "mapbox": {
           "style": "light"
          },
          "paper_bgcolor": "white",
          "plot_bgcolor": "#E5ECF6",
          "polar": {
           "angularaxis": {
            "gridcolor": "white",
            "linecolor": "white",
            "ticks": ""
           },
           "bgcolor": "#E5ECF6",
           "radialaxis": {
            "gridcolor": "white",
            "linecolor": "white",
            "ticks": ""
           }
          },
          "scene": {
           "xaxis": {
            "backgroundcolor": "#E5ECF6",
            "gridcolor": "white",
            "gridwidth": 2,
            "linecolor": "white",
            "showbackground": true,
            "ticks": "",
            "zerolinecolor": "white"
           },
           "yaxis": {
            "backgroundcolor": "#E5ECF6",
            "gridcolor": "white",
            "gridwidth": 2,
            "linecolor": "white",
            "showbackground": true,
            "ticks": "",
            "zerolinecolor": "white"
           },
           "zaxis": {
            "backgroundcolor": "#E5ECF6",
            "gridcolor": "white",
            "gridwidth": 2,
            "linecolor": "white",
            "showbackground": true,
            "ticks": "",
            "zerolinecolor": "white"
           }
          },
          "shapedefaults": {
           "line": {
            "color": "#2a3f5f"
           }
          },
          "ternary": {
           "aaxis": {
            "gridcolor": "white",
            "linecolor": "white",
            "ticks": ""
           },
           "baxis": {
            "gridcolor": "white",
            "linecolor": "white",
            "ticks": ""
           },
           "bgcolor": "#E5ECF6",
           "caxis": {
            "gridcolor": "white",
            "linecolor": "white",
            "ticks": ""
           }
          },
          "title": {
           "x": 0.05
          },
          "xaxis": {
           "automargin": true,
           "gridcolor": "white",
           "linecolor": "white",
           "ticks": "",
           "title": {
            "standoff": 15
           },
           "zerolinecolor": "white",
           "zerolinewidth": 2
          },
          "yaxis": {
           "automargin": true,
           "gridcolor": "white",
           "linecolor": "white",
           "ticks": "",
           "title": {
            "standoff": 15
           },
           "zerolinecolor": "white",
           "zerolinewidth": 2
          }
         }
        }
       }
      }
     },
     "metadata": {},
     "output_type": "display_data"
    }
   ],
   "source": [
    "\n",
    "nat = d.groupby(d['Nature'])['Montant cmd'].sum().reset_index()\n",
    "nature = pd.DataFrame(nat)\n",
    "\n",
    "fig = px.pie(nature, names = 'Nature', values = 'Montant cmd', color_discrete_sequence=px.colors.sequential.RdBu)\n",
    "fig.update_traces(textposition='inside', textinfo='percent+label')\n",
    "fig.show()"
   ]
  },
  {
   "cell_type": "markdown",
   "metadata": {},
   "source": [
    "Sales by Univers (Category)"
   ]
  },
  {
   "cell_type": "code",
   "execution_count": 17,
   "metadata": {},
   "outputs": [
    {
     "data": {
      "application/vnd.plotly.v1+json": {
       "config": {
        "plotlyServerURL": "https://plot.ly"
       },
       "data": [
        {
         "domain": {
          "x": [
           0,
           1
          ],
          "y": [
           0,
           1
          ]
         },
         "hovertemplate": "Univers=%{label}<br>Montant cmd=%{value}<extra></extra>",
         "labels": [
          "Bureau Rangement",
          "Canapé Salon Séjour",
          "Chambre Literie",
          "Cuisine Salle de bain",
          "Décoration Textile",
          "Enfant Bébé",
          "Gros Electroménager",
          "Jardin Loisirs Sport",
          "Petit Electroménager",
          "TV Son Multimédia"
         ],
         "legendgroup": "",
         "name": "",
         "showlegend": true,
         "textinfo": "percent+label",
         "textposition": "inside",
         "type": "pie",
         "values": [
          4995269,
          18079497,
          20991333,
          2228424,
          1013837,
          3243475,
          10019409,
          1753974,
          4554544,
          4473055
         ]
        }
       ],
       "layout": {
        "legend": {
         "tracegroupgap": 0
        },
        "margin": {
         "t": 60
        },
        "template": {
         "data": {
          "bar": [
           {
            "error_x": {
             "color": "#2a3f5f"
            },
            "error_y": {
             "color": "#2a3f5f"
            },
            "marker": {
             "line": {
              "color": "#E5ECF6",
              "width": 0.5
             },
             "pattern": {
              "fillmode": "overlay",
              "size": 10,
              "solidity": 0.2
             }
            },
            "type": "bar"
           }
          ],
          "barpolar": [
           {
            "marker": {
             "line": {
              "color": "#E5ECF6",
              "width": 0.5
             },
             "pattern": {
              "fillmode": "overlay",
              "size": 10,
              "solidity": 0.2
             }
            },
            "type": "barpolar"
           }
          ],
          "carpet": [
           {
            "aaxis": {
             "endlinecolor": "#2a3f5f",
             "gridcolor": "white",
             "linecolor": "white",
             "minorgridcolor": "white",
             "startlinecolor": "#2a3f5f"
            },
            "baxis": {
             "endlinecolor": "#2a3f5f",
             "gridcolor": "white",
             "linecolor": "white",
             "minorgridcolor": "white",
             "startlinecolor": "#2a3f5f"
            },
            "type": "carpet"
           }
          ],
          "choropleth": [
           {
            "colorbar": {
             "outlinewidth": 0,
             "ticks": ""
            },
            "type": "choropleth"
           }
          ],
          "contour": [
           {
            "colorbar": {
             "outlinewidth": 0,
             "ticks": ""
            },
            "colorscale": [
             [
              0,
              "#0d0887"
             ],
             [
              0.1111111111111111,
              "#46039f"
             ],
             [
              0.2222222222222222,
              "#7201a8"
             ],
             [
              0.3333333333333333,
              "#9c179e"
             ],
             [
              0.4444444444444444,
              "#bd3786"
             ],
             [
              0.5555555555555556,
              "#d8576b"
             ],
             [
              0.6666666666666666,
              "#ed7953"
             ],
             [
              0.7777777777777778,
              "#fb9f3a"
             ],
             [
              0.8888888888888888,
              "#fdca26"
             ],
             [
              1,
              "#f0f921"
             ]
            ],
            "type": "contour"
           }
          ],
          "contourcarpet": [
           {
            "colorbar": {
             "outlinewidth": 0,
             "ticks": ""
            },
            "type": "contourcarpet"
           }
          ],
          "heatmap": [
           {
            "colorbar": {
             "outlinewidth": 0,
             "ticks": ""
            },
            "colorscale": [
             [
              0,
              "#0d0887"
             ],
             [
              0.1111111111111111,
              "#46039f"
             ],
             [
              0.2222222222222222,
              "#7201a8"
             ],
             [
              0.3333333333333333,
              "#9c179e"
             ],
             [
              0.4444444444444444,
              "#bd3786"
             ],
             [
              0.5555555555555556,
              "#d8576b"
             ],
             [
              0.6666666666666666,
              "#ed7953"
             ],
             [
              0.7777777777777778,
              "#fb9f3a"
             ],
             [
              0.8888888888888888,
              "#fdca26"
             ],
             [
              1,
              "#f0f921"
             ]
            ],
            "type": "heatmap"
           }
          ],
          "heatmapgl": [
           {
            "colorbar": {
             "outlinewidth": 0,
             "ticks": ""
            },
            "colorscale": [
             [
              0,
              "#0d0887"
             ],
             [
              0.1111111111111111,
              "#46039f"
             ],
             [
              0.2222222222222222,
              "#7201a8"
             ],
             [
              0.3333333333333333,
              "#9c179e"
             ],
             [
              0.4444444444444444,
              "#bd3786"
             ],
             [
              0.5555555555555556,
              "#d8576b"
             ],
             [
              0.6666666666666666,
              "#ed7953"
             ],
             [
              0.7777777777777778,
              "#fb9f3a"
             ],
             [
              0.8888888888888888,
              "#fdca26"
             ],
             [
              1,
              "#f0f921"
             ]
            ],
            "type": "heatmapgl"
           }
          ],
          "histogram": [
           {
            "marker": {
             "pattern": {
              "fillmode": "overlay",
              "size": 10,
              "solidity": 0.2
             }
            },
            "type": "histogram"
           }
          ],
          "histogram2d": [
           {
            "colorbar": {
             "outlinewidth": 0,
             "ticks": ""
            },
            "colorscale": [
             [
              0,
              "#0d0887"
             ],
             [
              0.1111111111111111,
              "#46039f"
             ],
             [
              0.2222222222222222,
              "#7201a8"
             ],
             [
              0.3333333333333333,
              "#9c179e"
             ],
             [
              0.4444444444444444,
              "#bd3786"
             ],
             [
              0.5555555555555556,
              "#d8576b"
             ],
             [
              0.6666666666666666,
              "#ed7953"
             ],
             [
              0.7777777777777778,
              "#fb9f3a"
             ],
             [
              0.8888888888888888,
              "#fdca26"
             ],
             [
              1,
              "#f0f921"
             ]
            ],
            "type": "histogram2d"
           }
          ],
          "histogram2dcontour": [
           {
            "colorbar": {
             "outlinewidth": 0,
             "ticks": ""
            },
            "colorscale": [
             [
              0,
              "#0d0887"
             ],
             [
              0.1111111111111111,
              "#46039f"
             ],
             [
              0.2222222222222222,
              "#7201a8"
             ],
             [
              0.3333333333333333,
              "#9c179e"
             ],
             [
              0.4444444444444444,
              "#bd3786"
             ],
             [
              0.5555555555555556,
              "#d8576b"
             ],
             [
              0.6666666666666666,
              "#ed7953"
             ],
             [
              0.7777777777777778,
              "#fb9f3a"
             ],
             [
              0.8888888888888888,
              "#fdca26"
             ],
             [
              1,
              "#f0f921"
             ]
            ],
            "type": "histogram2dcontour"
           }
          ],
          "mesh3d": [
           {
            "colorbar": {
             "outlinewidth": 0,
             "ticks": ""
            },
            "type": "mesh3d"
           }
          ],
          "parcoords": [
           {
            "line": {
             "colorbar": {
              "outlinewidth": 0,
              "ticks": ""
             }
            },
            "type": "parcoords"
           }
          ],
          "pie": [
           {
            "automargin": true,
            "type": "pie"
           }
          ],
          "scatter": [
           {
            "fillpattern": {
             "fillmode": "overlay",
             "size": 10,
             "solidity": 0.2
            },
            "type": "scatter"
           }
          ],
          "scatter3d": [
           {
            "line": {
             "colorbar": {
              "outlinewidth": 0,
              "ticks": ""
             }
            },
            "marker": {
             "colorbar": {
              "outlinewidth": 0,
              "ticks": ""
             }
            },
            "type": "scatter3d"
           }
          ],
          "scattercarpet": [
           {
            "marker": {
             "colorbar": {
              "outlinewidth": 0,
              "ticks": ""
             }
            },
            "type": "scattercarpet"
           }
          ],
          "scattergeo": [
           {
            "marker": {
             "colorbar": {
              "outlinewidth": 0,
              "ticks": ""
             }
            },
            "type": "scattergeo"
           }
          ],
          "scattergl": [
           {
            "marker": {
             "colorbar": {
              "outlinewidth": 0,
              "ticks": ""
             }
            },
            "type": "scattergl"
           }
          ],
          "scattermapbox": [
           {
            "marker": {
             "colorbar": {
              "outlinewidth": 0,
              "ticks": ""
             }
            },
            "type": "scattermapbox"
           }
          ],
          "scatterpolar": [
           {
            "marker": {
             "colorbar": {
              "outlinewidth": 0,
              "ticks": ""
             }
            },
            "type": "scatterpolar"
           }
          ],
          "scatterpolargl": [
           {
            "marker": {
             "colorbar": {
              "outlinewidth": 0,
              "ticks": ""
             }
            },
            "type": "scatterpolargl"
           }
          ],
          "scatterternary": [
           {
            "marker": {
             "colorbar": {
              "outlinewidth": 0,
              "ticks": ""
             }
            },
            "type": "scatterternary"
           }
          ],
          "surface": [
           {
            "colorbar": {
             "outlinewidth": 0,
             "ticks": ""
            },
            "colorscale": [
             [
              0,
              "#0d0887"
             ],
             [
              0.1111111111111111,
              "#46039f"
             ],
             [
              0.2222222222222222,
              "#7201a8"
             ],
             [
              0.3333333333333333,
              "#9c179e"
             ],
             [
              0.4444444444444444,
              "#bd3786"
             ],
             [
              0.5555555555555556,
              "#d8576b"
             ],
             [
              0.6666666666666666,
              "#ed7953"
             ],
             [
              0.7777777777777778,
              "#fb9f3a"
             ],
             [
              0.8888888888888888,
              "#fdca26"
             ],
             [
              1,
              "#f0f921"
             ]
            ],
            "type": "surface"
           }
          ],
          "table": [
           {
            "cells": {
             "fill": {
              "color": "#EBF0F8"
             },
             "line": {
              "color": "white"
             }
            },
            "header": {
             "fill": {
              "color": "#C8D4E3"
             },
             "line": {
              "color": "white"
             }
            },
            "type": "table"
           }
          ]
         },
         "layout": {
          "annotationdefaults": {
           "arrowcolor": "#2a3f5f",
           "arrowhead": 0,
           "arrowwidth": 1
          },
          "autotypenumbers": "strict",
          "coloraxis": {
           "colorbar": {
            "outlinewidth": 0,
            "ticks": ""
           }
          },
          "colorscale": {
           "diverging": [
            [
             0,
             "#8e0152"
            ],
            [
             0.1,
             "#c51b7d"
            ],
            [
             0.2,
             "#de77ae"
            ],
            [
             0.3,
             "#f1b6da"
            ],
            [
             0.4,
             "#fde0ef"
            ],
            [
             0.5,
             "#f7f7f7"
            ],
            [
             0.6,
             "#e6f5d0"
            ],
            [
             0.7,
             "#b8e186"
            ],
            [
             0.8,
             "#7fbc41"
            ],
            [
             0.9,
             "#4d9221"
            ],
            [
             1,
             "#276419"
            ]
           ],
           "sequential": [
            [
             0,
             "#0d0887"
            ],
            [
             0.1111111111111111,
             "#46039f"
            ],
            [
             0.2222222222222222,
             "#7201a8"
            ],
            [
             0.3333333333333333,
             "#9c179e"
            ],
            [
             0.4444444444444444,
             "#bd3786"
            ],
            [
             0.5555555555555556,
             "#d8576b"
            ],
            [
             0.6666666666666666,
             "#ed7953"
            ],
            [
             0.7777777777777778,
             "#fb9f3a"
            ],
            [
             0.8888888888888888,
             "#fdca26"
            ],
            [
             1,
             "#f0f921"
            ]
           ],
           "sequentialminus": [
            [
             0,
             "#0d0887"
            ],
            [
             0.1111111111111111,
             "#46039f"
            ],
            [
             0.2222222222222222,
             "#7201a8"
            ],
            [
             0.3333333333333333,
             "#9c179e"
            ],
            [
             0.4444444444444444,
             "#bd3786"
            ],
            [
             0.5555555555555556,
             "#d8576b"
            ],
            [
             0.6666666666666666,
             "#ed7953"
            ],
            [
             0.7777777777777778,
             "#fb9f3a"
            ],
            [
             0.8888888888888888,
             "#fdca26"
            ],
            [
             1,
             "#f0f921"
            ]
           ]
          },
          "colorway": [
           "#636efa",
           "#EF553B",
           "#00cc96",
           "#ab63fa",
           "#FFA15A",
           "#19d3f3",
           "#FF6692",
           "#B6E880",
           "#FF97FF",
           "#FECB52"
          ],
          "font": {
           "color": "#2a3f5f"
          },
          "geo": {
           "bgcolor": "white",
           "lakecolor": "white",
           "landcolor": "#E5ECF6",
           "showlakes": true,
           "showland": true,
           "subunitcolor": "white"
          },
          "hoverlabel": {
           "align": "left"
          },
          "hovermode": "closest",
          "mapbox": {
           "style": "light"
          },
          "paper_bgcolor": "white",
          "plot_bgcolor": "#E5ECF6",
          "polar": {
           "angularaxis": {
            "gridcolor": "white",
            "linecolor": "white",
            "ticks": ""
           },
           "bgcolor": "#E5ECF6",
           "radialaxis": {
            "gridcolor": "white",
            "linecolor": "white",
            "ticks": ""
           }
          },
          "scene": {
           "xaxis": {
            "backgroundcolor": "#E5ECF6",
            "gridcolor": "white",
            "gridwidth": 2,
            "linecolor": "white",
            "showbackground": true,
            "ticks": "",
            "zerolinecolor": "white"
           },
           "yaxis": {
            "backgroundcolor": "#E5ECF6",
            "gridcolor": "white",
            "gridwidth": 2,
            "linecolor": "white",
            "showbackground": true,
            "ticks": "",
            "zerolinecolor": "white"
           },
           "zaxis": {
            "backgroundcolor": "#E5ECF6",
            "gridcolor": "white",
            "gridwidth": 2,
            "linecolor": "white",
            "showbackground": true,
            "ticks": "",
            "zerolinecolor": "white"
           }
          },
          "shapedefaults": {
           "line": {
            "color": "#2a3f5f"
           }
          },
          "ternary": {
           "aaxis": {
            "gridcolor": "white",
            "linecolor": "white",
            "ticks": ""
           },
           "baxis": {
            "gridcolor": "white",
            "linecolor": "white",
            "ticks": ""
           },
           "bgcolor": "#E5ECF6",
           "caxis": {
            "gridcolor": "white",
            "linecolor": "white",
            "ticks": ""
           }
          },
          "title": {
           "x": 0.05
          },
          "xaxis": {
           "automargin": true,
           "gridcolor": "white",
           "linecolor": "white",
           "ticks": "",
           "title": {
            "standoff": 15
           },
           "zerolinecolor": "white",
           "zerolinewidth": 2
          },
          "yaxis": {
           "automargin": true,
           "gridcolor": "white",
           "linecolor": "white",
           "ticks": "",
           "title": {
            "standoff": 15
           },
           "zerolinecolor": "white",
           "zerolinewidth": 2
          }
         }
        }
       }
      }
     },
     "metadata": {},
     "output_type": "display_data"
    }
   ],
   "source": [
    "\n",
    "un = d.groupby(d['Univers'])['Montant cmd'].sum().reset_index()\n",
    "univ = pd.DataFrame(un)\n",
    "\n",
    "\n",
    "fig = px.pie(univ, names = 'Univers', values = 'Montant cmd')\n",
    "fig.update_traces(textposition='inside', textinfo='percent+label')\n",
    "fig.show()"
   ]
  },
  {
   "cell_type": "markdown",
   "metadata": {},
   "source": [
    "Sales by sellers"
   ]
  },
  {
   "cell_type": "code",
   "execution_count": 18,
   "metadata": {},
   "outputs": [
    {
     "data": {
      "application/vnd.plotly.v1+json": {
       "config": {
        "plotlyServerURL": "https://plot.ly"
       },
       "data": [
        {
         "domain": {
          "x": [
           0,
           1
          ],
          "y": [
           0,
           1
          ]
         },
         "hovertemplate": "Vendeur=%{label}<br>Montant cmd=%{value}<extra></extra>",
         "labels": [
          "Autre vendeur",
          "Vendeur 1",
          "Vendeur 2",
          "Vendeur 3",
          "Vendeur 4",
          "Vendeur 5",
          "Vendeur 6"
         ],
         "legendgroup": "",
         "name": "",
         "showlegend": true,
         "textinfo": "percent+label",
         "textposition": "inside",
         "type": "pie",
         "values": [
          30249115,
          31750774,
          1063979,
          3191896,
          1744125,
          2678113,
          674815
         ]
        }
       ],
       "layout": {
        "legend": {
         "tracegroupgap": 0
        },
        "margin": {
         "t": 60
        },
        "template": {
         "data": {
          "bar": [
           {
            "error_x": {
             "color": "#2a3f5f"
            },
            "error_y": {
             "color": "#2a3f5f"
            },
            "marker": {
             "line": {
              "color": "#E5ECF6",
              "width": 0.5
             },
             "pattern": {
              "fillmode": "overlay",
              "size": 10,
              "solidity": 0.2
             }
            },
            "type": "bar"
           }
          ],
          "barpolar": [
           {
            "marker": {
             "line": {
              "color": "#E5ECF6",
              "width": 0.5
             },
             "pattern": {
              "fillmode": "overlay",
              "size": 10,
              "solidity": 0.2
             }
            },
            "type": "barpolar"
           }
          ],
          "carpet": [
           {
            "aaxis": {
             "endlinecolor": "#2a3f5f",
             "gridcolor": "white",
             "linecolor": "white",
             "minorgridcolor": "white",
             "startlinecolor": "#2a3f5f"
            },
            "baxis": {
             "endlinecolor": "#2a3f5f",
             "gridcolor": "white",
             "linecolor": "white",
             "minorgridcolor": "white",
             "startlinecolor": "#2a3f5f"
            },
            "type": "carpet"
           }
          ],
          "choropleth": [
           {
            "colorbar": {
             "outlinewidth": 0,
             "ticks": ""
            },
            "type": "choropleth"
           }
          ],
          "contour": [
           {
            "colorbar": {
             "outlinewidth": 0,
             "ticks": ""
            },
            "colorscale": [
             [
              0,
              "#0d0887"
             ],
             [
              0.1111111111111111,
              "#46039f"
             ],
             [
              0.2222222222222222,
              "#7201a8"
             ],
             [
              0.3333333333333333,
              "#9c179e"
             ],
             [
              0.4444444444444444,
              "#bd3786"
             ],
             [
              0.5555555555555556,
              "#d8576b"
             ],
             [
              0.6666666666666666,
              "#ed7953"
             ],
             [
              0.7777777777777778,
              "#fb9f3a"
             ],
             [
              0.8888888888888888,
              "#fdca26"
             ],
             [
              1,
              "#f0f921"
             ]
            ],
            "type": "contour"
           }
          ],
          "contourcarpet": [
           {
            "colorbar": {
             "outlinewidth": 0,
             "ticks": ""
            },
            "type": "contourcarpet"
           }
          ],
          "heatmap": [
           {
            "colorbar": {
             "outlinewidth": 0,
             "ticks": ""
            },
            "colorscale": [
             [
              0,
              "#0d0887"
             ],
             [
              0.1111111111111111,
              "#46039f"
             ],
             [
              0.2222222222222222,
              "#7201a8"
             ],
             [
              0.3333333333333333,
              "#9c179e"
             ],
             [
              0.4444444444444444,
              "#bd3786"
             ],
             [
              0.5555555555555556,
              "#d8576b"
             ],
             [
              0.6666666666666666,
              "#ed7953"
             ],
             [
              0.7777777777777778,
              "#fb9f3a"
             ],
             [
              0.8888888888888888,
              "#fdca26"
             ],
             [
              1,
              "#f0f921"
             ]
            ],
            "type": "heatmap"
           }
          ],
          "heatmapgl": [
           {
            "colorbar": {
             "outlinewidth": 0,
             "ticks": ""
            },
            "colorscale": [
             [
              0,
              "#0d0887"
             ],
             [
              0.1111111111111111,
              "#46039f"
             ],
             [
              0.2222222222222222,
              "#7201a8"
             ],
             [
              0.3333333333333333,
              "#9c179e"
             ],
             [
              0.4444444444444444,
              "#bd3786"
             ],
             [
              0.5555555555555556,
              "#d8576b"
             ],
             [
              0.6666666666666666,
              "#ed7953"
             ],
             [
              0.7777777777777778,
              "#fb9f3a"
             ],
             [
              0.8888888888888888,
              "#fdca26"
             ],
             [
              1,
              "#f0f921"
             ]
            ],
            "type": "heatmapgl"
           }
          ],
          "histogram": [
           {
            "marker": {
             "pattern": {
              "fillmode": "overlay",
              "size": 10,
              "solidity": 0.2
             }
            },
            "type": "histogram"
           }
          ],
          "histogram2d": [
           {
            "colorbar": {
             "outlinewidth": 0,
             "ticks": ""
            },
            "colorscale": [
             [
              0,
              "#0d0887"
             ],
             [
              0.1111111111111111,
              "#46039f"
             ],
             [
              0.2222222222222222,
              "#7201a8"
             ],
             [
              0.3333333333333333,
              "#9c179e"
             ],
             [
              0.4444444444444444,
              "#bd3786"
             ],
             [
              0.5555555555555556,
              "#d8576b"
             ],
             [
              0.6666666666666666,
              "#ed7953"
             ],
             [
              0.7777777777777778,
              "#fb9f3a"
             ],
             [
              0.8888888888888888,
              "#fdca26"
             ],
             [
              1,
              "#f0f921"
             ]
            ],
            "type": "histogram2d"
           }
          ],
          "histogram2dcontour": [
           {
            "colorbar": {
             "outlinewidth": 0,
             "ticks": ""
            },
            "colorscale": [
             [
              0,
              "#0d0887"
             ],
             [
              0.1111111111111111,
              "#46039f"
             ],
             [
              0.2222222222222222,
              "#7201a8"
             ],
             [
              0.3333333333333333,
              "#9c179e"
             ],
             [
              0.4444444444444444,
              "#bd3786"
             ],
             [
              0.5555555555555556,
              "#d8576b"
             ],
             [
              0.6666666666666666,
              "#ed7953"
             ],
             [
              0.7777777777777778,
              "#fb9f3a"
             ],
             [
              0.8888888888888888,
              "#fdca26"
             ],
             [
              1,
              "#f0f921"
             ]
            ],
            "type": "histogram2dcontour"
           }
          ],
          "mesh3d": [
           {
            "colorbar": {
             "outlinewidth": 0,
             "ticks": ""
            },
            "type": "mesh3d"
           }
          ],
          "parcoords": [
           {
            "line": {
             "colorbar": {
              "outlinewidth": 0,
              "ticks": ""
             }
            },
            "type": "parcoords"
           }
          ],
          "pie": [
           {
            "automargin": true,
            "type": "pie"
           }
          ],
          "scatter": [
           {
            "fillpattern": {
             "fillmode": "overlay",
             "size": 10,
             "solidity": 0.2
            },
            "type": "scatter"
           }
          ],
          "scatter3d": [
           {
            "line": {
             "colorbar": {
              "outlinewidth": 0,
              "ticks": ""
             }
            },
            "marker": {
             "colorbar": {
              "outlinewidth": 0,
              "ticks": ""
             }
            },
            "type": "scatter3d"
           }
          ],
          "scattercarpet": [
           {
            "marker": {
             "colorbar": {
              "outlinewidth": 0,
              "ticks": ""
             }
            },
            "type": "scattercarpet"
           }
          ],
          "scattergeo": [
           {
            "marker": {
             "colorbar": {
              "outlinewidth": 0,
              "ticks": ""
             }
            },
            "type": "scattergeo"
           }
          ],
          "scattergl": [
           {
            "marker": {
             "colorbar": {
              "outlinewidth": 0,
              "ticks": ""
             }
            },
            "type": "scattergl"
           }
          ],
          "scattermapbox": [
           {
            "marker": {
             "colorbar": {
              "outlinewidth": 0,
              "ticks": ""
             }
            },
            "type": "scattermapbox"
           }
          ],
          "scatterpolar": [
           {
            "marker": {
             "colorbar": {
              "outlinewidth": 0,
              "ticks": ""
             }
            },
            "type": "scatterpolar"
           }
          ],
          "scatterpolargl": [
           {
            "marker": {
             "colorbar": {
              "outlinewidth": 0,
              "ticks": ""
             }
            },
            "type": "scatterpolargl"
           }
          ],
          "scatterternary": [
           {
            "marker": {
             "colorbar": {
              "outlinewidth": 0,
              "ticks": ""
             }
            },
            "type": "scatterternary"
           }
          ],
          "surface": [
           {
            "colorbar": {
             "outlinewidth": 0,
             "ticks": ""
            },
            "colorscale": [
             [
              0,
              "#0d0887"
             ],
             [
              0.1111111111111111,
              "#46039f"
             ],
             [
              0.2222222222222222,
              "#7201a8"
             ],
             [
              0.3333333333333333,
              "#9c179e"
             ],
             [
              0.4444444444444444,
              "#bd3786"
             ],
             [
              0.5555555555555556,
              "#d8576b"
             ],
             [
              0.6666666666666666,
              "#ed7953"
             ],
             [
              0.7777777777777778,
              "#fb9f3a"
             ],
             [
              0.8888888888888888,
              "#fdca26"
             ],
             [
              1,
              "#f0f921"
             ]
            ],
            "type": "surface"
           }
          ],
          "table": [
           {
            "cells": {
             "fill": {
              "color": "#EBF0F8"
             },
             "line": {
              "color": "white"
             }
            },
            "header": {
             "fill": {
              "color": "#C8D4E3"
             },
             "line": {
              "color": "white"
             }
            },
            "type": "table"
           }
          ]
         },
         "layout": {
          "annotationdefaults": {
           "arrowcolor": "#2a3f5f",
           "arrowhead": 0,
           "arrowwidth": 1
          },
          "autotypenumbers": "strict",
          "coloraxis": {
           "colorbar": {
            "outlinewidth": 0,
            "ticks": ""
           }
          },
          "colorscale": {
           "diverging": [
            [
             0,
             "#8e0152"
            ],
            [
             0.1,
             "#c51b7d"
            ],
            [
             0.2,
             "#de77ae"
            ],
            [
             0.3,
             "#f1b6da"
            ],
            [
             0.4,
             "#fde0ef"
            ],
            [
             0.5,
             "#f7f7f7"
            ],
            [
             0.6,
             "#e6f5d0"
            ],
            [
             0.7,
             "#b8e186"
            ],
            [
             0.8,
             "#7fbc41"
            ],
            [
             0.9,
             "#4d9221"
            ],
            [
             1,
             "#276419"
            ]
           ],
           "sequential": [
            [
             0,
             "#0d0887"
            ],
            [
             0.1111111111111111,
             "#46039f"
            ],
            [
             0.2222222222222222,
             "#7201a8"
            ],
            [
             0.3333333333333333,
             "#9c179e"
            ],
            [
             0.4444444444444444,
             "#bd3786"
            ],
            [
             0.5555555555555556,
             "#d8576b"
            ],
            [
             0.6666666666666666,
             "#ed7953"
            ],
            [
             0.7777777777777778,
             "#fb9f3a"
            ],
            [
             0.8888888888888888,
             "#fdca26"
            ],
            [
             1,
             "#f0f921"
            ]
           ],
           "sequentialminus": [
            [
             0,
             "#0d0887"
            ],
            [
             0.1111111111111111,
             "#46039f"
            ],
            [
             0.2222222222222222,
             "#7201a8"
            ],
            [
             0.3333333333333333,
             "#9c179e"
            ],
            [
             0.4444444444444444,
             "#bd3786"
            ],
            [
             0.5555555555555556,
             "#d8576b"
            ],
            [
             0.6666666666666666,
             "#ed7953"
            ],
            [
             0.7777777777777778,
             "#fb9f3a"
            ],
            [
             0.8888888888888888,
             "#fdca26"
            ],
            [
             1,
             "#f0f921"
            ]
           ]
          },
          "colorway": [
           "#636efa",
           "#EF553B",
           "#00cc96",
           "#ab63fa",
           "#FFA15A",
           "#19d3f3",
           "#FF6692",
           "#B6E880",
           "#FF97FF",
           "#FECB52"
          ],
          "font": {
           "color": "#2a3f5f"
          },
          "geo": {
           "bgcolor": "white",
           "lakecolor": "white",
           "landcolor": "#E5ECF6",
           "showlakes": true,
           "showland": true,
           "subunitcolor": "white"
          },
          "hoverlabel": {
           "align": "left"
          },
          "hovermode": "closest",
          "mapbox": {
           "style": "light"
          },
          "paper_bgcolor": "white",
          "plot_bgcolor": "#E5ECF6",
          "polar": {
           "angularaxis": {
            "gridcolor": "white",
            "linecolor": "white",
            "ticks": ""
           },
           "bgcolor": "#E5ECF6",
           "radialaxis": {
            "gridcolor": "white",
            "linecolor": "white",
            "ticks": ""
           }
          },
          "scene": {
           "xaxis": {
            "backgroundcolor": "#E5ECF6",
            "gridcolor": "white",
            "gridwidth": 2,
            "linecolor": "white",
            "showbackground": true,
            "ticks": "",
            "zerolinecolor": "white"
           },
           "yaxis": {
            "backgroundcolor": "#E5ECF6",
            "gridcolor": "white",
            "gridwidth": 2,
            "linecolor": "white",
            "showbackground": true,
            "ticks": "",
            "zerolinecolor": "white"
           },
           "zaxis": {
            "backgroundcolor": "#E5ECF6",
            "gridcolor": "white",
            "gridwidth": 2,
            "linecolor": "white",
            "showbackground": true,
            "ticks": "",
            "zerolinecolor": "white"
           }
          },
          "shapedefaults": {
           "line": {
            "color": "#2a3f5f"
           }
          },
          "ternary": {
           "aaxis": {
            "gridcolor": "white",
            "linecolor": "white",
            "ticks": ""
           },
           "baxis": {
            "gridcolor": "white",
            "linecolor": "white",
            "ticks": ""
           },
           "bgcolor": "#E5ECF6",
           "caxis": {
            "gridcolor": "white",
            "linecolor": "white",
            "ticks": ""
           }
          },
          "title": {
           "x": 0.05
          },
          "xaxis": {
           "automargin": true,
           "gridcolor": "white",
           "linecolor": "white",
           "ticks": "",
           "title": {
            "standoff": 15
           },
           "zerolinecolor": "white",
           "zerolinewidth": 2
          },
          "yaxis": {
           "automargin": true,
           "gridcolor": "white",
           "linecolor": "white",
           "ticks": "",
           "title": {
            "standoff": 15
           },
           "zerolinecolor": "white",
           "zerolinewidth": 2
          }
         }
        }
       }
      }
     },
     "metadata": {},
     "output_type": "display_data"
    }
   ],
   "source": [
    "\n",
    "v = d.groupby(d['Vendeur'])['Montant cmd'].sum().reset_index()\n",
    "ven = pd.DataFrame(v)\n",
    "\n",
    "fig = px.pie(ven, names = 'Vendeur', values = 'Montant cmd')\n",
    "fig.update_traces(textposition='inside', textinfo='percent+label')\n",
    "fig.show()"
   ]
  },
  {
   "cell_type": "markdown",
   "metadata": {},
   "source": [
    "Visualization of the best-selling categories in the marketplace."
   ]
  },
  {
   "cell_type": "code",
   "execution_count": 19,
   "metadata": {},
   "outputs": [
    {
     "data": {
      "image/png": "[encoded data removed]",
      "text/plain": [
       "<Figure size 1000x500 with 1 Axes>"
      ]
     },
     "metadata": {},
     "output_type": "display_data"
    }
   ],
   "source": [
    "text = ' '.join(d['Univers'].dropna().drop_duplicates())\n",
    "\n",
    "\n",
    "wordcloud = WordCloud(max_font_size=50, max_words=100,background_color=\"white\").generate(text)\n",
    "\n",
    "\n",
    "plt.figure(figsize=(10, 5))\n",
    "plt.imshow(wordcloud, interpolation='bilinear')\n",
    "plt.axis(\"off\")\n",
    "plt.show()"
   ]
  },
  {
   "cell_type": "markdown",
   "metadata": {},
   "source": [
    "## Algorithm to Find Mislabeled Rows or Products"
   ]
  },
  {
   "cell_type": "markdown",
   "metadata": {},
   "source": [
    "Algorithm that uses the 'Nature' column to detect misclassified rows and creates a 'B_Category' column containing values (True, False):\n",
    "\n",
    "True: If the row is correctly categorized.\n",
    "\n",
    "False: If the row is misclassified.\n",
    "\n",
    "For this, I have created a function to do the job, taking the 'Nature' column as an argument that I want to compare with the 'Libellé produit' column since the 'Nature' column should correspond to the 'Libellé produit' column.\n",
    "\n",
    "Example: \"Lit coffre madrid 140x200 + 1 sommier ch ne bl...\" and \"Lit adulte\" => this row is correctly categorized.\n",
    "\n",
    "On the other hand, this row is misclassified <= \"Nappe antitache ronde infroissable et 100 poly...\" and \"Linge de table\""
   ]
  },
  {
   "cell_type": "code",
   "execution_count": 20,
   "metadata": {},
   "outputs": [
    {
     "data": {
      "text/html": [
       "<div>\n",
       "<style scoped>\n",
       "    .dataframe tbody tr th:only-of-type {\n",
       "        vertical-align: middle;\n",
       "    }\n",
       "\n",
       "    .dataframe tbody tr th {\n",
       "        vertical-align: top;\n",
       "    }\n",
       "\n",
       "    .dataframe thead th {\n",
       "        text-align: right;\n",
       "    }\n",
       "</style>\n",
       "<table border=\"1\" class=\"dataframe\">\n",
       "  <thead>\n",
       "    <tr style=\"text-align: right;\">\n",
       "      <th></th>\n",
       "      <th>Cod_cmd</th>\n",
       "      <th>Libellé produit</th>\n",
       "      <th>Vendeur</th>\n",
       "      <th>Univers</th>\n",
       "      <th>Nature</th>\n",
       "      <th>Date de commande</th>\n",
       "      <th>Montant cmd</th>\n",
       "      <th>Quantité</th>\n",
       "      <th>Prix transport</th>\n",
       "      <th>Délai transport annoncé</th>\n",
       "      <th>Montant cmd sans transport</th>\n",
       "      <th>String_Exists</th>\n",
       "    </tr>\n",
       "  </thead>\n",
       "  <tbody>\n",
       "    <tr>\n",
       "      <th>0</th>\n",
       "      <td>182210782</td>\n",
       "      <td>Table basse carrée detroit design industriel</td>\n",
       "      <td>Autre vendeur</td>\n",
       "      <td>Canapé Salon Séjour</td>\n",
       "      <td>Table basse</td>\n",
       "      <td>2021-01-22</td>\n",
       "      <td>244</td>\n",
       "      <td>4</td>\n",
       "      <td>6.67</td>\n",
       "      <td>10.0</td>\n",
       "      <td>237.33</td>\n",
       "      <td>True</td>\n",
       "    </tr>\n",
       "    <tr>\n",
       "      <th>1</th>\n",
       "      <td>182082437</td>\n",
       "      <td>Ours en peluche géant 150 cm brun</td>\n",
       "      <td>Autre vendeur</td>\n",
       "      <td>Enfant Bébé</td>\n",
       "      <td>Peluche</td>\n",
       "      <td>2021-01-19</td>\n",
       "      <td>28</td>\n",
       "      <td>1</td>\n",
       "      <td>9.92</td>\n",
       "      <td>10.0</td>\n",
       "      <td>18.08</td>\n",
       "      <td>True</td>\n",
       "    </tr>\n",
       "    <tr>\n",
       "      <th>2</th>\n",
       "      <td>182095765</td>\n",
       "      <td>Ours en peluche géant 100 cm blanc</td>\n",
       "      <td>Autre vendeur</td>\n",
       "      <td>Enfant Bébé</td>\n",
       "      <td>Peluche</td>\n",
       "      <td>2021-01-20</td>\n",
       "      <td>15</td>\n",
       "      <td>1</td>\n",
       "      <td>9.92</td>\n",
       "      <td>10.0</td>\n",
       "      <td>5.08</td>\n",
       "      <td>True</td>\n",
       "    </tr>\n",
       "    <tr>\n",
       "      <th>3</th>\n",
       "      <td>182615392</td>\n",
       "      <td>Lot de 4 chaises mia noires pour salle à manger</td>\n",
       "      <td>Autre vendeur</td>\n",
       "      <td>Canapé Salon Séjour</td>\n",
       "      <td>Chaise</td>\n",
       "      <td>2021-01-25</td>\n",
       "      <td>385</td>\n",
       "      <td>2</td>\n",
       "      <td>20.75</td>\n",
       "      <td>10.0</td>\n",
       "      <td>364.25</td>\n",
       "      <td>True</td>\n",
       "    </tr>\n",
       "    <tr>\n",
       "      <th>4</th>\n",
       "      <td>184222081</td>\n",
       "      <td>Meuble tv falko bois blanc et gris</td>\n",
       "      <td>Autre vendeur</td>\n",
       "      <td>Canapé Salon Séjour</td>\n",
       "      <td>Meuble tv</td>\n",
       "      <td>2021-02-13</td>\n",
       "      <td>61</td>\n",
       "      <td>1</td>\n",
       "      <td>19.08</td>\n",
       "      <td>10.0</td>\n",
       "      <td>41.92</td>\n",
       "      <td>True</td>\n",
       "    </tr>\n",
       "  </tbody>\n",
       "</table>\n",
       "</div>"
      ],
      "text/plain": [
       "     Cod_cmd                                  Libellé produit        Vendeur  \\\n",
       "0  182210782     Table basse carrée detroit design industriel  Autre vendeur   \n",
       "1  182082437                Ours en peluche géant 150 cm brun  Autre vendeur   \n",
       "2  182095765               Ours en peluche géant 100 cm blanc  Autre vendeur   \n",
       "3  182615392  Lot de 4 chaises mia noires pour salle à manger  Autre vendeur   \n",
       "4  184222081               Meuble tv falko bois blanc et gris  Autre vendeur   \n",
       "\n",
       "               Univers       Nature Date de commande  Montant cmd  Quantité  \\\n",
       "0  Canapé Salon Séjour  Table basse       2021-01-22          244         4   \n",
       "1          Enfant Bébé      Peluche       2021-01-19           28         1   \n",
       "2          Enfant Bébé      Peluche       2021-01-20           15         1   \n",
       "3  Canapé Salon Séjour       Chaise       2021-01-25          385         2   \n",
       "4  Canapé Salon Séjour    Meuble tv       2021-02-13           61         1   \n",
       "\n",
       "   Prix transport  Délai transport annoncé  Montant cmd sans transport  \\\n",
       "0            6.67                     10.0                      237.33   \n",
       "1            9.92                     10.0                       18.08   \n",
       "2            9.92                     10.0                        5.08   \n",
       "3           20.75                     10.0                      364.25   \n",
       "4           19.08                     10.0                       41.92   \n",
       "\n",
       "   String_Exists  \n",
       "0           True  \n",
       "1           True  \n",
       "2           True  \n",
       "3           True  \n",
       "4           True  "
      ]
     },
     "execution_count": 20,
     "metadata": {},
     "output_type": "execute_result"
    }
   ],
   "source": [
    "def existe(row):\n",
    "   \n",
    "    nature_tokens = unidecode(str(row['Nature'])).split()\n",
    "\n",
    "    \n",
    "    phrase = unidecode(str(row['Libellé produit'])).lower()\n",
    "\n",
    "    for token in nature_tokens:\n",
    "        if token.lower() in phrase:\n",
    "            return True\n",
    "\n",
    "    return False\n",
    "\n",
    "\n",
    "d['String_Exists'] = d.apply(existe, axis=1)\n",
    "d.head()\n"
   ]
  },
  {
   "cell_type": "markdown",
   "metadata": {},
   "source": [
    "## Correction of mislabeled Products"
   ]
  },
  {
   "cell_type": "markdown",
   "metadata": {},
   "source": [
    "#### Using a Multinomial Naive Bayes NLP model. "
   ]
  },
  {
   "cell_type": "code",
   "execution_count": 27,
   "metadata": {},
   "outputs": [
    {
     "name": "stderr",
     "output_type": "stream",
     "text": [
      "[nltk_data] Downloading package stopwords to\n",
      "[nltk_data]     C:\\Users\\etulyon1\\AppData\\Roaming\\nltk_data...\n",
      "[nltk_data]   Package stopwords is already up-to-date!\n",
      "[nltk_data] Downloading package punkt to\n",
      "[nltk_data]     C:\\Users\\etulyon1\\AppData\\Roaming\\nltk_data...\n",
      "[nltk_data]   Package punkt is already up-to-date!\n",
      "c:\\Users\\etulyon1\\AppData\\Local\\Programs\\Python\\Python311\\Lib\\site-packages\\sklearn\\metrics\\_classification.py:1471: UndefinedMetricWarning:\n",
      "\n",
      "Precision and F-score are ill-defined and being set to 0.0 in labels with no predicted samples. Use `zero_division` parameter to control this behavior.\n",
      "\n",
      "c:\\Users\\etulyon1\\AppData\\Local\\Programs\\Python\\Python311\\Lib\\site-packages\\sklearn\\metrics\\_classification.py:1471: UndefinedMetricWarning:\n",
      "\n",
      "Precision and F-score are ill-defined and being set to 0.0 in labels with no predicted samples. Use `zero_division` parameter to control this behavior.\n",
      "\n"
     ]
    },
    {
     "name": "stdout",
     "output_type": "stream",
     "text": [
      "Accuracy: 0.8427240773286467\n",
      "Classification Report:\n",
      "                       precision    recall  f1-score   support\n",
      "\n",
      "           Abat jour       0.00      0.00      0.00         2\n",
      "         Abattant wc       0.00      0.00      0.00        12\n",
      "      Abri de jardin       0.00      0.00      0.00         9\n",
      "      Acc telephonie       0.50      0.70      0.58        99\n",
      " Access. PC Tablette       0.00      0.00      0.00        20\n",
      " Accessoire Barbecue       0.00      0.00      0.00         2\n",
      "Accessoire allaitem.       0.00      0.00      0.00         1\n",
      "     Accessoire aspi       0.00      0.00      0.00        32\n",
      "Accessoire autoradio       0.00      0.00      0.00         3\n",
      "   Accessoire biblio       0.00      0.00      0.00        34\n",
      "   Accessoire bureau       0.00      0.00      0.00        26\n",
      "  Accessoire camping       0.00      0.00      0.00         3\n",
      " Accessoire cave vin       0.00      0.00      0.00         3\n",
      "Accessoire ch adulte       0.89      0.09      0.17        85\n",
      "Accessoire ch enfant       0.00      0.00      0.00        31\n",
      " Accessoire cheminée       0.00      0.00      0.00         5\n",
      "  Accessoire cloture       0.00      0.00      0.00         5\n",
      "  Accessoire cuisine       0.00      0.00      0.00         2\n",
      "  Accessoire cuisson       0.00      0.00      0.00        24\n",
      "Accessoire de voyage       0.00      0.00      0.00         2\n",
      " Accessoire dressing       0.83      0.14      0.23        37\n",
      "  Accessoire fitness       1.00      0.17      0.29        42\n",
      "    Accessoire froid       0.00      0.00      0.00        10\n",
      "   Accessoire glisse       0.00      0.00      0.00         7\n",
      "   Accessoire jardin       0.00      0.00      0.00        24\n",
      "Accessoire jeu vidéo       0.00      0.00      0.00        20\n",
      "Accessoire jeux café       0.00      0.00      0.00         1\n",
      " Accessoire jeux ext       0.00      0.00      0.00         2\n",
      "   Accessoire lavage       0.00      0.00      0.00        18\n",
      "Accessoire luminaire       0.00      0.00      0.00         1\n",
      "      Accessoire pem       0.00      0.00      0.00        22\n",
      "  Accessoire piscine       0.00      0.00      0.00        12\n",
      "  Accessoire plomber       0.00      0.00      0.00         1\n",
      "   Accessoire poupée       0.00      0.00      0.00         2\n",
      "Accessoire poussette       0.00      0.00      0.00         3\n",
      "      Accessoire sdb       1.00      0.03      0.06        35\n",
      "Accessoire siègeauto       0.00      0.00      0.00         1\n",
      "    Accessoire soins       0.00      0.00      0.00         2\n",
      "   Accessoire séjour       0.00      0.00      0.00        11\n",
      "  Accessoire textile       0.00      0.00      0.00        24\n",
      "Accessoire vidéoproj       0.00      0.00      0.00         1\n",
      "     Accessoire vélo       0.00      0.00      0.00         4\n",
      "       Accessoire wc       1.00      0.31      0.47        39\n",
      "    Alarme de maison       0.00      0.00      0.00         2\n",
      "             Ampoule       0.00      0.00      0.00        15\n",
      "          Antenne tv       0.00      0.00      0.00         2\n",
      "     Appareil  photo       0.00      0.00      0.00         8\n",
      "  Appareil convivial       0.00      0.00      0.00         1\n",
      "Appareil musculation       0.73      0.62      0.67        48\n",
      "   Appareil à fondue       0.00      0.00      0.00         4\n",
      " Appareil à raclette       0.00      0.00      0.00        37\n",
      "   Appareil à souder       0.00      0.00      0.00         1\n",
      " Appareils a coiffer       0.00      0.00      0.00        21\n",
      "            Applique       0.00      0.00      0.00        33\n",
      "             Armoire       0.90      0.99      0.94      1198\n",
      "   Armoire de jardin       0.00      0.00      0.00         8\n",
      "         Armoire lit       0.00      0.00      0.00        22\n",
      "            Arrosage       0.00      0.00      0.00         5\n",
      "   Article de ménage       0.00      0.00      0.00         1\n",
      "    Aspirateur balai       0.66      0.98      0.79       310\n",
      "    Aspirateur robot       0.93      0.79      0.86        34\n",
      " Aspirateur traineau       0.77      0.89      0.83       185\n",
      "         Autocuiseur       0.00      0.00      0.00        18\n",
      "          Autoportée       0.00      0.00      0.00         1\n",
      "           Autoradio       0.00      0.00      0.00         1\n",
      "       Autre cuisson       0.00      0.00      0.00        20\n",
      "Autre prep culinaire       0.00      0.00      0.00        28\n",
      " Autre soin personne       1.00      0.12      0.21        43\n",
      "              Auvent       0.00      0.00      0.00         3\n",
      "            Babyfoot       0.00      0.00      0.00         4\n",
      "           Babyphone       0.00      0.00      0.00        10\n",
      "         Bac à sable       0.00      0.00      0.00         6\n",
      "           Baignoire       0.00      0.00      0.00         6\n",
      "      Baignoire bébé       0.00      0.00      0.00         5\n",
      "      Bain de soleil       0.50      0.82      0.62        71\n",
      "      Baladeur mp3/4       0.00      0.00      0.00         1\n",
      "        Balai vapeur       0.00      0.00      0.00        23\n",
      "  Balance de cuisine       0.00      0.00      0.00        14\n",
      "     Balancelle bébé       0.00      0.00      0.00         1\n",
      "Balancelle de jardin       0.00      0.00      0.00         9\n",
      "          Balançoire       0.00      0.00      0.00        12\n",
      "                Banc       1.00      0.21      0.35        33\n",
      "         Banc de lit       0.93      0.52      0.67        27\n",
      "           Banquette       0.92      0.97      0.95       540\n",
      "                 Bar       0.88      0.81      0.84       192\n",
      "            Barbecue       0.53      0.86      0.65        84\n",
      "    Barrette mémoire       0.00      0.00      0.00         2\n",
      "Barrière de sécurité       0.00      0.00      0.00        22\n",
      "             Batteur       0.00      0.00      0.00        17\n",
      "              Bavoir       0.00      0.00      0.00         1\n",
      "             Berceau       0.00      0.00      0.00         5\n",
      "             Biberon       0.00      0.00      0.00         6\n",
      "        Bibliotheque       0.92      0.95      0.93      1453\n",
      "             Billard       0.00      0.00      0.00         8\n",
      "             Blender       0.82      0.82      0.82        45\n",
      "   Boite aux lettres       0.00      0.00      0.00         2\n",
      "  Boite de rangement       0.92      0.56      0.70        86\n",
      " Boites conservation       0.00      0.00      0.00        20\n",
      "     Boitier alim PC       0.00      0.00      0.00         9\n",
      "        Boudin porte       0.00      0.00      0.00         4\n",
      "            Bougeoir       0.00      0.00      0.00         3\n",
      "              Bougie       0.91      0.91      0.91        54\n",
      "          Bouilloire       0.95      0.84      0.89        69\n",
      "             Brasero       0.00      0.00      0.00         4\n",
      "           Brise vue       0.00      0.00      0.00        15\n",
      "              Buffet       0.81      0.92      0.86       749\n",
      "   Buffet de cuisine       0.82      0.79      0.80       359\n",
      "              Bureau       0.96      0.94      0.95      1754\n",
      "       Cabane enfant       0.00      0.00      0.00        10\n",
      "    Cabine de douche       0.00      0.00      0.00         5\n",
      "         Cadre photo       0.00      0.00      0.00        43\n",
      "      Cadre à lattes       0.83      0.83      0.83       725\n",
      "    Cafetière filtre       1.00      0.38      0.55        37\n",
      "Cafetière portionnée       0.66      0.84      0.74        89\n",
      "           Cale bébé       0.00      0.00      0.00         4\n",
      "        Camera sport       0.00      0.00      0.00         1\n",
      "           Camescope       0.00      0.00      0.00         1\n",
      " Caméra surveillance       0.00      0.00      0.00         1\n",
      "        Canape droit       0.92      0.82      0.87       744\n",
      "      Canapé d'angle       0.89      0.90      0.90       993\n",
      "              Carafe       0.00      0.00      0.00        10\n",
      "    Carafe filtrante       0.00      0.00      0.00         3\n",
      "            Carpette       1.00      0.79      0.88        58\n",
      "     Carte graphique       0.00      0.00      0.00         4\n",
      "          Carte mère       0.00      0.00      0.00         4\n",
      "           Cartouche       0.00      0.00      0.00        30\n",
      "      Casque filaire       0.00      0.00      0.00         4\n",
      "     Casque sans fil       0.00      0.00      0.00        15\n",
      "           Casserole       1.00      0.39      0.56        36\n",
      "          Cave a vin       0.74      1.00      0.85        53\n",
      "     Centrale vapeur       0.66      0.78      0.71        72\n",
      "       Centrifugeuse       0.00      0.00      0.00         5\n",
      "        Chaine audio       0.00      0.00      0.00        18\n",
      "              Chaise       0.91      0.98      0.95      1982\n",
      "    Chaise de bureau       0.98      0.99      0.98      1092\n",
      "   Chaise haute bébé       0.00      0.00      0.00         6\n",
      "            Chargeur       0.00      0.00      0.00        15\n",
      "  Chariot de courses       0.00      0.00      0.00        26\n",
      " Chauffage d'appoint       0.00      0.00      0.00        18\n",
      "          Chauffeuse       0.00      0.00      0.00         1\n",
      "      Cheminée Poele       0.00      0.00      0.00         3\n",
      "              Chevet       0.91      0.96      0.93       779\n",
      "         Chiffonnier       0.91      0.76      0.83        84\n",
      "         Ciel de lit       0.00      0.00      0.00         1\n",
      "             Cintres       1.00      0.43      0.60        28\n",
      "      Clavier souris       0.00      0.00      0.00        20\n",
      "             Cle usb       0.00      0.00      0.00         6\n",
      "         Climatiseur       0.00      0.00      0.00         5\n",
      "              Coffre       0.96      0.65      0.77        79\n",
      "           Coiffeuse       0.97      0.98      0.97       564\n",
      "     Colonne cuisine       0.00      0.00      0.00        43\n",
      "   Colonne de douche       0.00      0.00      0.00        21\n",
      "         Colonne sdb       0.67      0.72      0.69       279\n",
      "             Commode       0.89      0.97      0.93      1054\n",
      "          Composteur       0.00      0.00      0.00         1\n",
      "         Congelateur       0.99      0.86      0.92       148\n",
      "         Connectique       0.00      0.00      0.00         6\n",
      "             Console       0.93      0.91      0.92       344\n",
      "     Console de jeux       0.00      0.00      0.00         8\n",
      "             Couette       0.95      0.86      0.90       357\n",
      "             Couffin       0.00      0.00      0.00         1\n",
      "             Coussin       0.74      0.92      0.82       138\n",
      " Coussin chaise bébé       0.00      0.00      0.00         2\n",
      "  Couteau electrique       0.00      0.00      0.00         2\n",
      "             Couvert       0.00      0.00      0.00         5\n",
      "            Crepiere       0.00      0.00      0.00         9\n",
      "       Croque gaufre       0.00      0.00      0.00        20\n",
      "       Cuiseur a riz       0.00      0.00      0.00        10\n",
      "      Cuiseur vapeur       0.00      0.00      0.00        42\n",
      "    Cuisine complète       0.82      0.78      0.80        58\n",
      "          Cuisiniere       0.85      0.98      0.91       201\n",
      "         Dalle écran       0.00      0.00      0.00         3\n",
      "  Decoration de noel       0.00      0.00      0.00        10\n",
      " Decoration de table       0.00      0.00      0.00        12\n",
      "         Deplimousse       0.99      0.97      0.98        71\n",
      "            Desserte       0.85      0.97      0.91       230\n",
      "       Dessus de lit       0.00      0.00      0.00        39\n",
      "    Dessus de meuble       0.00      0.00      0.00         2\n",
      "           Diffuseur       0.00      0.00      0.00         2\n",
      "          Disque dur       0.00      0.00      0.00        12\n",
      "    Douche de jardin       0.00      0.00      0.00         2\n",
      "         Drap housse       0.64      0.99      0.78       185\n",
      "           Drap plat       0.84      0.26      0.39       121\n",
      "    Dressing complet       0.87      0.85      0.86       121\n",
      "  Décapeur thermique       0.00      0.00      0.00         1\n",
      "         Déguisement       0.00      0.00      0.00         1\n",
      " Détecteur mouvement       0.00      0.00      0.00         1\n",
      " Eclairage exterieur       0.00      0.00      0.00         9\n",
      "           Ecouteurs       0.00      0.00      0.00         6\n",
      "            Ecran PC       0.00      0.00      0.00        18\n",
      " Ecran de projection       0.00      0.00      0.00         5\n",
      "  Electrostimulation       0.00      0.00      0.00         8\n",
      "     Element bas SDB       0.69      0.82      0.75       201\n",
      "    Elément Haut SDB       0.00      0.00      0.00        17\n",
      "   Elément de bureau       0.00      0.00      0.00        10\n",
      "  Enceinte connectée       0.44      0.08      0.14        50\n",
      "        Enceintes pc       0.00      0.00      0.00         1\n",
      "    Ens buffet table       0.00      0.00      0.00         2\n",
      "   Ens table chaises       0.68      0.78      0.73       300\n",
      "Ensemble Home cinema       0.00      0.00      0.00         6\n",
      "    Ensemble chambre       0.00      0.00      0.00        28\n",
      "        Ensemble sdb       1.00      0.32      0.48        50\n",
      "       Environnement       0.95      0.98      0.96        53\n",
      "           Epilateur       0.00      0.00      0.00        10\n",
      "             Etagère       0.82      0.83      0.82       423\n",
      "    Etendoir a linge       0.00      0.00      0.00        19\n",
      "               Evier       0.95      0.63      0.76        30\n",
      "            Expresso       0.80      0.50      0.61        78\n",
      "   Extracteur de jus       0.00      0.00      0.00        15\n",
      "            Fauteuil       0.82      0.84      0.83       626\n",
      "      Fauteuil relax       0.88      0.68      0.77       137\n",
      "      Fer a repasser       1.00      0.95      0.98        21\n",
      "   Figurine et robot       0.00      0.00      0.00         7\n",
      "         Flash photo       0.00      0.00      0.00         1\n",
      "Fleurs artificielles       0.00      0.00      0.00        30\n",
      "            Fontaine       0.00      0.00      0.00         4\n",
      "                Four       0.86      1.00      0.92       599\n",
      "            Friteuse       0.75      0.96      0.84       867\n",
      "   Galette de chaise       0.00      0.00      0.00        12\n",
      "              Garage       0.00      0.00      0.00         5\n",
      "            Gaufrier       0.00      0.00      0.00        19\n",
      "   Gazon synthétique       0.00      0.00      0.00         2\n",
      "           Gigoteuse       0.00      0.00      0.00         1\n",
      "             Graveur       0.00      0.00      0.00         3\n",
      "            Grillage       0.00      0.00      0.00         2\n",
      "         Grille pain       0.78      0.98      0.87        66\n",
      "       Grille viande       0.00      0.00      0.00        16\n",
      " Guirlande lumineuse       0.00      0.00      0.00         7\n",
      "            Gyropode       0.30      0.37      0.33        35\n",
      "             Hachoir       0.00      0.00      0.00        13\n",
      "    Haltère et poids       0.00      0.00      0.00        12\n",
      "               Hamac       1.00      0.03      0.05        36\n",
      "             Horloge       0.95      0.82      0.88        68\n",
      "               Hotte       0.76      0.95      0.84       264\n",
      "           Housse bz       0.99      0.99      0.99        70\n",
      "       Housse canapé       0.00      0.00      0.00         1\n",
      "    Housse clic-clac       0.98      0.97      0.98        61\n",
      "    Housse de chaise       0.00      0.00      0.00         7\n",
      "   Housse de couette       0.55      0.69      0.61       228\n",
      "   Housse de coussin       1.00      0.14      0.25        57\n",
      " Housse de rangement       1.00      0.33      0.50        12\n",
      " Housse mobilier ext       0.00      0.00      0.00         3\n",
      "      Housse sommier       0.00      0.00      0.00        23\n",
      "     Housse vetement       0.00      0.00      0.00         4\n",
      "    Hygiene dentaire       0.00      0.00      0.00         4\n",
      "      Image encadree       1.00      0.48      0.65        58\n",
      "Image/affiche/poster       0.00      0.00      0.00        19\n",
      "          Imprimante       0.93      0.89      0.91        91\n",
      "          Interphone       0.00      0.00      0.00         1\n",
      "     Jeu d'imitation       0.00      0.00      0.00        10\n",
      "  Jeu de carte et dé       0.00      0.00      0.00         1\n",
      " Jeu de construction       0.00      0.00      0.00         1\n",
      "   Jeu de fléchettes       0.00      0.00      0.00         7\n",
      "         Jeu de pied       0.94      0.79      0.86       150\n",
      "      Jeu de société       0.00      0.00      0.00         8\n",
      "        Jeu éducatif       0.00      0.00      0.00        12\n",
      "    Jeux d'exterieur       0.00      0.00      0.00         5\n",
      "          Jeux vidéo       0.00      0.00      0.00         3\n",
      "       Jouet 1er âge       0.00      0.00      0.00         4\n",
      "       Jouet de bain       0.00      0.00      0.00         1\n",
      "      Jouet véhicule       0.00      0.00      0.00        10\n",
      "          Lampadaire       0.72      1.00      0.84       284\n",
      "  Lampadaire liseuse       0.00      0.00      0.00        29\n",
      "               Lampe       0.81      0.88      0.85       163\n",
      "     Lampe de bureau       1.00      0.93      0.97        45\n",
      "              Lavabo       0.00      0.00      0.00         1\n",
      "          Lave linge       0.77      1.00      0.87      1128\n",
      "      Lave vaisselle       0.91      1.00      0.95       694\n",
      "         Lecteur dvd       0.00      0.00      0.00        18\n",
      "      Linge d'office       0.00      0.00      0.00        15\n",
      "      Linge de table       1.00      0.02      0.04        52\n",
      "   Linge de toilette       0.00      0.00      0.00         3\n",
      "          Lit adulte       0.88      0.98      0.93      2440\n",
      "            Lit bébé       0.63      0.92      0.75       104\n",
      "           Lit jeune       0.78      0.99      0.88      1305\n",
      "       Lit parapluie       0.00      0.00      0.00         5\n",
      "          Lit pliant       1.00      0.93      0.97        45\n",
      "          Livre 5.5%       0.00      0.00      0.00         4\n",
      "    Loisirs créatifs       0.00      0.00      0.00         8\n",
      "      Luminothérapie       0.00      0.00      0.00         1\n",
      "              Lustre       1.00      0.61      0.76        46\n",
      "    Machine a coudre       0.00      0.00      0.00        29\n",
      "      Machine a pain       0.00      0.00      0.00         2\n",
      "     Machine à bière       0.00      0.00      0.00         8\n",
      "         Marche pied       0.00      0.00      0.00         3\n",
      "             Matelas       0.84      0.98      0.91      5363\n",
      "   Matelas + sommier       0.86      0.96      0.90       726\n",
      "       Matelas futon       0.00      0.00      0.00         1\n",
      "   Matelas gonflable       0.00      0.00      0.00        11\n",
      "    Matelas à langer       0.00      0.00      0.00         2\n",
      "    Matériel camping       0.00      0.00      0.00        13\n",
      "    Menagere couvert       1.00      0.76      0.86        37\n",
      "  Meuble bas cuisine       0.86      0.94      0.90       699\n",
      " Meuble haut cuisine       0.92      0.92      0.92       403\n",
      "           Meuble tv       0.92      0.98      0.95      1637\n",
      " Meuble à chaussures       0.92      0.43      0.58      1664\n",
      "         Micro ondes       0.87      1.00      0.93       538\n",
      "     Mini aspirateur       0.00      0.00      0.00         6\n",
      "        Mini commode       1.00      0.54      0.70        52\n",
      "           Mini four       0.87      0.88      0.87       112\n",
      "Mini mobilier enfant       0.86      0.54      0.66        56\n",
      "              Miroir       0.74      0.96      0.83       189\n",
      "       Miroir psyche       0.85      0.99      0.92       197\n",
      "Miroir salle de bain       0.97      0.53      0.68        59\n",
      "               Mixer       0.00      0.00      0.00        20\n",
      "           Mobile nu       0.00      0.00      0.00         2\n",
      "           Modélisme       0.00      0.00      0.00         2\n",
      "  Montre et bracelet       0.00      0.00      0.00        11\n",
      " Motoculteur bineuse       0.00      0.00      0.00         1\n",
      "               Moule       0.00      0.00      0.00         6\n",
      "       Moulin a cafe       0.00      0.00      0.00         3\n",
      "        Moustiquaire       0.00      0.00      0.00         2\n",
      "          Multiprise       0.00      0.00      0.00        29\n",
      "          Méridienne       0.00      0.00      0.00         5\n",
      "  Nettoyeur de vitre       0.00      0.00      0.00         6\n",
      "  Nettoyeur pression       0.00      0.00      0.00         5\n",
      "          Objet deco       0.45      0.35      0.39       110\n",
      "     Objets lumineux       0.00      0.00      0.00        18\n",
      "            Oreiller       0.94      0.94      0.94       235\n",
      " Outil multifonction       0.00      0.00      0.00        17\n",
      "    Outils de Jardin       0.00      0.00      0.00         2\n",
      "          Paillasson       0.00      0.00      0.00        16\n",
      "              Panier       1.00      0.33      0.50        36\n",
      "      Panier à linge       0.85      0.81      0.83        57\n",
      "             Panneau       0.00      0.00      0.00         2\n",
      "   Panneaux japonais       0.00      0.00      0.00         1\n",
      "              Papier       0.00      0.00      0.00         1\n",
      "        Papier peint       0.97      0.94      0.95        32\n",
      "             Parasol       1.00      0.18      0.30        28\n",
      "   Parasol chauffant       0.00      0.00      0.00         3\n",
      "            Paravent       0.94      0.87      0.90        54\n",
      "                Parc       0.00      0.00      0.00         6\n",
      "     Paroi de douche       0.00      0.00      0.00         6\n",
      "       Parure de lit       0.67      0.93      0.78       285\n",
      "              Patere       0.00      0.00      0.00        12\n",
      "           Pc bureau       1.00      0.10      0.18        51\n",
      "         Pc portable       0.60      0.94      0.73       222\n",
      "            Peignoir       0.00      0.00      0.00         1\n",
      "             Peluche       1.00      0.21      0.35        28\n",
      "            Penderie       0.79      0.82      0.80       102\n",
      "   Perceuse visseuse       0.00      0.00      0.00         4\n",
      "             Pergola       0.00      0.00      0.00        13\n",
      "       Pese personne       0.00      0.00      0.00        18\n",
      " Petit meuble séjour       0.89      0.63      0.73       289\n",
      "     Petit outillage       0.00      0.00      0.00        37\n",
      "     Pied de parasol       0.00      0.00      0.00         3\n",
      "Pile et accumulateur       0.00      0.00      0.00         4\n",
      "             Piscine       0.00      0.00      0.00         6\n",
      "    Pièces détachées       0.00      0.00      0.00        55\n",
      "          Plafonnier       0.62      0.36      0.46        36\n",
      " Plafonnier ventilat       0.00      0.00      0.00         3\n",
      "               Plaid       0.90      0.85      0.87        73\n",
      "     Plan de travail       0.00      0.00      0.00        32\n",
      "        Plan incliné       0.00      0.00      0.00         1\n",
      "   Plaque de cuisson       0.88      0.99      0.93       583\n",
      "        Plat a cuire       0.00      0.00      0.00         6\n",
      "             Plateau       0.00      0.00      0.00        21\n",
      " Plateforme vibrante       0.00      0.00      0.00         1\n",
      "      Platine vinyle       0.00      0.00      0.00        14\n",
      "               Poele       1.00      0.03      0.06        31\n",
      "               Poire       0.00      0.00      0.00        23\n",
      "    Pompe d'arrosage       0.00      0.00      0.00         2\n",
      "             Portant       0.91      0.94      0.93       135\n",
      "       Porte armoire       0.00      0.00      0.00        17\n",
      "          Porte bébé       0.00      0.00      0.00         1\n",
      "    Porte chaussures       1.00      0.54      0.70        59\n",
      "       Porte manteau       0.86      0.97      0.91       433\n",
      "     Porte parapluie       0.00      0.00      0.00         5\n",
      "         Porte revue       0.00      0.00      0.00        15\n",
      "     Porte serviette       0.00      0.00      0.00        23\n",
      "  Porteur et bascule       0.00      0.00      0.00         1\n",
      "      Pot jardiniere       0.00      0.00      0.00        11\n",
      "             Potager       0.00      0.00      0.00         3\n",
      "    Poubelle cuisine       0.80      0.99      0.88        93\n",
      "        Poubelle sdb       0.00      0.00      0.00        22\n",
      "  Poubelle à couches       0.00      0.00      0.00         1\n",
      "  Pouf / repose pied       0.73      0.78      0.75       157\n",
      "    Poupée et poupon       0.00      0.00      0.00        10\n",
      "           Poussette       1.00      0.50      0.67        18\n",
      "      Presse agrumes       0.00      0.00      0.00        14\n",
      "    Prise parafoudre       0.00      0.00      0.00         3\n",
      "          Processeur       0.00      0.00      0.00         4\n",
      "     Protege matelas       0.72      0.95      0.82       176\n",
      "    Protege oreiller       0.00      0.00      0.00        13\n",
      "   Protege traversin       0.00      0.00      0.00         6\n",
      "              Puzzle       0.00      0.00      0.00         4\n",
      "           Radiateur       0.00      0.00      0.00         9\n",
      "            Radio CD       0.00      0.00      0.00         9\n",
      "        Radio reveil       0.00      0.00      0.00         9\n",
      "              Rameur       0.00      0.00      0.00         4\n",
      "   Rangement a poser       0.00      0.00      0.00        11\n",
      "    Rangement bureau       0.96      0.60      0.74       126\n",
      "    Rangement enfant       0.78      0.57      0.66        61\n",
      "       Rangement sdb       0.61      0.77      0.68       254\n",
      "  Receveur de douche       0.00      0.00      0.00         5\n",
      "Recharge de poubelle       0.00      0.00      0.00         1\n",
      "             Rechaud       0.00      0.00      0.00        30\n",
      "       Refrigerateur       0.91      0.99      0.95       762\n",
      "     Reseau sans fil       0.00      0.00      0.00         2\n",
      "              Reveil       0.00      0.00      0.00         2\n",
      "              Rideau       0.63      0.96      0.76       112\n",
      "    Rideau de douche       0.00      0.00      0.00        30\n",
      "             Robinet       0.86      0.65      0.74        37\n",
      "          Robot bébé       0.00      0.00      0.00         3\n",
      "    Robot de cuisine       0.80      0.97      0.88        92\n",
      "    Robot de piscine       0.00      0.00      0.00         4\n",
      " Réducteur toilettes       0.00      0.00      0.00         1\n",
      "     Sac de couchage       0.00      0.00      0.00         1\n",
      "        Sac de sport       0.00      0.00      0.00         1\n",
      "        Sac à langer       0.00      0.00      0.00         1\n",
      "          Sacoche pc       0.00      0.00      0.00         5\n",
      "     Salon de jardin       0.59      0.90      0.71       108\n",
      "     Scie électrique       0.00      0.00      0.00         2\n",
      "       Seche cheveux       0.00      0.00      0.00        14\n",
      "         Seche linge       0.91      0.97      0.93       230\n",
      "             Senteur       0.00      0.00      0.00         4\n",
      "          Separation       0.00      0.00      0.00        17\n",
      "     Serre de jardin       0.00      0.00      0.00         9\n",
      "       Set vaisselle       0.00      0.00      0.00        21\n",
      "           Set verre       0.00      0.00      0.00        20\n",
      "          Siège auto       0.00      0.00      0.00         9\n",
      "          Smartphone       0.56      0.89      0.68       147\n",
      "             Sommier       0.82      0.87      0.84      1071\n",
      "        Sono lumière       0.00      0.00      0.00         3\n",
      "Souffleur aspirateur       0.00      0.00      0.00         4\n",
      "         Spa jacuzzi       0.00      0.00      0.00        16\n",
      "            Spoterie       0.00      0.00      0.00        36\n",
      "       Station meteo       0.00      0.00      0.00         1\n",
      "    Statue de jardin       0.00      0.00      0.00         5\n",
      "            Steppeur       0.00      0.00      0.00         1\n",
      "             Sticker       0.00      0.00      0.00         3\n",
      "               Store       0.00      0.00      0.00        25\n",
      "         Store banne       0.00      0.00      0.00         6\n",
      "   Structure armoire       0.90      0.73      0.81       112\n",
      "    Structure canapé       0.00      0.00      0.00         2\n",
      " Structure et mat bz       0.91      0.96      0.93        74\n",
      " Structure et mat cc       1.00      0.14      0.25        21\n",
      " Structure gonflable       0.00      0.00      0.00         4\n",
      "       Stérilisateur       0.00      0.00      0.00         1\n",
      "    Support mural tv       0.64      0.96      0.77        82\n",
      "          Surmatelas       0.81      0.69      0.75       142\n",
      "          Suspension       0.72      0.95      0.82       168\n",
      "     Sèche serviette       0.00      0.00      0.00         2\n",
      "               Table       0.90      0.89      0.89      1174\n",
      "      Table a langer       0.00      0.00      0.00        19\n",
      "    Table a repasser       0.00      0.00      0.00        17\n",
      "         Table basse       0.90      0.98      0.94      1638\n",
      "  Table de ping pong       0.00      0.00      0.00         3\n",
      "     Table multijeux       0.00      0.00      0.00         4\n",
      "            Tablette       1.00      0.14      0.24        36\n",
      "            Tabouret       0.87      0.90      0.88       463\n",
      "     Taie d'oreiller       0.00      0.00      0.00        53\n",
      "   Taie de traversin       0.00      0.00      0.00        18\n",
      "         Taille haie       0.00      0.00      0.00         2\n",
      "   Tapis d'extérieur       0.00      0.00      0.00        15\n",
      "Tapis de Salon et Ch       0.72      1.00      0.84       804\n",
      "     Tapis de course       1.00      0.68      0.81        28\n",
      "    Tapis de cuisine       0.00      0.00      0.00        26\n",
      "        Tapis de jeu       0.00      0.00      0.00         5\n",
      "        Tapis enfant       0.80      0.06      0.12        62\n",
      " Tapis salle de bain       0.00      0.00      0.00        20\n",
      "        Telecommande       0.00      0.00      0.00         4\n",
      "             Terreau       0.00      0.00      0.00         2\n",
      "         Tete de lit       0.98      0.56      0.71       187\n",
      "      Thalasso pieds       0.00      0.00      0.00         1\n",
      "         Thermomètre       0.00      0.00      0.00         1\n",
      "       Tiroir de lit       1.00      0.24      0.39        46\n",
      "            Toboggan       0.00      0.00      0.00         3\n",
      "   Toile et laminage       0.83      0.75      0.79        67\n",
      "        Toilettes WC       0.00      0.00      0.00         2\n",
      "      Tondeuse barbe       0.00      0.00      0.00         2\n",
      "    Tondeuse cheveux       0.00      0.00      0.00         3\n",
      " Tondeuse multistyle       0.00      0.00      0.00         1\n",
      "    Tondeuse à gazon       0.00      0.00      0.00         8\n",
      "            Tonnelle       0.00      0.00      0.00        15\n",
      "     Traineau vapeur       0.00      0.00      0.00         2\n",
      "          Trampoline       0.00      0.00      0.00        19\n",
      "          Trancheuse       0.00      0.00      0.00         2\n",
      "        Transat bébé       0.00      0.00      0.00         2\n",
      "           Traversin       1.00      0.85      0.92        34\n",
      "          Tringlerie       0.00      0.00      0.00        17\n",
      "            Trotteur       0.00      0.00      0.00         6\n",
      "         Trottinette       0.00      0.00      0.00        33\n",
      "       Tunnel de lit       0.00      0.00      0.00         2\n",
      "       Tv ecran plat       0.61      1.00      0.76       669\n",
      "      Téléphone fixe       0.00      0.00      0.00        14\n",
      "          Ustensiles       0.25      0.08      0.12        62\n",
      "          Vaisselier       0.00      0.00      0.00         1\n",
      "           Vaisselle       0.42      0.15      0.22        95\n",
      "               Valet       1.00      0.82      0.90        40\n",
      "                Vase       0.00      0.00      0.00        18\n",
      "              Vasque       0.00      0.00      0.00         5\n",
      "           Veilleuse       0.00      0.00      0.00         4\n",
      "         Ventilateur       0.00      0.00      0.00         6\n",
      "               Verre       0.00      0.00      0.00         8\n",
      "           Vestiaire       1.00      0.22      0.36        41\n",
      "     Videoprojecteur       0.00      0.00      0.00         5\n",
      "Visserie consommable       0.00      0.00      0.00        14\n",
      "             Vitrine       1.00      0.87      0.93       110\n",
      "             Voilage       0.60      0.05      0.09        65\n",
      "     Voile d'ombrage       0.00      0.00      0.00         2\n",
      "Véhicule élec enfant       0.00      0.00      0.00        18\n",
      "                Vélo       0.00      0.00      0.00        11\n",
      "        Vélo fitness       0.67      0.94      0.78        64\n",
      "              Webcam       0.00      0.00      0.00         2\n",
      "  access photo video       0.00      0.00      0.00         3\n",
      "\n",
      "            accuracy                           0.84     56900\n",
      "           macro avg       0.28      0.24      0.24     56900\n",
      "        weighted avg       0.81      0.84      0.81     56900\n",
      "\n"
     ]
    },
    {
     "name": "stderr",
     "output_type": "stream",
     "text": [
      "c:\\Users\\etulyon1\\AppData\\Local\\Programs\\Python\\Python311\\Lib\\site-packages\\sklearn\\metrics\\_classification.py:1471: UndefinedMetricWarning:\n",
      "\n",
      "Precision and F-score are ill-defined and being set to 0.0 in labels with no predicted samples. Use `zero_division` parameter to control this behavior.\n",
      "\n"
     ]
    }
   ],
   "source": [
    "d['Libellé produit'] = d['Libellé produit'].astype(str)\n",
    "nltk.download('stopwords')\n",
    "nltk.download('punkt')\n",
    "\n",
    "\n",
    "stopwords = set(nltk_stopwords.words('french'))\n",
    "\n",
    "X_text = d['Libellé produit']\n",
    "X_univers = d['Univers']\n",
    "y = d['Nature']\n",
    "\n",
    "unique_categories = y.unique()\n",
    "\n",
    "\n",
    "le = LabelEncoder()\n",
    "X_univers_encoded = le.fit_transform(X_univers)\n",
    "tfidf_vectorizer = TfidfVectorizer(max_features=1000, stop_words= list(stopwords))\n",
    "X_text_tfidf = tfidf_vectorizer.fit_transform(X_text)\n",
    "X_univers_encoded = X_univers_encoded.reshape(-1, 1)\n",
    "X_combined = hstack([X_text_tfidf, X_univers_encoded])\n",
    "\n",
    "\n",
    "X_train, X_test, y_train, y_test = train_test_split(X_combined, y, test_size=0.2, random_state=42)\n",
    "\n",
    "\n",
    "classifier = MultinomialNB()\n",
    "classifier.fit(X_train, y_train)\n",
    "\n",
    "\n",
    "y_pred = classifier.predict(X_test)\n",
    "y_pred_filtered = [pred if pred in unique_categories else None for pred in y_pred]\n",
    "\n",
    "\n",
    "accuracy = accuracy_score(y_test, y_pred_filtered)\n",
    "report = classification_report(y_test, y_pred_filtered)\n",
    "\n",
    "print(\"Accuracy:\", accuracy)\n",
    "print(\"Classification Report:\\n\", report)\n"
   ]
  },
  {
   "cell_type": "code",
   "execution_count": 28,
   "metadata": {},
   "outputs": [
    {
     "data": {
      "text/html": [
       "<div>\n",
       "<style scoped>\n",
       "    .dataframe tbody tr th:only-of-type {\n",
       "        vertical-align: middle;\n",
       "    }\n",
       "\n",
       "    .dataframe tbody tr th {\n",
       "        vertical-align: top;\n",
       "    }\n",
       "\n",
       "    .dataframe thead th {\n",
       "        text-align: right;\n",
       "    }\n",
       "</style>\n",
       "<table border=\"1\" class=\"dataframe\">\n",
       "  <thead>\n",
       "    <tr style=\"text-align: right;\">\n",
       "      <th></th>\n",
       "      <th>Cod_cmd</th>\n",
       "      <th>Libellé produit</th>\n",
       "      <th>Vendeur</th>\n",
       "      <th>Univers</th>\n",
       "      <th>Nature</th>\n",
       "      <th>Date de commande</th>\n",
       "      <th>Montant cmd</th>\n",
       "      <th>Quantité</th>\n",
       "      <th>Prix transport</th>\n",
       "      <th>Délai transport annoncé</th>\n",
       "      <th>Montant cmd sans transport</th>\n",
       "      <th>String_Exists</th>\n",
       "      <th>Nature2</th>\n",
       "    </tr>\n",
       "  </thead>\n",
       "  <tbody>\n",
       "    <tr>\n",
       "      <th>0</th>\n",
       "      <td>182210782</td>\n",
       "      <td>Table basse carrée detroit design industriel</td>\n",
       "      <td>Autre vendeur</td>\n",
       "      <td>Canapé Salon Séjour</td>\n",
       "      <td>Table basse</td>\n",
       "      <td>2021-01-22</td>\n",
       "      <td>244</td>\n",
       "      <td>4</td>\n",
       "      <td>6.67</td>\n",
       "      <td>10.0</td>\n",
       "      <td>237.33</td>\n",
       "      <td>True</td>\n",
       "      <td>Table basse</td>\n",
       "    </tr>\n",
       "    <tr>\n",
       "      <th>1</th>\n",
       "      <td>182082437</td>\n",
       "      <td>Ours en peluche géant 150 cm brun</td>\n",
       "      <td>Autre vendeur</td>\n",
       "      <td>Enfant Bébé</td>\n",
       "      <td>Peluche</td>\n",
       "      <td>2021-01-19</td>\n",
       "      <td>28</td>\n",
       "      <td>1</td>\n",
       "      <td>9.92</td>\n",
       "      <td>10.0</td>\n",
       "      <td>18.08</td>\n",
       "      <td>True</td>\n",
       "      <td>Peluche</td>\n",
       "    </tr>\n",
       "    <tr>\n",
       "      <th>2</th>\n",
       "      <td>182095765</td>\n",
       "      <td>Ours en peluche géant 100 cm blanc</td>\n",
       "      <td>Autre vendeur</td>\n",
       "      <td>Enfant Bébé</td>\n",
       "      <td>Peluche</td>\n",
       "      <td>2021-01-20</td>\n",
       "      <td>15</td>\n",
       "      <td>1</td>\n",
       "      <td>9.92</td>\n",
       "      <td>10.0</td>\n",
       "      <td>5.08</td>\n",
       "      <td>True</td>\n",
       "      <td>Tapis de Salon et Ch</td>\n",
       "    </tr>\n",
       "    <tr>\n",
       "      <th>3</th>\n",
       "      <td>182615392</td>\n",
       "      <td>Lot de 4 chaises mia noires pour salle à manger</td>\n",
       "      <td>Autre vendeur</td>\n",
       "      <td>Canapé Salon Séjour</td>\n",
       "      <td>Chaise</td>\n",
       "      <td>2021-01-25</td>\n",
       "      <td>385</td>\n",
       "      <td>2</td>\n",
       "      <td>20.75</td>\n",
       "      <td>10.0</td>\n",
       "      <td>364.25</td>\n",
       "      <td>True</td>\n",
       "      <td>Chaise</td>\n",
       "    </tr>\n",
       "    <tr>\n",
       "      <th>4</th>\n",
       "      <td>184222081</td>\n",
       "      <td>Meuble tv falko bois blanc et gris</td>\n",
       "      <td>Autre vendeur</td>\n",
       "      <td>Canapé Salon Séjour</td>\n",
       "      <td>Meuble tv</td>\n",
       "      <td>2021-02-13</td>\n",
       "      <td>61</td>\n",
       "      <td>1</td>\n",
       "      <td>19.08</td>\n",
       "      <td>10.0</td>\n",
       "      <td>41.92</td>\n",
       "      <td>True</td>\n",
       "      <td>Meuble tv</td>\n",
       "    </tr>\n",
       "  </tbody>\n",
       "</table>\n",
       "</div>"
      ],
      "text/plain": [
       "     Cod_cmd                                  Libellé produit        Vendeur  \\\n",
       "0  182210782     Table basse carrée detroit design industriel  Autre vendeur   \n",
       "1  182082437                Ours en peluche géant 150 cm brun  Autre vendeur   \n",
       "2  182095765               Ours en peluche géant 100 cm blanc  Autre vendeur   \n",
       "3  182615392  Lot de 4 chaises mia noires pour salle à manger  Autre vendeur   \n",
       "4  184222081               Meuble tv falko bois blanc et gris  Autre vendeur   \n",
       "\n",
       "               Univers       Nature Date de commande  Montant cmd  Quantité  \\\n",
       "0  Canapé Salon Séjour  Table basse       2021-01-22          244         4   \n",
       "1          Enfant Bébé      Peluche       2021-01-19           28         1   \n",
       "2          Enfant Bébé      Peluche       2021-01-20           15         1   \n",
       "3  Canapé Salon Séjour       Chaise       2021-01-25          385         2   \n",
       "4  Canapé Salon Séjour    Meuble tv       2021-02-13           61         1   \n",
       "\n",
       "   Prix transport  Délai transport annoncé  Montant cmd sans transport  \\\n",
       "0            6.67                     10.0                      237.33   \n",
       "1            9.92                     10.0                       18.08   \n",
       "2            9.92                     10.0                        5.08   \n",
       "3           20.75                     10.0                      364.25   \n",
       "4           19.08                     10.0                       41.92   \n",
       "\n",
       "   String_Exists               Nature2  \n",
       "0           True           Table basse  \n",
       "1           True               Peluche  \n",
       "2           True  Tapis de Salon et Ch  \n",
       "3           True                Chaise  \n",
       "4           True             Meuble tv  "
      ]
     },
     "execution_count": 28,
     "metadata": {},
     "output_type": "execute_result"
    }
   ],
   "source": [
    "\n",
    "y_pred = classifier.predict(X_combined)\n",
    "\n",
    "\n",
    "d['Nature2'] = y_pred\n",
    "d.head()"
   ]
  },
  {
   "cell_type": "markdown",
   "metadata": {},
   "source": [
    "### Using Regression (Logistic Regression)"
   ]
  },
  {
   "cell_type": "code",
   "execution_count": 29,
   "metadata": {},
   "outputs": [
    {
     "name": "stderr",
     "output_type": "stream",
     "text": [
      "[nltk_data] Downloading package stopwords to\n",
      "[nltk_data]     C:\\Users\\etulyon1\\AppData\\Roaming\\nltk_data...\n",
      "[nltk_data]   Package stopwords is already up-to-date!\n",
      "[nltk_data] Downloading package punkt to\n",
      "[nltk_data]     C:\\Users\\etulyon1\\AppData\\Roaming\\nltk_data...\n",
      "[nltk_data]   Package punkt is already up-to-date!\n"
     ]
    }
   ],
   "source": [
    "df = d\n",
    "nltk.download('stopwords')\n",
    "nltk.download('punkt')\n",
    "\n",
    "\n",
    "stopwords = set(nltk_stopwords.words('french'))\n",
    "\n",
    "X_text = df['Libellé produit']  \n",
    "X_univers = df['Univers']  \n",
    "y = df['Nature']\n",
    "\n",
    "\n",
    "unique_categories = y.unique()\n",
    "\n",
    "\n",
    "le = LabelEncoder()\n",
    "X_univers_encoded = le.fit_transform(X_univers)\n",
    "\n",
    "\n",
    "tfidf_vectorizer = TfidfVectorizer(max_features=1000, stop_words=list(stopwords))\n",
    "X_text_tfidf = tfidf_vectorizer.fit_transform(X_text)\n",
    "X_univers_encoded = X_univers_encoded.reshape(-1, 1)  \n",
    "X_combined = hstack([X_text_tfidf, X_univers_encoded])\n",
    "\n",
    "\n",
    "X_train, X_test, y_train, y_test = train_test_split(X_combined, y, test_size=0.4, random_state=42)\n",
    "\n",
    "\n",
    "logreg = LogisticRegression()\n",
    "logreg.fit(X_train, y_train)\n",
    "\n",
    "\n",
    "y_pred_logreg = logreg.predict(X_test)\n",
    "\n",
    "\n",
    "y_pred_logreg_filtered = [pred if pred in unique_categories else None for pred in y_pred_logreg]\n",
    "\n",
    "print('Logistic Regression Train accuracy:', logreg.score(X_train, y_train))\n",
    "\n",
    "filtered_indices = [i for i, pred in enumerate(y_pred_logreg) if pred in unique_categories]\n",
    "y_test_filtered = y_test.iloc[filtered_indices]\n",
    "filtered_predictions = [y_pred_logreg[i] for i in filtered_indices]\n",
    "filtered_accuracy = accuracy_score(y_test_filtered, filtered_predictions)\n",
    "\n",
    "print('Logistic Regression Test accuracy for filtered predictions:', filtered_accuracy)\n",
    "print(confusion_matrix(y_test_filtered, filtered_predictions))\n",
    "print(classification_report(y_test_filtered, filtered_predictions))\n"
   ]
  },
  {
   "cell_type": "code",
   "execution_count": null,
   "metadata": {},
   "outputs": [
    {
     "data": {
      "text/html": [
       "<div>\n",
       "<style scoped>\n",
       "    .dataframe tbody tr th:only-of-type {\n",
       "        vertical-align: middle;\n",
       "    }\n",
       "\n",
       "    .dataframe tbody tr th {\n",
       "        vertical-align: top;\n",
       "    }\n",
       "\n",
       "    .dataframe thead th {\n",
       "        text-align: right;\n",
       "    }\n",
       "</style>\n",
       "<table border=\"1\" class=\"dataframe\">\n",
       "  <thead>\n",
       "    <tr style=\"text-align: right;\">\n",
       "      <th></th>\n",
       "      <th>Cod_cmd</th>\n",
       "      <th>Libellé produit</th>\n",
       "      <th>Vendeur</th>\n",
       "      <th>Univers</th>\n",
       "      <th>Nature</th>\n",
       "      <th>Date de commande</th>\n",
       "      <th>Montant cmd</th>\n",
       "      <th>Quantité</th>\n",
       "      <th>Prix transport</th>\n",
       "      <th>Délai transport annoncé</th>\n",
       "      <th>Montant cmd sans transport</th>\n",
       "      <th>String_Exists</th>\n",
       "      <th>Nature2</th>\n",
       "    </tr>\n",
       "  </thead>\n",
       "  <tbody>\n",
       "    <tr>\n",
       "      <th>525029</th>\n",
       "      <td>186997203</td>\n",
       "      <td>Lit coffre madrid 140x200 + 1 sommier ch ne bl...</td>\n",
       "      <td>Autre vendeur</td>\n",
       "      <td>Chambre Literie</td>\n",
       "      <td>Lit adulte</td>\n",
       "      <td>2021-03-31</td>\n",
       "      <td>530</td>\n",
       "      <td>1</td>\n",
       "      <td>70.83</td>\n",
       "      <td>25.0</td>\n",
       "      <td>459.17</td>\n",
       "      <td>True</td>\n",
       "      <td>Lit adulte</td>\n",
       "    </tr>\n",
       "    <tr>\n",
       "      <th>525030</th>\n",
       "      <td>187045930</td>\n",
       "      <td>Nappe antitache ronde infroissable et 100 poly...</td>\n",
       "      <td>Autre vendeur</td>\n",
       "      <td>Décoration Textile</td>\n",
       "      <td>Linge de table</td>\n",
       "      <td>2021-03-31</td>\n",
       "      <td>15</td>\n",
       "      <td>1</td>\n",
       "      <td>0.00</td>\n",
       "      <td>3.0</td>\n",
       "      <td>15.00</td>\n",
       "      <td>True</td>\n",
       "      <td>Linge de table</td>\n",
       "    </tr>\n",
       "    <tr>\n",
       "      <th>525031</th>\n",
       "      <td>187019687</td>\n",
       "      <td>Good morning housse de couette pour enfants da...</td>\n",
       "      <td>Autre vendeur</td>\n",
       "      <td>Décoration Textile</td>\n",
       "      <td>Housse de couette</td>\n",
       "      <td>2021-03-31</td>\n",
       "      <td>23</td>\n",
       "      <td>1</td>\n",
       "      <td>0.00</td>\n",
       "      <td>6.0</td>\n",
       "      <td>23.00</td>\n",
       "      <td>True</td>\n",
       "      <td>Parure de lit</td>\n",
       "    </tr>\n",
       "    <tr>\n",
       "      <th>525032</th>\n",
       "      <td>186990574</td>\n",
       "      <td>Ampoule pour four e14 25w 230v ac</td>\n",
       "      <td>Autre vendeur</td>\n",
       "      <td>Décoration Textile</td>\n",
       "      <td>Ampoule</td>\n",
       "      <td>2021-03-31</td>\n",
       "      <td>15</td>\n",
       "      <td>2</td>\n",
       "      <td>0.00</td>\n",
       "      <td>7.0</td>\n",
       "      <td>15.00</td>\n",
       "      <td>True</td>\n",
       "      <td>Pièces détachées</td>\n",
       "    </tr>\n",
       "    <tr>\n",
       "      <th>525033</th>\n",
       "      <td>211053330</td>\n",
       "      <td>At4 chambre complète carnaval blanc bouleau</td>\n",
       "      <td>Autre vendeur</td>\n",
       "      <td>Chambre Literie</td>\n",
       "      <td>Ensemble chambre</td>\n",
       "      <td>2021-04-01</td>\n",
       "      <td>669</td>\n",
       "      <td>1</td>\n",
       "      <td>0.00</td>\n",
       "      <td>19.0</td>\n",
       "      <td>669.00</td>\n",
       "      <td>True</td>\n",
       "      <td>Ensemble chambre</td>\n",
       "    </tr>\n",
       "  </tbody>\n",
       "</table>\n",
       "</div>"
      ],
      "text/plain": [
       "          Cod_cmd                                    Libellé produit  \\\n",
       "525029  186997203  Lit coffre madrid 140x200 + 1 sommier ch ne bl...   \n",
       "525030  187045930  Nappe antitache ronde infroissable et 100 poly...   \n",
       "525031  187019687  Good morning housse de couette pour enfants da...   \n",
       "525032  186990574                  Ampoule pour four e14 25w 230v ac   \n",
       "525033  211053330        At4 chambre complète carnaval blanc bouleau   \n",
       "\n",
       "              Vendeur             Univers             Nature Date de commande  \\\n",
       "525029  Autre vendeur     Chambre Literie         Lit adulte       2021-03-31   \n",
       "525030  Autre vendeur  Décoration Textile     Linge de table       2021-03-31   \n",
       "525031  Autre vendeur  Décoration Textile  Housse de couette       2021-03-31   \n",
       "525032  Autre vendeur  Décoration Textile            Ampoule       2021-03-31   \n",
       "525033  Autre vendeur     Chambre Literie   Ensemble chambre       2021-04-01   \n",
       "\n",
       "        Montant cmd  Quantité  Prix transport  Délai transport annoncé  \\\n",
       "525029          530         1           70.83                     25.0   \n",
       "525030           15         1            0.00                      3.0   \n",
       "525031           23         1            0.00                      6.0   \n",
       "525032           15         2            0.00                      7.0   \n",
       "525033          669         1            0.00                     19.0   \n",
       "\n",
       "        Montant cmd sans transport  String_Exists           Nature2  \n",
       "525029                      459.17           True        Lit adulte  \n",
       "525030                       15.00           True    Linge de table  \n",
       "525031                       23.00           True     Parure de lit  \n",
       "525032                       15.00           True  Pièces détachées  \n",
       "525033                      669.00           True  Ensemble chambre  "
      ]
     },
     "execution_count": 19,
     "metadata": {},
     "output_type": "execute_result"
    }
   ],
   "source": [
    "y_pred = logreg.predict(X_combined)\n",
    "\n",
    "df['Nature2'] = y_pred\n",
    "\n",
    "df.tail()"
   ]
  },
  {
   "cell_type": "markdown",
   "metadata": {},
   "source": [
    "## Searching for mattresses among the sold products and specifying their dimensions and colors."
   ]
  },
  {
   "cell_type": "code",
   "execution_count": null,
   "metadata": {
    "scrolled": true
   },
   "outputs": [
    {
     "data": {
      "text/html": [
       "<div>\n",
       "<style scoped>\n",
       "    .dataframe tbody tr th:only-of-type {\n",
       "        vertical-align: middle;\n",
       "    }\n",
       "\n",
       "    .dataframe tbody tr th {\n",
       "        vertical-align: top;\n",
       "    }\n",
       "\n",
       "    .dataframe thead th {\n",
       "        text-align: right;\n",
       "    }\n",
       "</style>\n",
       "<table border=\"1\" class=\"dataframe\">\n",
       "  <thead>\n",
       "    <tr style=\"text-align: right;\">\n",
       "      <th></th>\n",
       "      <th>Cod_cmd</th>\n",
       "      <th>Libellé produit</th>\n",
       "      <th>Vendeur</th>\n",
       "      <th>Univers</th>\n",
       "      <th>Nature</th>\n",
       "      <th>Date de commande</th>\n",
       "      <th>Montant cmd</th>\n",
       "      <th>Quantité</th>\n",
       "      <th>Prix transport</th>\n",
       "      <th>Délai transport annoncé</th>\n",
       "      <th>Montant cmd sans transport</th>\n",
       "      <th>String_Exists</th>\n",
       "      <th>Nature2</th>\n",
       "      <th>matelas</th>\n",
       "    </tr>\n",
       "  </thead>\n",
       "  <tbody>\n",
       "    <tr>\n",
       "      <th>0</th>\n",
       "      <td>182210782</td>\n",
       "      <td>Table basse carrée detroit design industriel</td>\n",
       "      <td>Autre vendeur</td>\n",
       "      <td>Canapé Salon Séjour</td>\n",
       "      <td>Table basse</td>\n",
       "      <td>2021-01-22</td>\n",
       "      <td>244</td>\n",
       "      <td>4</td>\n",
       "      <td>6.67</td>\n",
       "      <td>10.0</td>\n",
       "      <td>237.33</td>\n",
       "      <td>True</td>\n",
       "      <td>Table basse</td>\n",
       "      <td>False</td>\n",
       "    </tr>\n",
       "    <tr>\n",
       "      <th>1</th>\n",
       "      <td>182082437</td>\n",
       "      <td>Ours en peluche géant 150 cm brun</td>\n",
       "      <td>Autre vendeur</td>\n",
       "      <td>Enfant Bébé</td>\n",
       "      <td>Peluche</td>\n",
       "      <td>2021-01-19</td>\n",
       "      <td>28</td>\n",
       "      <td>1</td>\n",
       "      <td>9.92</td>\n",
       "      <td>10.0</td>\n",
       "      <td>18.08</td>\n",
       "      <td>True</td>\n",
       "      <td>Peluche</td>\n",
       "      <td>False</td>\n",
       "    </tr>\n",
       "    <tr>\n",
       "      <th>2</th>\n",
       "      <td>182095765</td>\n",
       "      <td>Ours en peluche géant 100 cm blanc</td>\n",
       "      <td>Autre vendeur</td>\n",
       "      <td>Enfant Bébé</td>\n",
       "      <td>Peluche</td>\n",
       "      <td>2021-01-20</td>\n",
       "      <td>15</td>\n",
       "      <td>1</td>\n",
       "      <td>9.92</td>\n",
       "      <td>10.0</td>\n",
       "      <td>5.08</td>\n",
       "      <td>True</td>\n",
       "      <td>Objet deco</td>\n",
       "      <td>False</td>\n",
       "    </tr>\n",
       "    <tr>\n",
       "      <th>3</th>\n",
       "      <td>182615392</td>\n",
       "      <td>Lot de 4 chaises mia noires pour salle à manger</td>\n",
       "      <td>Autre vendeur</td>\n",
       "      <td>Canapé Salon Séjour</td>\n",
       "      <td>Chaise</td>\n",
       "      <td>2021-01-25</td>\n",
       "      <td>385</td>\n",
       "      <td>2</td>\n",
       "      <td>20.75</td>\n",
       "      <td>10.0</td>\n",
       "      <td>364.25</td>\n",
       "      <td>True</td>\n",
       "      <td>Chaise</td>\n",
       "      <td>False</td>\n",
       "    </tr>\n",
       "    <tr>\n",
       "      <th>4</th>\n",
       "      <td>184222081</td>\n",
       "      <td>Meuble tv falko bois blanc et gris</td>\n",
       "      <td>Autre vendeur</td>\n",
       "      <td>Canapé Salon Séjour</td>\n",
       "      <td>Meuble tv</td>\n",
       "      <td>2021-02-13</td>\n",
       "      <td>61</td>\n",
       "      <td>1</td>\n",
       "      <td>19.08</td>\n",
       "      <td>10.0</td>\n",
       "      <td>41.92</td>\n",
       "      <td>True</td>\n",
       "      <td>Meuble tv</td>\n",
       "      <td>False</td>\n",
       "    </tr>\n",
       "  </tbody>\n",
       "</table>\n",
       "</div>"
      ],
      "text/plain": [
       "     Cod_cmd                                  Libellé produit        Vendeur  \\\n",
       "0  182210782     Table basse carrée detroit design industriel  Autre vendeur   \n",
       "1  182082437                Ours en peluche géant 150 cm brun  Autre vendeur   \n",
       "2  182095765               Ours en peluche géant 100 cm blanc  Autre vendeur   \n",
       "3  182615392  Lot de 4 chaises mia noires pour salle à manger  Autre vendeur   \n",
       "4  184222081               Meuble tv falko bois blanc et gris  Autre vendeur   \n",
       "\n",
       "               Univers       Nature Date de commande  Montant cmd  Quantité  \\\n",
       "0  Canapé Salon Séjour  Table basse       2021-01-22          244         4   \n",
       "1          Enfant Bébé      Peluche       2021-01-19           28         1   \n",
       "2          Enfant Bébé      Peluche       2021-01-20           15         1   \n",
       "3  Canapé Salon Séjour       Chaise       2021-01-25          385         2   \n",
       "4  Canapé Salon Séjour    Meuble tv       2021-02-13           61         1   \n",
       "\n",
       "   Prix transport  Délai transport annoncé  Montant cmd sans transport  \\\n",
       "0            6.67                     10.0                      237.33   \n",
       "1            9.92                     10.0                       18.08   \n",
       "2            9.92                     10.0                        5.08   \n",
       "3           20.75                     10.0                      364.25   \n",
       "4           19.08                     10.0                       41.92   \n",
       "\n",
       "   String_Exists      Nature2  matelas  \n",
       "0           True  Table basse    False  \n",
       "1           True      Peluche    False  \n",
       "2           True   Objet deco    False  \n",
       "3           True       Chaise    False  \n",
       "4           True    Meuble tv    False  "
      ]
     },
     "execution_count": 20,
     "metadata": {},
     "output_type": "execute_result"
    }
   ],
   "source": [
    "\n",
    "pattern = re.compile(r'Matelas', re.IGNORECASE)\n",
    "\n",
    "\n",
    "def matelas(row):\n",
    "    phrase = str(row['Libellé produit'])\n",
    "    return bool(pattern.search(phrase))\n",
    "\n",
    "\n",
    "d['matelas'] = d.apply(matelas, axis=1)\n",
    "d.head()\n"
   ]
  },
  {
   "cell_type": "markdown",
   "metadata": {},
   "source": [
    "Creating a filter for mattresses and saving it in another dataframe called \"mat.\""
   ]
  },
  {
   "cell_type": "code",
   "execution_count": null,
   "metadata": {},
   "outputs": [],
   "source": [
    "mat = d[d['matelas'] == True]"
   ]
  },
  {
   "cell_type": "code",
   "execution_count": null,
   "metadata": {},
   "outputs": [
    {
     "name": "stderr",
     "output_type": "stream",
     "text": [
      "C:\\Users\\etulyon1\\AppData\\Local\\Temp\\ipykernel_18768\\1672759493.py:26: SettingWithCopyWarning:\n",
      "\n",
      "\n",
      "A value is trying to be set on a copy of a slice from a DataFrame.\n",
      "Try using .loc[row_indexer,col_indexer] = value instead\n",
      "\n",
      "See the caveats in the documentation: https://pandas.pydata.org/pandas-docs/stable/user_guide/indexing.html#returning-a-view-versus-a-copy\n",
      "\n",
      "C:\\Users\\etulyon1\\AppData\\Local\\Temp\\ipykernel_18768\\1672759493.py:27: SettingWithCopyWarning:\n",
      "\n",
      "\n",
      "A value is trying to be set on a copy of a slice from a DataFrame.\n",
      "Try using .loc[row_indexer,col_indexer] = value instead\n",
      "\n",
      "See the caveats in the documentation: https://pandas.pydata.org/pandas-docs/stable/user_guide/indexing.html#returning-a-view-versus-a-copy\n",
      "\n",
      "C:\\Users\\etulyon1\\AppData\\Local\\Temp\\ipykernel_18768\\1672759493.py:29: SettingWithCopyWarning:\n",
      "\n",
      "\n",
      "A value is trying to be set on a copy of a slice from a DataFrame.\n",
      "Try using .loc[row_indexer,col_indexer] = value instead\n",
      "\n",
      "See the caveats in the documentation: https://pandas.pydata.org/pandas-docs/stable/user_guide/indexing.html#returning-a-view-versus-a-copy\n",
      "\n",
      "C:\\Users\\etulyon1\\AppData\\Local\\Temp\\ipykernel_18768\\1672759493.py:30: SettingWithCopyWarning:\n",
      "\n",
      "\n",
      "A value is trying to be set on a copy of a slice from a DataFrame.\n",
      "Try using .loc[row_indexer,col_indexer] = value instead\n",
      "\n",
      "See the caveats in the documentation: https://pandas.pydata.org/pandas-docs/stable/user_guide/indexing.html#returning-a-view-versus-a-copy\n",
      "\n"
     ]
    },
    {
     "data": {
      "text/html": [
       "<div>\n",
       "<style scoped>\n",
       "    .dataframe tbody tr th:only-of-type {\n",
       "        vertical-align: middle;\n",
       "    }\n",
       "\n",
       "    .dataframe tbody tr th {\n",
       "        vertical-align: top;\n",
       "    }\n",
       "\n",
       "    .dataframe thead th {\n",
       "        text-align: right;\n",
       "    }\n",
       "</style>\n",
       "<table border=\"1\" class=\"dataframe\">\n",
       "  <thead>\n",
       "    <tr style=\"text-align: right;\">\n",
       "      <th></th>\n",
       "      <th>Cod_cmd</th>\n",
       "      <th>Libellé produit</th>\n",
       "      <th>Vendeur</th>\n",
       "      <th>Univers</th>\n",
       "      <th>Nature</th>\n",
       "      <th>Date de commande</th>\n",
       "      <th>Montant cmd</th>\n",
       "      <th>Quantité</th>\n",
       "      <th>Prix transport</th>\n",
       "      <th>Délai transport annoncé</th>\n",
       "      <th>Montant cmd sans transport</th>\n",
       "      <th>String_Exists</th>\n",
       "      <th>Nature2</th>\n",
       "      <th>matelas</th>\n",
       "      <th>Dimension</th>\n",
       "      <th>Couleur</th>\n",
       "      <th>Longueur</th>\n",
       "      <th>Largeur</th>\n",
       "    </tr>\n",
       "  </thead>\n",
       "  <tbody>\n",
       "    <tr>\n",
       "      <th>72</th>\n",
       "      <td>183685444</td>\n",
       "      <td>Surmatelas mousse mémoire de forme 10 zones 90...</td>\n",
       "      <td>Autre vendeur</td>\n",
       "      <td>Chambre Literie</td>\n",
       "      <td>Surmatelas</td>\n",
       "      <td>2021-02-07</td>\n",
       "      <td>31</td>\n",
       "      <td>1</td>\n",
       "      <td>14.08</td>\n",
       "      <td>10.0</td>\n",
       "      <td>16.92</td>\n",
       "      <td>True</td>\n",
       "      <td>Surmatelas</td>\n",
       "      <td>True</td>\n",
       "      <td>90x190</td>\n",
       "      <td>None</td>\n",
       "      <td>90</td>\n",
       "      <td>190</td>\n",
       "    </tr>\n",
       "    <tr>\n",
       "      <th>292</th>\n",
       "      <td>182183426</td>\n",
       "      <td>Douceur d interieur housse de clic clac matela...</td>\n",
       "      <td>Autre vendeur</td>\n",
       "      <td>Jardin Loisirs Sport</td>\n",
       "      <td>Housse mobilier ext</td>\n",
       "      <td>2021-01-21</td>\n",
       "      <td>19</td>\n",
       "      <td>1</td>\n",
       "      <td>4.92</td>\n",
       "      <td>8.0</td>\n",
       "      <td>14.08</td>\n",
       "      <td>True</td>\n",
       "      <td>Housse de chaise</td>\n",
       "      <td>True</td>\n",
       "      <td>None</td>\n",
       "      <td>noir</td>\n",
       "      <td>None</td>\n",
       "      <td>None</td>\n",
       "    </tr>\n",
       "    <tr>\n",
       "      <th>344</th>\n",
       "      <td>181982876</td>\n",
       "      <td>Matelas Cosy 90x190cm 20 cm d épaisseur Mémoir...</td>\n",
       "      <td>Autre vendeur</td>\n",
       "      <td>Chambre Literie</td>\n",
       "      <td>Matelas</td>\n",
       "      <td>2021-01-18</td>\n",
       "      <td>157</td>\n",
       "      <td>1</td>\n",
       "      <td>0.00</td>\n",
       "      <td>12.0</td>\n",
       "      <td>157.00</td>\n",
       "      <td>True</td>\n",
       "      <td>Surmatelas</td>\n",
       "      <td>True</td>\n",
       "      <td>90x190</td>\n",
       "      <td>None</td>\n",
       "      <td>90</td>\n",
       "      <td>190</td>\n",
       "    </tr>\n",
       "    <tr>\n",
       "      <th>352</th>\n",
       "      <td>181986659</td>\n",
       "      <td>Matelas Atlanta 90x200 cm Ep 20cm Mémoire de f...</td>\n",
       "      <td>Autre vendeur</td>\n",
       "      <td>Chambre Literie</td>\n",
       "      <td>Matelas</td>\n",
       "      <td>2021-01-18</td>\n",
       "      <td>176</td>\n",
       "      <td>1</td>\n",
       "      <td>0.00</td>\n",
       "      <td>12.0</td>\n",
       "      <td>176.00</td>\n",
       "      <td>True</td>\n",
       "      <td>Matelas</td>\n",
       "      <td>True</td>\n",
       "      <td>90x200</td>\n",
       "      <td>None</td>\n",
       "      <td>90</td>\n",
       "      <td>200</td>\n",
       "    </tr>\n",
       "    <tr>\n",
       "      <th>363</th>\n",
       "      <td>182408336</td>\n",
       "      <td>Lit d enfant maison cabane à sommier à lattes ...</td>\n",
       "      <td>Autre vendeur</td>\n",
       "      <td>Enfant Bébé</td>\n",
       "      <td>Lit jeune</td>\n",
       "      <td>2021-01-23</td>\n",
       "      <td>397</td>\n",
       "      <td>1</td>\n",
       "      <td>0.00</td>\n",
       "      <td>8.0</td>\n",
       "      <td>397.00</td>\n",
       "      <td>True</td>\n",
       "      <td>Lit jeune</td>\n",
       "      <td>True</td>\n",
       "      <td>70 x 140</td>\n",
       "      <td>gris</td>\n",
       "      <td>70</td>\n",
       "      <td>140</td>\n",
       "    </tr>\n",
       "  </tbody>\n",
       "</table>\n",
       "</div>"
      ],
      "text/plain": [
       "       Cod_cmd                                    Libellé produit  \\\n",
       "72   183685444  Surmatelas mousse mémoire de forme 10 zones 90...   \n",
       "292  182183426  Douceur d interieur housse de clic clac matela...   \n",
       "344  181982876  Matelas Cosy 90x190cm 20 cm d épaisseur Mémoir...   \n",
       "352  181986659  Matelas Atlanta 90x200 cm Ep 20cm Mémoire de f...   \n",
       "363  182408336  Lit d enfant maison cabane à sommier à lattes ...   \n",
       "\n",
       "           Vendeur               Univers               Nature  \\\n",
       "72   Autre vendeur       Chambre Literie           Surmatelas   \n",
       "292  Autre vendeur  Jardin Loisirs Sport  Housse mobilier ext   \n",
       "344  Autre vendeur       Chambre Literie              Matelas   \n",
       "352  Autre vendeur       Chambre Literie              Matelas   \n",
       "363  Autre vendeur           Enfant Bébé            Lit jeune   \n",
       "\n",
       "    Date de commande  Montant cmd  Quantité  Prix transport  \\\n",
       "72        2021-02-07           31         1           14.08   \n",
       "292       2021-01-21           19         1            4.92   \n",
       "344       2021-01-18          157         1            0.00   \n",
       "352       2021-01-18          176         1            0.00   \n",
       "363       2021-01-23          397         1            0.00   \n",
       "\n",
       "     Délai transport annoncé  Montant cmd sans transport  String_Exists  \\\n",
       "72                      10.0                       16.92           True   \n",
       "292                      8.0                       14.08           True   \n",
       "344                     12.0                      157.00           True   \n",
       "352                     12.0                      176.00           True   \n",
       "363                      8.0                      397.00           True   \n",
       "\n",
       "              Nature2  matelas Dimension Couleur Longueur Largeur  \n",
       "72         Surmatelas     True    90x190    None       90     190  \n",
       "292  Housse de chaise     True      None    noir     None    None  \n",
       "344        Surmatelas     True    90x190    None       90     190  \n",
       "352           Matelas     True    90x200    None       90     200  \n",
       "363         Lit jeune     True  70 x 140    gris      70      140  "
      ]
     },
     "execution_count": 22,
     "metadata": {},
     "output_type": "execute_result"
    }
   ],
   "source": [
    "\n",
    "\n",
    "dimension = r'(\\d+(?:\\.\\d+)?(?:\\s*[xX*]\\s*\\d+(?:\\.\\d+)?)+)(?:\\s*[xX*]\\s*\\d+(?:\\.\\d+)?)+)\\s*(cm|mm|inch|in)?'\n",
    "couleurs = r'(blanc|noir|rouge|vert|bleu|jaune|rose|violet|marron|orange|gris)'\n",
    "\n",
    "\n",
    "dimensions = []\n",
    "couleur = []\n",
    "\n",
    "\n",
    "for description in mat['Libellé produit']:\n",
    "    dimension_matches = re.findall(dimension, description)\n",
    "    couleur_matches = re.findall(couleurs, description, flags=re.IGNORECASE)\n",
    "\n",
    "    if dimension_matches:\n",
    "        dimensions.append(dimension_matches[0][0])\n",
    "    else:\n",
    "        dimensions.append(None)\n",
    "\n",
    "    if couleur_matches:\n",
    "        couleur.append(couleur_matches[0])\n",
    "    else:\n",
    "        couleur.append(None)\n",
    "\n",
    "\n",
    "mat['Dimension'] = dimensions\n",
    "mat['Couleur'] = couleur\n",
    "\n",
    "mat['Longueur'] = None\n",
    "mat['Largeur'] = None\n",
    "\n",
    "for i, row in mat.iterrows():\n",
    "    if row['Dimension'] is not None:\n",
    "        dimensions = row['Dimension'].split('x')\n",
    "        if len(dimensions) == 2:\n",
    "            mat.at[i, 'Longueur'] = dimensions[0]\n",
    "            mat.at[i, 'Largeur'] = dimensions[1]\n",
    "\n",
    "mat.head()"
   ]
  },
  {
   "cell_type": "markdown",
   "metadata": {},
   "source": [
    "An analysis view of the evolution of sales and specific prices for mattresses."
   ]
  },
  {
   "cell_type": "code",
   "execution_count": null,
   "metadata": {},
   "outputs": [
    {
     "data": {
      "image/png": "[encoded data removed]",
      "text/plain": [
       "<Figure size 1200x600 with 2 Axes>"
      ]
     },
     "metadata": {},
     "output_type": "display_data"
    }
   ],
   "source": [
    "ma = mat.groupby('Date de commande')[['Montant cmd', 'Prix transport', 'Montant cmd sans transport']].sum().reset_index()\n",
    "\n",
    "\n",
    "plt.figure(figsize=(12, 6)) \n",
    "\n",
    "ax1 = plt.subplot()\n",
    "\n",
    "ax1.plot(ma['Date de commande'], ma['Montant cmd'], color='b', label='Chiffre d\\'affaires')\n",
    "ax1.set_xlabel('Date de la commande')\n",
    "ax1.set_ylabel('Chiffre d\\'affaires', color='b')\n",
    "\n",
    "ax2 = ax1.twinx()\n",
    "ax2.plot(ma['Date de commande'], ma['Prix transport'], color='r', label='Frais de transport')\n",
    "ax2.set_ylabel('Frais de transport', color='r')\n",
    "\n",
    "\n",
    "lines, labels = ax1.get_legend_handles_labels()\n",
    "lines2, labels2 = ax2.get_legend_handles_labels()\n",
    "ax1.legend(lines + lines2, labels + labels2, loc='upper left')\n",
    "\n",
    "plt.title('Evolution des ventes des matelas et leur prix de transport')\n",
    "plt.tight_layout() \n",
    "plt.show()\n"
   ]
  },
  {
   "cell_type": "markdown",
   "metadata": {},
   "source": [
    "\n",
    "Sales of mattresses by seller"
   ]
  },
  {
   "cell_type": "code",
   "execution_count": null,
   "metadata": {},
   "outputs": [
    {
     "data": {
      "image/png": "[encoded data removed]",
      "text/plain": [
       "<Figure size 1000x600 with 1 Axes>"
      ]
     },
     "metadata": {},
     "output_type": "display_data"
    }
   ],
   "source": [
    "vendeurs_matelas = mat.groupby('Vendeur')[['Montant cmd sans transport', 'Prix transport', 'Montant cmd']].sum().reset_index()\n",
    "\n",
    "# Visualisation\n",
    "plt.figure(figsize=(10, 6))\n",
    "plt.bar(vendeurs_matelas['Vendeur'], vendeurs_matelas['Montant cmd sans transport'], label='Ventes', color='blue')\n",
    "plt.bar(vendeurs_matelas['Vendeur'], vendeurs_matelas['Prix transport'], label='Transport', color='coral', alpha=0.7)\n",
    "plt.xlabel('Vendeurs')\n",
    "plt.ylabel('Montant')\n",
    "plt.title(\"Composition du chiffre d'affaires par vendeur\")\n",
    "plt.legend()\n",
    "plt.xticks(rotation=45)\n",
    "\n",
    "plt.tight_layout()\n",
    "plt.show()\n"
   ]
  },
  {
   "cell_type": "markdown",
   "metadata": {},
   "source": [
    "Influence of transport duration on sales."
   ]
  },
  {
   "cell_type": "code",
   "execution_count": null,
   "metadata": {},
   "outputs": [
    {
     "data": {
      "image/png": "[encoded data removed]",
      "text/plain": [
       "<Figure size 1000x600 with 1 Axes>"
      ]
     },
     "metadata": {},
     "output_type": "display_data"
    }
   ],
   "source": [
    "dure = mat.groupby('Délai transport annoncé')[['Montant cmd sans transport', 'Prix transport', 'Montant cmd']].sum().reset_index()\n",
    "\n",
    "plt.figure(figsize=(10, 6))\n",
    "ax = plt.subplot()\n",
    "ax.plot(dure['Délai transport annoncé'], dure['Montant cmd'])\n",
    "\n",
    "plt.xlabel('Durée de transport')\n",
    "plt.ylabel('Ventes')\n",
    "plt.title('Evolution des ventes en fonction de durée de transport')\n",
    "\n",
    "plt.tight_layout()\n",
    "plt.show()"
   ]
  }
 ],
 "metadata": {
  "kernelspec": {
   "display_name": "Python 3 (ipykernel)",
   "language": "python",
   "name": "python3"
  },
  "language_info": {
   "codemirror_mode": {
    "name": "ipython",
    "version": 3
   },
   "file_extension": ".py",
   "mimetype": "text/x-python",
   "name": "python",
   "nbconvert_exporter": "python",
   "pygments_lexer": "ipython3",
   "version": "3.11.5"
  }
 },
 "nbformat": 4,
 "nbformat_minor": 4
}

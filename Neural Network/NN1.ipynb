{
 "cells": [
  {
   "cell_type": "code",
   "execution_count": 1,
   "id": "8fbe506b-7701-43af-b487-b08f5c409e87",
   "metadata": {},
   "outputs": [],
   "source": [
    "import numpy as np\n",
    "import pandas as pd\n",
    "import matplotlib.pyplot as plt\n",
    "import seaborn as sns\n",
    "import plotly.express as px"
   ]
  },
  {
   "cell_type": "markdown",
   "id": "0c5281bf-1abc-4639-88ea-5dd2be92b683",
   "metadata": {},
   "source": [
    "#### Initializing the parameters that we are going to use in our demo"
   ]
  },
  {
   "cell_type": "code",
   "execution_count": 16,
   "id": "0f0776cc-9805-4807-96f6-7058defbd3b6",
   "metadata": {},
   "outputs": [],
   "source": [
    "num_inputs = 3\n",
    "w = np.random.randn(num_inputs)\n",
    "x = np.random.rand(num_inputs)\n",
    "bias = 0.1\n",
    "target =1"
   ]
  },
  {
   "cell_type": "markdown",
   "id": "e7e50850-b6be-4480-9398-5c512406fded",
   "metadata": {},
   "source": [
    "#### Calculating the weighted sum of the neurone"
   ]
  },
  {
   "cell_type": "code",
   "execution_count": 17,
   "id": "59166959-d33a-4b17-ae0a-20ea871d95f2",
   "metadata": {},
   "outputs": [
    {
     "name": "stdout",
     "output_type": "stream",
     "text": [
      "1.8162580525876122\n"
     ]
    }
   ],
   "source": [
    "z_1 = np.dot(w, x) + bias\n",
    "print(z_1)"
   ]
  },
  {
   "cell_type": "markdown",
   "id": "4ffef779-7dcb-4219-8779-0b5e777fa072",
   "metadata": {},
   "source": [
    "#### Calculating the function of activation using Sigmoid function and calculating the loss function using cross entroy Loss (both for classification purposes)"
   ]
  },
  {
   "cell_type": "code",
   "execution_count": 18,
   "id": "66ca3241-5704-459e-972b-c5ed33b5d056",
   "metadata": {},
   "outputs": [
    {
     "name": "stdout",
     "output_type": "stream",
     "text": [
      "Output: 0.8601165169317778\n",
      "Loss: 0.15068741410742803\n"
     ]
    }
   ],
   "source": [
    "y_1 = 1 / (1 + np.exp(-z_1))\n",
    "loss = -target * np.log(y_1) - (1 - target) * np.log(1 - y_1)\n",
    "\n",
    "print(\"Output:\", y_1)\n",
    "print(\"Loss:\", loss)"
   ]
  },
  {
   "cell_type": "markdown",
   "id": "46b10216-fd9d-4d2d-96da-7c0c5508b9c5",
   "metadata": {},
   "source": [
    "Output = 0.8601: This means the model predicts an 86.01% probability that the input belongs to the positive class (e.g., class 1).\n",
    "\n",
    "Confidence: The model is confidently predicting the positive class (close to 1)."
   ]
  },
  {
   "cell_type": "markdown",
   "id": "4146e9e6-e09d-4446-a1fb-d7f812b08d84",
   "metadata": {},
   "source": [
    "Low Loss: A loss of 0.1507 indicates the prediction (0.8601) is close to the target (1), so the model is performing well for this input.\n",
    "\n",
    "Training Implications: Small gradients during backpropagation (weights/bias won’t change drastically).\n",
    "\n",
    "The model is already making a reasonable prediction."
   ]
  },
  {
   "cell_type": "markdown",
   "id": "367475d5-fc60-431e-8f51-c397aded51a3",
   "metadata": {},
   "source": [
    "### !! Keep in mind that this is only one neurone calculating random numbers and by adding multiple neurones and multiple layers the results will greatly differs and also the interpretations"
   ]
  }
 ],
 "metadata": {
  "kernelspec": {
   "display_name": "Python 3 (ipykernel)",
   "language": "python",
   "name": "python3"
  },
  "language_info": {
   "codemirror_mode": {
    "name": "ipython",
    "version": 3
   },
   "file_extension": ".py",
   "mimetype": "text/x-python",
   "name": "python",
   "nbconvert_exporter": "python",
   "pygments_lexer": "ipython3",
   "version": "3.11.5"
  }
 },
 "nbformat": 4,
 "nbformat_minor": 5
}
